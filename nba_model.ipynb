{
  "nbformat": 4,
  "nbformat_minor": 0,
  "metadata": {
    "colab": {
      "name": "nba_model.ipynb",
      "version": "0.3.2",
      "provenance": [],
      "collapsed_sections": []
    },
    "kernelspec": {
      "name": "python3",
      "display_name": "Python 3"
    },
    "accelerator": "GPU"
  },
  "cells": [
    {
      "cell_type": "code",
      "metadata": {
        "id": "3PJh8GCBygUD",
        "colab_type": "code",
        "outputId": "4a23edb0-8d56-4f6c-8eed-dd8f999ef51d",
        "colab": {
          "base_uri": "https://localhost:8080/",
          "height": 55
        }
      },
      "source": [
        "# Load the Drive helper and mount\n",
        "from google.colab import drive\n",
        "\n",
        "# This will prompt for authorization.\n",
        "drive.mount('/content/drive')"
      ],
      "execution_count": 3,
      "outputs": [
        {
          "output_type": "stream",
          "text": [
            "Drive already mounted at /content/drive; to attempt to forcibly remount, call drive.mount(\"/content/drive\", force_remount=True).\n"
          ],
          "name": "stdout"
        }
      ]
    },
    {
      "cell_type": "markdown",
      "metadata": {
        "id": "d1j1nf40Jqin",
        "colab_type": "text"
      },
      "source": [
        "## Imports"
      ]
    },
    {
      "cell_type": "code",
      "metadata": {
        "id": "LYvPY7HsyiC9",
        "colab_type": "code",
        "colab": {}
      },
      "source": [
        "import pandas as pd\n",
        "import numpy as np\n",
        "import seaborn as sns\n",
        "import matplotlib.pyplot as plt\n",
        "import os\n",
        "import gc\n",
        "import re\n",
        "\n",
        "from tqdm import tqdm\n",
        "tqdm.pandas()\n",
        "\n",
        "from sklearn.feature_extraction.text import TfidfVectorizer, CountVectorizer\n",
        "from sklearn.model_selection import KFold, StratifiedKFold\n",
        "from sklearn.metrics import roc_auc_score\n",
        "from sklearn.preprocessing import scale, minmax_scale\n",
        "from scipy.stats import norm\n",
        "from sklearn.utils.validation import check_array\n",
        "from sklearn.metrics import mean_absolute_error\n",
        "\n",
        "import xgboost as xgb\n",
        "import lightgbm as lgb\n",
        "\n",
        "import warnings\n",
        "warnings.simplefilter(action='ignore')\n",
        "warnings.filterwarnings('ignore')\n",
        "\n",
        "# change to path\n",
        "PATH='/content/drive/My Drive/Colab Notebooks/nba/'\n",
        "os.chdir(PATH)"
      ],
      "execution_count": 0,
      "outputs": []
    },
    {
      "cell_type": "markdown",
      "metadata": {
        "id": "R0IPldBKJsUe",
        "colab_type": "text"
      },
      "source": [
        "## Read in"
      ]
    },
    {
      "cell_type": "code",
      "metadata": {
        "id": "FitXRBMFRMpH",
        "colab_type": "code",
        "outputId": "4b105ec0-5471-4637-e086-1aabdbb1f2bd",
        "colab": {
          "base_uri": "https://localhost:8080/",
          "height": 546
        }
      },
      "source": [
        "train = pd.read_csv(f'{PATH}/dataset/train.csv')\n",
        "# test = pd.read_csv(f'{PATH}/dataset/holdout.csv')\n",
        "\n",
        "train.head()"
      ],
      "execution_count": 5,
      "outputs": [
        {
          "output_type": "execute_result",
          "data": {
            "text/html": [
              "<div>\n",
              "<style scoped>\n",
              "    .dataframe tbody tr th:only-of-type {\n",
              "        vertical-align: middle;\n",
              "    }\n",
              "\n",
              "    .dataframe tbody tr th {\n",
              "        vertical-align: top;\n",
              "    }\n",
              "\n",
              "    .dataframe thead th {\n",
              "        text-align: right;\n",
              "    }\n",
              "</style>\n",
              "<table border=\"1\" class=\"dataframe\">\n",
              "  <thead>\n",
              "    <tr style=\"text-align: right;\">\n",
              "      <th></th>\n",
              "      <th>Engagements</th>\n",
              "      <th>Followers at Posting</th>\n",
              "      <th>Created</th>\n",
              "      <th>Type</th>\n",
              "      <th>Description</th>\n",
              "      <th>date</th>\n",
              "      <th>time</th>\n",
              "      <th>tz</th>\n",
              "      <th>date_tsfmYear</th>\n",
              "      <th>date_tsfmMonth</th>\n",
              "      <th>date_tsfmWeek</th>\n",
              "      <th>date_tsfmDay</th>\n",
              "      <th>date_tsfmDayofweek</th>\n",
              "      <th>date_tsfmDayofyear</th>\n",
              "      <th>date_tsfmIs_month_end</th>\n",
              "      <th>date_tsfmIs_month_start</th>\n",
              "      <th>date_tsfmIs_quarter_end</th>\n",
              "      <th>date_tsfmIs_quarter_start</th>\n",
              "      <th>date_tsfmIs_year_end</th>\n",
              "      <th>date_tsfmIs_year_start</th>\n",
              "      <th>date_tsfmElapsed</th>\n",
              "      <th>time_split</th>\n",
              "      <th>hour</th>\n",
              "      <th>minute</th>\n",
              "      <th>Type_Album</th>\n",
              "      <th>Type_Photo</th>\n",
              "      <th>Type_Video</th>\n",
              "      <th>num_hashes</th>\n",
              "      <th>num_at_signs</th>\n",
              "      <th>num_punct</th>\n",
              "      <th>num_tokens</th>\n",
              "      <th>num_upper</th>\n",
              "      <th>clean_des</th>\n",
              "    </tr>\n",
              "  </thead>\n",
              "  <tbody>\n",
              "    <tr>\n",
              "      <th>0</th>\n",
              "      <td>502093</td>\n",
              "      <td>36984682</td>\n",
              "      <td>2019-05-21 23:30:51 EDT</td>\n",
              "      <td>Video</td>\n",
              "      <td>The @raptors bench trio of @sergeibaka @norman...</td>\n",
              "      <td>2019-05-21</td>\n",
              "      <td>23:30:51</td>\n",
              "      <td>EDT</td>\n",
              "      <td>2019</td>\n",
              "      <td>5</td>\n",
              "      <td>21</td>\n",
              "      <td>21</td>\n",
              "      <td>1</td>\n",
              "      <td>141</td>\n",
              "      <td>False</td>\n",
              "      <td>False</td>\n",
              "      <td>False</td>\n",
              "      <td>False</td>\n",
              "      <td>False</td>\n",
              "      <td>False</td>\n",
              "      <td>1558396800</td>\n",
              "      <td>2330</td>\n",
              "      <td>23</td>\n",
              "      <td>30</td>\n",
              "      <td>0</td>\n",
              "      <td>0</td>\n",
              "      <td>1</td>\n",
              "      <td>0</td>\n",
              "      <td>4</td>\n",
              "      <td>1</td>\n",
              "      <td>15</td>\n",
              "      <td>2</td>\n",
              "      <td>The raptors bench trio of sergeibaka normanpow...</td>\n",
              "    </tr>\n",
              "    <tr>\n",
              "      <th>1</th>\n",
              "      <td>603380</td>\n",
              "      <td>36984682</td>\n",
              "      <td>2019-05-21 22:53:33 EDT</td>\n",
              "      <td>Video</td>\n",
              "      <td>@kyle_lowry7 pulls from deep for the @raptors ...</td>\n",
              "      <td>2019-05-21</td>\n",
              "      <td>22:53:33</td>\n",
              "      <td>EDT</td>\n",
              "      <td>2019</td>\n",
              "      <td>5</td>\n",
              "      <td>21</td>\n",
              "      <td>21</td>\n",
              "      <td>1</td>\n",
              "      <td>141</td>\n",
              "      <td>False</td>\n",
              "      <td>False</td>\n",
              "      <td>False</td>\n",
              "      <td>False</td>\n",
              "      <td>False</td>\n",
              "      <td>False</td>\n",
              "      <td>1558396800</td>\n",
              "      <td>2253</td>\n",
              "      <td>22</td>\n",
              "      <td>50</td>\n",
              "      <td>0</td>\n",
              "      <td>0</td>\n",
              "      <td>1</td>\n",
              "      <td>0</td>\n",
              "      <td>2</td>\n",
              "      <td>2</td>\n",
              "      <td>12</td>\n",
              "      <td>3</td>\n",
              "      <td>kylelowry7 pulls from deep for the raptors in ...</td>\n",
              "    </tr>\n",
              "    <tr>\n",
              "      <th>2</th>\n",
              "      <td>603380</td>\n",
              "      <td>36984682</td>\n",
              "      <td>2019-05-21 22:19:58 EDT</td>\n",
              "      <td>Video</td>\n",
              "      <td>@k_mid22 with some english on the @bucks dime!</td>\n",
              "      <td>2019-05-21</td>\n",
              "      <td>22:19:58</td>\n",
              "      <td>EDT</td>\n",
              "      <td>2019</td>\n",
              "      <td>5</td>\n",
              "      <td>21</td>\n",
              "      <td>21</td>\n",
              "      <td>1</td>\n",
              "      <td>141</td>\n",
              "      <td>False</td>\n",
              "      <td>False</td>\n",
              "      <td>False</td>\n",
              "      <td>False</td>\n",
              "      <td>False</td>\n",
              "      <td>False</td>\n",
              "      <td>1558396800</td>\n",
              "      <td>2219</td>\n",
              "      <td>22</td>\n",
              "      <td>20</td>\n",
              "      <td>0</td>\n",
              "      <td>0</td>\n",
              "      <td>1</td>\n",
              "      <td>0</td>\n",
              "      <td>2</td>\n",
              "      <td>2</td>\n",
              "      <td>8</td>\n",
              "      <td>0</td>\n",
              "      <td>kmid22 with some english on the bucks dime</td>\n",
              "    </tr>\n",
              "    <tr>\n",
              "      <th>3</th>\n",
              "      <td>725100</td>\n",
              "      <td>36984682</td>\n",
              "      <td>2019-05-21 22:02:41 EDT</td>\n",
              "      <td>Video</td>\n",
              "      <td>Kawhi punches it home with the left on TNT!</td>\n",
              "      <td>2019-05-21</td>\n",
              "      <td>22:02:41</td>\n",
              "      <td>EDT</td>\n",
              "      <td>2019</td>\n",
              "      <td>5</td>\n",
              "      <td>21</td>\n",
              "      <td>21</td>\n",
              "      <td>1</td>\n",
              "      <td>141</td>\n",
              "      <td>False</td>\n",
              "      <td>False</td>\n",
              "      <td>False</td>\n",
              "      <td>False</td>\n",
              "      <td>False</td>\n",
              "      <td>False</td>\n",
              "      <td>1558396800</td>\n",
              "      <td>2202</td>\n",
              "      <td>22</td>\n",
              "      <td>0</td>\n",
              "      <td>0</td>\n",
              "      <td>0</td>\n",
              "      <td>1</td>\n",
              "      <td>0</td>\n",
              "      <td>0</td>\n",
              "      <td>1</td>\n",
              "      <td>9</td>\n",
              "      <td>4</td>\n",
              "      <td>Kawhi punches it home with the left on TNT</td>\n",
              "    </tr>\n",
              "    <tr>\n",
              "      <th>4</th>\n",
              "      <td>661446</td>\n",
              "      <td>36984682</td>\n",
              "      <td>2019-05-21 20:47:49 EDT</td>\n",
              "      <td>Video</td>\n",
              "      <td>@giannis_an34 goes baseline early to rock the ...</td>\n",
              "      <td>2019-05-21</td>\n",
              "      <td>20:47:49</td>\n",
              "      <td>EDT</td>\n",
              "      <td>2019</td>\n",
              "      <td>5</td>\n",
              "      <td>21</td>\n",
              "      <td>21</td>\n",
              "      <td>1</td>\n",
              "      <td>141</td>\n",
              "      <td>False</td>\n",
              "      <td>False</td>\n",
              "      <td>False</td>\n",
              "      <td>False</td>\n",
              "      <td>False</td>\n",
              "      <td>False</td>\n",
              "      <td>1558396800</td>\n",
              "      <td>2047</td>\n",
              "      <td>20</td>\n",
              "      <td>50</td>\n",
              "      <td>0</td>\n",
              "      <td>0</td>\n",
              "      <td>1</td>\n",
              "      <td>0</td>\n",
              "      <td>1</td>\n",
              "      <td>2</td>\n",
              "      <td>10</td>\n",
              "      <td>3</td>\n",
              "      <td>giannisan34 goes baseline early to rock the ri...</td>\n",
              "    </tr>\n",
              "  </tbody>\n",
              "</table>\n",
              "</div>"
            ],
            "text/plain": [
              "   Engagements  ...                                          clean_des\n",
              "0       502093  ...  The raptors bench trio of sergeibaka normanpow...\n",
              "1       603380  ...  kylelowry7 pulls from deep for the raptors in ...\n",
              "2       603380  ...         kmid22 with some english on the bucks dime\n",
              "3       725100  ...         Kawhi punches it home with the left on TNT\n",
              "4       661446  ...  giannisan34 goes baseline early to rock the ri...\n",
              "\n",
              "[5 rows x 33 columns]"
            ]
          },
          "metadata": {
            "tags": []
          },
          "execution_count": 5
        }
      ]
    },
    {
      "cell_type": "code",
      "metadata": {
        "id": "mKjUCoIcJI1N",
        "colab_type": "code",
        "outputId": "0b2cf2c3-18d4-49b7-d6b2-da32e21566ec",
        "colab": {
          "base_uri": "https://localhost:8080/",
          "height": 605
        }
      },
      "source": [
        "train.isna().sum()"
      ],
      "execution_count": 6,
      "outputs": [
        {
          "output_type": "execute_result",
          "data": {
            "text/plain": [
              "Engagements                   0\n",
              "Followers at Posting          0\n",
              "Created                       0\n",
              "Type                          0\n",
              "Description                  14\n",
              "date                          0\n",
              "time                          0\n",
              "tz                            0\n",
              "date_tsfmYear                 0\n",
              "date_tsfmMonth                0\n",
              "date_tsfmWeek                 0\n",
              "date_tsfmDay                  0\n",
              "date_tsfmDayofweek            0\n",
              "date_tsfmDayofyear            0\n",
              "date_tsfmIs_month_end         0\n",
              "date_tsfmIs_month_start       0\n",
              "date_tsfmIs_quarter_end       0\n",
              "date_tsfmIs_quarter_start     0\n",
              "date_tsfmIs_year_end          0\n",
              "date_tsfmIs_year_start        0\n",
              "date_tsfmElapsed              0\n",
              "time_split                    0\n",
              "hour                          0\n",
              "minute                        0\n",
              "Type_Album                    0\n",
              "Type_Photo                    0\n",
              "Type_Video                    0\n",
              "num_hashes                    0\n",
              "num_at_signs                  0\n",
              "num_punct                     0\n",
              "num_tokens                    0\n",
              "num_upper                     0\n",
              "clean_des                    50\n",
              "dtype: int64"
            ]
          },
          "metadata": {
            "tags": []
          },
          "execution_count": 6
        }
      ]
    },
    {
      "cell_type": "code",
      "metadata": {
        "id": "UL4n3PjPJFRK",
        "colab_type": "code",
        "colab": {}
      },
      "source": [
        "train.fillna('', inplace=True)"
      ],
      "execution_count": 0,
      "outputs": []
    },
    {
      "cell_type": "code",
      "metadata": {
        "id": "Eilv-pivbbKX",
        "colab_type": "code",
        "colab": {}
      },
      "source": [
        "# len(train), len(test)"
      ],
      "execution_count": 0,
      "outputs": []
    },
    {
      "cell_type": "code",
      "metadata": {
        "id": "FY_K0JZOdcPa",
        "colab_type": "code",
        "colab": {}
      },
      "source": [
        "tfidf = TfidfVectorizer(analyzer='word',\n",
        "                     ngram_range=(1,2),\n",
        "                     min_df=3,\n",
        "                     max_df=0.05,\n",
        "                     stop_words='english')\n",
        "\n",
        "tfidf_matrix = tfidf.fit_transform(train['clean_des'])\n",
        "\n",
        "vocab = tfidf.get_feature_names()"
      ],
      "execution_count": 0,
      "outputs": []
    },
    {
      "cell_type": "code",
      "metadata": {
        "id": "tEaAjXYXLFxQ",
        "colab_type": "code",
        "outputId": "ef96c7e1-4187-48c3-80df-044ef8c0285f",
        "colab": {
          "base_uri": "https://localhost:8080/",
          "height": 35
        }
      },
      "source": [
        "tfidf_matrix.shape"
      ],
      "execution_count": 10,
      "outputs": [
        {
          "output_type": "execute_result",
          "data": {
            "text/plain": [
              "(7766, 4391)"
            ]
          },
          "metadata": {
            "tags": []
          },
          "execution_count": 10
        }
      ]
    },
    {
      "cell_type": "markdown",
      "metadata": {
        "id": "KcqGMd-yLBr4",
        "colab_type": "text"
      },
      "source": [
        "## Dimensionality reduction\n",
        "Reduce dimension of TF-IDF matrix from (7,766, 4,391) to (7,766, 100)."
      ]
    },
    {
      "cell_type": "code",
      "metadata": {
        "id": "edgfOtlqeChZ",
        "colab_type": "code",
        "colab": {}
      },
      "source": [
        "from sklearn.decomposition import TruncatedSVD\n",
        "\n",
        "svd = TruncatedSVD(n_components=100, n_iter=10, random_state=42)\n",
        "smaller_d_matrix = svd.fit_transform(tfidf_matrix)"
      ],
      "execution_count": 0,
      "outputs": []
    },
    {
      "cell_type": "markdown",
      "metadata": {
        "id": "1CtqIF4MLBIH",
        "colab_type": "text"
      },
      "source": [
        "## Feature selection"
      ]
    },
    {
      "cell_type": "code",
      "metadata": {
        "id": "pOkh_96yLlWk",
        "colab_type": "code",
        "outputId": "53beac3e-f646-46ab-c773-88a61c897c11",
        "colab": {
          "base_uri": "https://localhost:8080/",
          "height": 546
        }
      },
      "source": [
        "train.head()"
      ],
      "execution_count": 12,
      "outputs": [
        {
          "output_type": "execute_result",
          "data": {
            "text/html": [
              "<div>\n",
              "<style scoped>\n",
              "    .dataframe tbody tr th:only-of-type {\n",
              "        vertical-align: middle;\n",
              "    }\n",
              "\n",
              "    .dataframe tbody tr th {\n",
              "        vertical-align: top;\n",
              "    }\n",
              "\n",
              "    .dataframe thead th {\n",
              "        text-align: right;\n",
              "    }\n",
              "</style>\n",
              "<table border=\"1\" class=\"dataframe\">\n",
              "  <thead>\n",
              "    <tr style=\"text-align: right;\">\n",
              "      <th></th>\n",
              "      <th>Engagements</th>\n",
              "      <th>Followers at Posting</th>\n",
              "      <th>Created</th>\n",
              "      <th>Type</th>\n",
              "      <th>Description</th>\n",
              "      <th>date</th>\n",
              "      <th>time</th>\n",
              "      <th>tz</th>\n",
              "      <th>date_tsfmYear</th>\n",
              "      <th>date_tsfmMonth</th>\n",
              "      <th>date_tsfmWeek</th>\n",
              "      <th>date_tsfmDay</th>\n",
              "      <th>date_tsfmDayofweek</th>\n",
              "      <th>date_tsfmDayofyear</th>\n",
              "      <th>date_tsfmIs_month_end</th>\n",
              "      <th>date_tsfmIs_month_start</th>\n",
              "      <th>date_tsfmIs_quarter_end</th>\n",
              "      <th>date_tsfmIs_quarter_start</th>\n",
              "      <th>date_tsfmIs_year_end</th>\n",
              "      <th>date_tsfmIs_year_start</th>\n",
              "      <th>date_tsfmElapsed</th>\n",
              "      <th>time_split</th>\n",
              "      <th>hour</th>\n",
              "      <th>minute</th>\n",
              "      <th>Type_Album</th>\n",
              "      <th>Type_Photo</th>\n",
              "      <th>Type_Video</th>\n",
              "      <th>num_hashes</th>\n",
              "      <th>num_at_signs</th>\n",
              "      <th>num_punct</th>\n",
              "      <th>num_tokens</th>\n",
              "      <th>num_upper</th>\n",
              "      <th>clean_des</th>\n",
              "    </tr>\n",
              "  </thead>\n",
              "  <tbody>\n",
              "    <tr>\n",
              "      <th>0</th>\n",
              "      <td>502093</td>\n",
              "      <td>36984682</td>\n",
              "      <td>2019-05-21 23:30:51 EDT</td>\n",
              "      <td>Video</td>\n",
              "      <td>The @raptors bench trio of @sergeibaka @norman...</td>\n",
              "      <td>2019-05-21</td>\n",
              "      <td>23:30:51</td>\n",
              "      <td>EDT</td>\n",
              "      <td>2019</td>\n",
              "      <td>5</td>\n",
              "      <td>21</td>\n",
              "      <td>21</td>\n",
              "      <td>1</td>\n",
              "      <td>141</td>\n",
              "      <td>False</td>\n",
              "      <td>False</td>\n",
              "      <td>False</td>\n",
              "      <td>False</td>\n",
              "      <td>False</td>\n",
              "      <td>False</td>\n",
              "      <td>1558396800</td>\n",
              "      <td>2330</td>\n",
              "      <td>23</td>\n",
              "      <td>30</td>\n",
              "      <td>0</td>\n",
              "      <td>0</td>\n",
              "      <td>1</td>\n",
              "      <td>0</td>\n",
              "      <td>4</td>\n",
              "      <td>1</td>\n",
              "      <td>15</td>\n",
              "      <td>2</td>\n",
              "      <td>The raptors bench trio of sergeibaka normanpow...</td>\n",
              "    </tr>\n",
              "    <tr>\n",
              "      <th>1</th>\n",
              "      <td>603380</td>\n",
              "      <td>36984682</td>\n",
              "      <td>2019-05-21 22:53:33 EDT</td>\n",
              "      <td>Video</td>\n",
              "      <td>@kyle_lowry7 pulls from deep for the @raptors ...</td>\n",
              "      <td>2019-05-21</td>\n",
              "      <td>22:53:33</td>\n",
              "      <td>EDT</td>\n",
              "      <td>2019</td>\n",
              "      <td>5</td>\n",
              "      <td>21</td>\n",
              "      <td>21</td>\n",
              "      <td>1</td>\n",
              "      <td>141</td>\n",
              "      <td>False</td>\n",
              "      <td>False</td>\n",
              "      <td>False</td>\n",
              "      <td>False</td>\n",
              "      <td>False</td>\n",
              "      <td>False</td>\n",
              "      <td>1558396800</td>\n",
              "      <td>2253</td>\n",
              "      <td>22</td>\n",
              "      <td>50</td>\n",
              "      <td>0</td>\n",
              "      <td>0</td>\n",
              "      <td>1</td>\n",
              "      <td>0</td>\n",
              "      <td>2</td>\n",
              "      <td>2</td>\n",
              "      <td>12</td>\n",
              "      <td>3</td>\n",
              "      <td>kylelowry7 pulls from deep for the raptors in ...</td>\n",
              "    </tr>\n",
              "    <tr>\n",
              "      <th>2</th>\n",
              "      <td>603380</td>\n",
              "      <td>36984682</td>\n",
              "      <td>2019-05-21 22:19:58 EDT</td>\n",
              "      <td>Video</td>\n",
              "      <td>@k_mid22 with some english on the @bucks dime!</td>\n",
              "      <td>2019-05-21</td>\n",
              "      <td>22:19:58</td>\n",
              "      <td>EDT</td>\n",
              "      <td>2019</td>\n",
              "      <td>5</td>\n",
              "      <td>21</td>\n",
              "      <td>21</td>\n",
              "      <td>1</td>\n",
              "      <td>141</td>\n",
              "      <td>False</td>\n",
              "      <td>False</td>\n",
              "      <td>False</td>\n",
              "      <td>False</td>\n",
              "      <td>False</td>\n",
              "      <td>False</td>\n",
              "      <td>1558396800</td>\n",
              "      <td>2219</td>\n",
              "      <td>22</td>\n",
              "      <td>20</td>\n",
              "      <td>0</td>\n",
              "      <td>0</td>\n",
              "      <td>1</td>\n",
              "      <td>0</td>\n",
              "      <td>2</td>\n",
              "      <td>2</td>\n",
              "      <td>8</td>\n",
              "      <td>0</td>\n",
              "      <td>kmid22 with some english on the bucks dime</td>\n",
              "    </tr>\n",
              "    <tr>\n",
              "      <th>3</th>\n",
              "      <td>725100</td>\n",
              "      <td>36984682</td>\n",
              "      <td>2019-05-21 22:02:41 EDT</td>\n",
              "      <td>Video</td>\n",
              "      <td>Kawhi punches it home with the left on TNT!</td>\n",
              "      <td>2019-05-21</td>\n",
              "      <td>22:02:41</td>\n",
              "      <td>EDT</td>\n",
              "      <td>2019</td>\n",
              "      <td>5</td>\n",
              "      <td>21</td>\n",
              "      <td>21</td>\n",
              "      <td>1</td>\n",
              "      <td>141</td>\n",
              "      <td>False</td>\n",
              "      <td>False</td>\n",
              "      <td>False</td>\n",
              "      <td>False</td>\n",
              "      <td>False</td>\n",
              "      <td>False</td>\n",
              "      <td>1558396800</td>\n",
              "      <td>2202</td>\n",
              "      <td>22</td>\n",
              "      <td>0</td>\n",
              "      <td>0</td>\n",
              "      <td>0</td>\n",
              "      <td>1</td>\n",
              "      <td>0</td>\n",
              "      <td>0</td>\n",
              "      <td>1</td>\n",
              "      <td>9</td>\n",
              "      <td>4</td>\n",
              "      <td>Kawhi punches it home with the left on TNT</td>\n",
              "    </tr>\n",
              "    <tr>\n",
              "      <th>4</th>\n",
              "      <td>661446</td>\n",
              "      <td>36984682</td>\n",
              "      <td>2019-05-21 20:47:49 EDT</td>\n",
              "      <td>Video</td>\n",
              "      <td>@giannis_an34 goes baseline early to rock the ...</td>\n",
              "      <td>2019-05-21</td>\n",
              "      <td>20:47:49</td>\n",
              "      <td>EDT</td>\n",
              "      <td>2019</td>\n",
              "      <td>5</td>\n",
              "      <td>21</td>\n",
              "      <td>21</td>\n",
              "      <td>1</td>\n",
              "      <td>141</td>\n",
              "      <td>False</td>\n",
              "      <td>False</td>\n",
              "      <td>False</td>\n",
              "      <td>False</td>\n",
              "      <td>False</td>\n",
              "      <td>False</td>\n",
              "      <td>1558396800</td>\n",
              "      <td>2047</td>\n",
              "      <td>20</td>\n",
              "      <td>50</td>\n",
              "      <td>0</td>\n",
              "      <td>0</td>\n",
              "      <td>1</td>\n",
              "      <td>0</td>\n",
              "      <td>1</td>\n",
              "      <td>2</td>\n",
              "      <td>10</td>\n",
              "      <td>3</td>\n",
              "      <td>giannisan34 goes baseline early to rock the ri...</td>\n",
              "    </tr>\n",
              "  </tbody>\n",
              "</table>\n",
              "</div>"
            ],
            "text/plain": [
              "   Engagements  ...                                          clean_des\n",
              "0       502093  ...  The raptors bench trio of sergeibaka normanpow...\n",
              "1       603380  ...  kylelowry7 pulls from deep for the raptors in ...\n",
              "2       603380  ...         kmid22 with some english on the bucks dime\n",
              "3       725100  ...         Kawhi punches it home with the left on TNT\n",
              "4       661446  ...  giannisan34 goes baseline early to rock the ri...\n",
              "\n",
              "[5 rows x 33 columns]"
            ]
          },
          "metadata": {
            "tags": []
          },
          "execution_count": 12
        }
      ]
    },
    {
      "cell_type": "markdown",
      "metadata": {
        "id": "hjZGAh24NdXo",
        "colab_type": "text"
      },
      "source": [
        "There are a few labels we can try out:\n",
        "\n",
        "*   `Engagement`\n",
        "*   `Engagement/Followers at Posting`\n",
        "*   `log(Engagement)`\n",
        "\n"
      ]
    },
    {
      "cell_type": "code",
      "metadata": {
        "id": "dm7qmZogSbaJ",
        "colab_type": "code",
        "outputId": "bd930dcd-8d81-493a-a37d-36cf66500c31",
        "colab": {
          "base_uri": "https://localhost:8080/",
          "height": 621
        }
      },
      "source": [
        "fig, axes = plt.subplots(2, 2, figsize=(12, 10))\n",
        "\n",
        "sns.distplot(train['Engagements'], \n",
        "             ax=axes[0][0], \n",
        "             color='r').\\\n",
        "                set_title('Engagements')\n",
        "\n",
        "sns.distplot(np.log(train['Engagements']), \n",
        "             ax=axes[0][1], \n",
        "             color='b').\\\n",
        "                set_title('log(Engagements)')\n",
        "\n",
        "sns.distplot(train['Engagements']/train['Followers at Posting'],\n",
        "             ax=axes[1][0], \n",
        "             color='g').\\\n",
        "                set_title('Engagements/Followers at Posting')\n",
        "\n",
        "sns.distplot(train['Followers at Posting'], \n",
        "             ax=axes[1][1], \n",
        "             color='y').\\\n",
        "                set_title('Number of Followers')\n",
        "\n",
        "plt.subplots_adjust(hspace=0.5)\n",
        "\n",
        "plt.show()"
      ],
      "execution_count": 13,
      "outputs": [
        {
          "output_type": "display_data",
          "data": {
            "image/png": "[encoded data removed]",
            "text/plain": [
              "<Figure size 864x720 with 4 Axes>"
            ]
          },
          "metadata": {
            "tags": []
          }
        }
      ]
    },
    {
      "cell_type": "code",
      "metadata": {
        "id": "2Auk_piWJp1n",
        "colab_type": "code",
        "outputId": "92bdaead-6dfb-47e5-df92-09165db8e698",
        "colab": {
          "base_uri": "https://localhost:8080/",
          "height": 35
        }
      },
      "source": [
        "y = ['Engagements']\n",
        "\n",
        "exclude = ['Created', 'Type', 'Description', 'date',\n",
        "           'time', 'tz', 'clean_des']\n",
        "\n",
        "cols = [c for c in train.columns if c not in y and c not in exclude]\n",
        "\n",
        "len(cols)\n",
        "\n",
        "# train[cols].head()"
      ],
      "execution_count": 15,
      "outputs": [
        {
          "output_type": "execute_result",
          "data": {
            "text/plain": [
              "25"
            ]
          },
          "metadata": {
            "tags": []
          },
          "execution_count": 15
        }
      ]
    },
    {
      "cell_type": "code",
      "metadata": {
        "id": "SnY3e4U4KoN3",
        "colab_type": "code",
        "colab": {}
      },
      "source": [
        "X_tr = np.concatenate([train[cols].values, smaller_d_matrix], axis=1)\n",
        "\n",
        "# X_tr = train['Followers at Posting'].values.reshape(-1, 1)\n",
        "\n",
        "y_tr = train['Engagements']"
      ],
      "execution_count": 0,
      "outputs": []
    },
    {
      "cell_type": "markdown",
      "metadata": {
        "id": "s-3f_leODcrc",
        "colab_type": "text"
      },
      "source": [
        "## Metric"
      ]
    },
    {
      "cell_type": "code",
      "metadata": {
        "id": "Ii_55pIeDeD8",
        "colab_type": "code",
        "colab": {}
      },
      "source": [
        "def mean_absolute_percentage_error(y_true, y_pred): \n",
        "    return np.mean(np.abs((y_true - y_pred) / y_true)) * 100\n",
        "\n",
        "def xgb_mape(y_true, dtrain):\n",
        "    labels = dtrain.get_label()\n",
        "    return 'mape', np.mean(np.abs((y_true - labels) / y_true)) * 100"
      ],
      "execution_count": 0,
      "outputs": []
    },
    {
      "cell_type": "markdown",
      "metadata": {
        "id": "qzUQT_qmShIk",
        "colab_type": "text"
      },
      "source": [
        "## Model"
      ]
    },
    {
      "cell_type": "code",
      "metadata": {
        "id": "7I-m5eUaVMiP",
        "colab_type": "code",
        "colab": {}
      },
      "source": [
        "random_state = 42\n",
        "np.random.seed(random_state)\n",
        "\n",
        "folds = 5\n",
        "skf = StratifiedKFold(n_splits=folds, shuffle=True, random_state=random_state)\n",
        "\n",
        "val_mae = []\n",
        "feature_importance_df = pd.DataFrame()\n",
        "\n",
        "oof = train[['Engagements']].copy()\n",
        "oof['predict'] = 0\n",
        "oof = oof.reset_index(drop=True)"
      ],
      "execution_count": 0,
      "outputs": []
    },
    {
      "cell_type": "code",
      "metadata": {
        "id": "L_lXJLA3Shqe",
        "colab_type": "code",
        "colab": {}
      },
      "source": [
        "xgb_params = {'objective': 'reg:squarederror',\n",
        "              'colsample_bytree': 0.3, \n",
        "              'learning_rate': 0.1,\n",
        "              'max_depth': 5, \n",
        "              'alpha': 10,}"
      ],
      "execution_count": 0,
      "outputs": []
    },
    {
      "cell_type": "code",
      "metadata": {
        "id": "Yjbz3a5EU57Q",
        "colab_type": "code",
        "outputId": "82a8dfbd-81af-4e06-aba8-64feee3108c9",
        "colab": {
          "base_uri": "https://localhost:8080/",
          "height": 1175
        }
      },
      "source": [
        "%%time\n",
        "for fold, (trn_idx, val_idx) in enumerate(skf.split(X_tr, y_tr)):\n",
        "    X_train, y_train = X_tr[trn_idx], y_tr[trn_idx]\n",
        "    X_valid, y_valid = X_tr[val_idx], y_tr[val_idx]\n",
        "    \n",
        "    dtrain = xgb.DMatrix(X_train, label=y_train)\n",
        "    dtest = xgb.DMatrix(X_valid, label=y_valid)\n",
        "        \n",
        "    xgb_clf = xgb.train(xgb_params,\n",
        "                        dtrain,\n",
        "                        5000,\n",
        "                        evals=[(dtrain, 'train'), (dtest, 'valid')],\n",
        "                        early_stopping_rounds=100,\n",
        "                        verbose_eval=100,\n",
        "                        feval=xgb_mape)\n",
        "\n",
        "    p_valid = xgb_clf.predict(dtest,\n",
        "                              ntree_limit=xgb_clf.best_ntree_limit)\n",
        "\n",
        "    oof['predict'][val_idx] = p_valid\n",
        "    val_score = mean_absolute_percentage_error(y_valid, p_valid)\n",
        "    val_mae.append(val_score)"
      ],
      "execution_count": 49,
      "outputs": [
        {
          "output_type": "stream",
          "text": [
            "[0]\ttrain-rmse:561040\tvalid-rmse:562294\ttrain-mape:903.219\tvalid-mape:904.147\n",
            "Multiple eval metrics have been passed: 'valid-mape' will be used for early stopping.\n",
            "\n",
            "Will train until valid-mape hasn't improved in 100 rounds.\n",
            "[100]\ttrain-rmse:40712.9\tvalid-rmse:55094.4\ttrain-mape:4.70597\tvalid-mape:6.71325\n",
            "[200]\ttrain-rmse:29838.3\tvalid-rmse:52349.6\ttrain-mape:3.43825\tvalid-mape:6.25659\n",
            "[300]\ttrain-rmse:23714.2\tvalid-rmse:51651.2\ttrain-mape:2.75272\tvalid-mape:6.13966\n",
            "[400]\ttrain-rmse:19319.4\tvalid-rmse:51520.1\ttrain-mape:2.25351\tvalid-mape:6.08563\n",
            "Stopping. Best iteration:\n",
            "[390]\ttrain-rmse:19774.3\tvalid-rmse:51517.5\ttrain-mape:2.29701\tvalid-mape:6.08091\n",
            "\n",
            "[0]\ttrain-rmse:561250\tvalid-rmse:561297\ttrain-mape:903.819\tvalid-mape:913.929\n",
            "Multiple eval metrics have been passed: 'valid-mape' will be used for early stopping.\n",
            "\n",
            "Will train until valid-mape hasn't improved in 100 rounds.\n",
            "[100]\ttrain-rmse:40407\tvalid-rmse:57702.5\ttrain-mape:4.68385\tvalid-mape:6.83104\n",
            "[200]\ttrain-rmse:30202.4\tvalid-rmse:55333\ttrain-mape:3.50854\tvalid-mape:6.39751\n",
            "[300]\ttrain-rmse:24564.2\tvalid-rmse:54846.3\ttrain-mape:2.86534\tvalid-mape:6.27147\n",
            "[400]\ttrain-rmse:20205.3\tvalid-rmse:54751.9\ttrain-mape:2.38943\tvalid-mape:6.23878\n",
            "[500]\ttrain-rmse:16960.5\tvalid-rmse:54589.7\ttrain-mape:2.00951\tvalid-mape:6.20113\n",
            "[600]\ttrain-rmse:14111.6\tvalid-rmse:54447.5\ttrain-mape:1.6802\tvalid-mape:6.16966\n",
            "[700]\ttrain-rmse:11832.1\tvalid-rmse:54432\ttrain-mape:1.41556\tvalid-mape:6.174\n",
            "Stopping. Best iteration:\n",
            "[642]\ttrain-rmse:13101.9\tvalid-rmse:54413\ttrain-mape:1.5596\tvalid-mape:6.16284\n",
            "\n",
            "[0]\ttrain-rmse:561840\tvalid-rmse:559202\ttrain-mape:903.224\tvalid-mape:904.725\n",
            "Multiple eval metrics have been passed: 'valid-mape' will be used for early stopping.\n",
            "\n",
            "Will train until valid-mape hasn't improved in 100 rounds.\n",
            "[100]\ttrain-rmse:40326.9\tvalid-rmse:57267\ttrain-mape:4.64097\tvalid-mape:6.9862\n",
            "[200]\ttrain-rmse:29647.4\tvalid-rmse:54863.6\ttrain-mape:3.40408\tvalid-mape:6.60119\n",
            "[300]\ttrain-rmse:23864.2\tvalid-rmse:54554.6\ttrain-mape:2.74361\tvalid-mape:6.5238\n",
            "[400]\ttrain-rmse:19341.1\tvalid-rmse:54386.8\ttrain-mape:2.24705\tvalid-mape:6.50621\n",
            "[500]\ttrain-rmse:16168.9\tvalid-rmse:54455.6\ttrain-mape:1.88857\tvalid-mape:6.49642\n",
            "[600]\ttrain-rmse:13674.5\tvalid-rmse:54308\ttrain-mape:1.59563\tvalid-mape:6.47821\n",
            "[700]\ttrain-rmse:11795.8\tvalid-rmse:54258.9\ttrain-mape:1.37194\tvalid-mape:6.4763\n",
            "[800]\ttrain-rmse:10095.2\tvalid-rmse:54299.2\ttrain-mape:1.16728\tvalid-mape:6.48228\n",
            "Stopping. Best iteration:\n",
            "[726]\ttrain-rmse:11309.6\tvalid-rmse:54270.4\ttrain-mape:1.3155\tvalid-mape:6.47407\n",
            "\n",
            "[0]\ttrain-rmse:562053\tvalid-rmse:557802\ttrain-mape:903.542\tvalid-mape:905.21\n",
            "Multiple eval metrics have been passed: 'valid-mape' will be used for early stopping.\n",
            "\n",
            "Will train until valid-mape hasn't improved in 100 rounds.\n",
            "[100]\ttrain-rmse:39965.1\tvalid-rmse:54943.4\ttrain-mape:4.62086\tvalid-mape:6.64731\n",
            "[200]\ttrain-rmse:29136.6\tvalid-rmse:52851.3\ttrain-mape:3.37019\tvalid-mape:6.32346\n",
            "[300]\ttrain-rmse:23483\tvalid-rmse:52097.4\ttrain-mape:2.70374\tvalid-mape:6.19965\n",
            "[400]\ttrain-rmse:19012.9\tvalid-rmse:51939\ttrain-mape:2.21344\tvalid-mape:6.14946\n",
            "[500]\ttrain-rmse:15917.5\tvalid-rmse:51807.7\ttrain-mape:1.84952\tvalid-mape:6.10754\n",
            "[600]\ttrain-rmse:13318.8\tvalid-rmse:51821.9\ttrain-mape:1.56294\tvalid-mape:6.11046\n",
            "Stopping. Best iteration:\n",
            "[530]\ttrain-rmse:15106.9\tvalid-rmse:51751.5\ttrain-mape:1.75947\tvalid-mape:6.10129\n",
            "\n",
            "[0]\ttrain-rmse:560117\tvalid-rmse:566729\ttrain-mape:903.214\tvalid-mape:915.11\n",
            "Multiple eval metrics have been passed: 'valid-mape' will be used for early stopping.\n",
            "\n",
            "Will train until valid-mape hasn't improved in 100 rounds.\n",
            "[100]\ttrain-rmse:39972.2\tvalid-rmse:56799.5\ttrain-mape:4.61392\tvalid-mape:6.68457\n",
            "[200]\ttrain-rmse:29537.9\tvalid-rmse:54133.5\ttrain-mape:3.3689\tvalid-mape:6.20505\n",
            "[300]\ttrain-rmse:23998.2\tvalid-rmse:53476\ttrain-mape:2.75876\tvalid-mape:6.09033\n",
            "[400]\ttrain-rmse:19547.3\tvalid-rmse:53298.2\ttrain-mape:2.26877\tvalid-mape:6.03888\n",
            "[500]\ttrain-rmse:15882.3\tvalid-rmse:53230.4\ttrain-mape:1.88486\tvalid-mape:5.9928\n",
            "Stopping. Best iteration:\n",
            "[487]\ttrain-rmse:16307.6\tvalid-rmse:53175.2\ttrain-mape:1.92482\tvalid-mape:5.98887\n",
            "\n",
            "CPU times: user 2min 16s, sys: 511 ms, total: 2min 17s\n",
            "Wall time: 1min 11s\n"
          ],
          "name": "stdout"
        }
      ]
    },
    {
      "cell_type": "code",
      "metadata": {
        "id": "e365Cec8WaPG",
        "colab_type": "code",
        "outputId": "b2813e80-a07c-4932-9b95-547d7c6311be",
        "colab": {
          "base_uri": "https://localhost:8080/",
          "height": 35
        }
      },
      "source": [
        "mean_mae = np.mean(val_mae)\n",
        "std_mae = np.std(val_mae)\n",
        "all_mae = mean_absolute_percentage_error(oof['Engagements'], oof['predict'])\n",
        "print(\"Mean mae: %.2f, std: %.2f. All mae: %.2f.\" % (mean_mae, std_mae, all_mae))"
      ],
      "execution_count": 50,
      "outputs": [
        {
          "output_type": "stream",
          "text": [
            "Mean mae: 6.19, std: 0.19. All mae: 6.19.\n"
          ],
          "name": "stdout"
        }
      ]
    },
    {
      "cell_type": "code",
      "metadata": {
        "id": "CYc1x-n1EbO1",
        "colab_type": "code",
        "colab": {}
      },
      "source": [
        ""
      ],
      "execution_count": 0,
      "outputs": []
    }
  ]
}