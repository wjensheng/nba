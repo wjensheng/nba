{
  "nbformat": 4,
  "nbformat_minor": 0,
  "metadata": {
    "colab": {
      "name": "eda.ipynb",
      "version": "0.3.2",
      "provenance": [],
      "collapsed_sections": []
    },
    "kernelspec": {
      "name": "python3",
      "display_name": "Python 3"
    },
    "accelerator": "GPU"
  },
  "cells": [
    {
      "cell_type": "code",
      "metadata": {
        "id": "3PJh8GCBygUD",
        "colab_type": "code",
        "outputId": "e6285b46-b574-4ec7-e1d4-bcc7ccba6f91",
        "colab": {
          "base_uri": "https://localhost:8080/",
          "height": 124
        }
      },
      "source": [
        "# Load the Drive helper and mount\n",
        "from google.colab import drive\n",
        "\n",
        "# This will prompt for authorization.\n",
        "drive.mount('/content/drive')"
      ],
      "execution_count": 1,
      "outputs": [
        {
          "output_type": "stream",
          "text": [
            "Go to this URL in a browser: https://accounts.google.com/o/oauth2/auth?client_id=947318989803-6bn6qk8qdgf4n4g3pfee6491hc0brc4i.apps.googleusercontent.com&redirect_uri=urn%3Aietf%3Awg%3Aoauth%3A2.0%3Aoob&scope=email%20https%3A%2F%2Fwww.googleapis.com%2Fauth%2Fdocs.test%20https%3A%2F%2Fwww.googleapis.com%2Fauth%2Fdrive%20https%3A%2F%2Fwww.googleapis.com%2Fauth%2Fdrive.photos.readonly%20https%3A%2F%2Fwww.googleapis.com%2Fauth%2Fpeopleapi.readonly&response_type=code\n",
            "\n",
            "Enter your authorization code:\n",
            "··········\n",
            "Mounted at /content/drive\n"
          ],
          "name": "stdout"
        }
      ]
    },
    {
      "cell_type": "markdown",
      "metadata": {
        "id": "d1j1nf40Jqin",
        "colab_type": "text"
      },
      "source": [
        "## Imports"
      ]
    },
    {
      "cell_type": "code",
      "metadata": {
        "id": "LYvPY7HsyiC9",
        "colab_type": "code",
        "colab": {}
      },
      "source": [
        "import pandas as pd\n",
        "import numpy as np\n",
        "import seaborn as sns\n",
        "import matplotlib.pyplot as plt\n",
        "import os\n",
        "import gc\n",
        "import re\n",
        "\n",
        "from tqdm import tqdm\n",
        "\n",
        "from sklearn.model_selection import KFold, StratifiedKFold\n",
        "from sklearn.metrics import roc_auc_score\n",
        "from sklearn.preprocessing import scale, minmax_scale\n",
        "from scipy.stats import norm\n",
        "\n",
        "import lightgbm as lgb\n",
        "\n",
        "import warnings\n",
        "warnings.simplefilter(action='ignore')\n",
        "warnings.filterwarnings('ignore')\n",
        "\n",
        "# change to path\n",
        "PATH='/content/drive/My Drive/Colab Notebooks/nba/'\n",
        "os.chdir(PATH)"
      ],
      "execution_count": 0,
      "outputs": []
    },
    {
      "cell_type": "markdown",
      "metadata": {
        "id": "R0IPldBKJsUe",
        "colab_type": "text"
      },
      "source": [
        "## Read in"
      ]
    },
    {
      "cell_type": "code",
      "metadata": {
        "id": "FitXRBMFRMpH",
        "colab_type": "code",
        "outputId": "4ffa2998-77cb-4754-daee-c17e87680ebc",
        "colab": {
          "base_uri": "https://localhost:8080/",
          "height": 302
        }
      },
      "source": [
        "train = pd.read_csv(f'{PATH}/dataset/training_set.csv', encoding = 'ISO-8859-1')\n",
        "test = pd.read_csv(f'{PATH}/dataset/holdout_set.csv', encoding = 'ISO-8859-1')\n",
        "\n",
        "train.head()"
      ],
      "execution_count": 53,
      "outputs": [
        {
          "output_type": "execute_result",
          "data": {
            "text/html": [
              "<div>\n",
              "<style scoped>\n",
              "    .dataframe tbody tr th:only-of-type {\n",
              "        vertical-align: middle;\n",
              "    }\n",
              "\n",
              "    .dataframe tbody tr th {\n",
              "        vertical-align: top;\n",
              "    }\n",
              "\n",
              "    .dataframe thead th {\n",
              "        text-align: right;\n",
              "    }\n",
              "</style>\n",
              "<table border=\"1\" class=\"dataframe\">\n",
              "  <thead>\n",
              "    <tr style=\"text-align: right;\">\n",
              "      <th></th>\n",
              "      <th>Engagements</th>\n",
              "      <th>Followers at Posting</th>\n",
              "      <th>Created</th>\n",
              "      <th>Type</th>\n",
              "      <th>Description</th>\n",
              "    </tr>\n",
              "  </thead>\n",
              "  <tbody>\n",
              "    <tr>\n",
              "      <th>0</th>\n",
              "      <td>502093</td>\n",
              "      <td>36984682</td>\n",
              "      <td>2019-05-21 23:30:51 EDT</td>\n",
              "      <td>Video</td>\n",
              "      <td>The @raptors bench trio of @sergeibaka @norman...</td>\n",
              "    </tr>\n",
              "    <tr>\n",
              "      <th>1</th>\n",
              "      <td>603380</td>\n",
              "      <td>36984682</td>\n",
              "      <td>2019-05-21 22:53:33 EDT</td>\n",
              "      <td>Video</td>\n",
              "      <td>@kyle_lowry7 pulls from deep for the @raptors ...</td>\n",
              "    </tr>\n",
              "    <tr>\n",
              "      <th>2</th>\n",
              "      <td>603380</td>\n",
              "      <td>36984682</td>\n",
              "      <td>2019-05-21 22:19:58 EDT</td>\n",
              "      <td>Video</td>\n",
              "      <td>@k_mid22 with some english on the @bucks dime!</td>\n",
              "    </tr>\n",
              "    <tr>\n",
              "      <th>3</th>\n",
              "      <td>725100</td>\n",
              "      <td>36984682</td>\n",
              "      <td>2019-05-21 22:02:41 EDT</td>\n",
              "      <td>Video</td>\n",
              "      <td>Kawhi punches it home with the left on TNT!</td>\n",
              "    </tr>\n",
              "    <tr>\n",
              "      <th>4</th>\n",
              "      <td>661446</td>\n",
              "      <td>36984682</td>\n",
              "      <td>2019-05-21 20:47:49 EDT</td>\n",
              "      <td>Video</td>\n",
              "      <td>@giannis_an34 goes baseline early to rock the ...</td>\n",
              "    </tr>\n",
              "  </tbody>\n",
              "</table>\n",
              "</div>"
            ],
            "text/plain": [
              "   Engagements  ...                                        Description\n",
              "0       502093  ...  The @raptors bench trio of @sergeibaka @norman...\n",
              "1       603380  ...  @kyle_lowry7 pulls from deep for the @raptors ...\n",
              "2       603380  ...     @k_mid22 with some english on the @bucks dime!\n",
              "3       725100  ...        Kawhi punches it home with the left on TNT!\n",
              "4       661446  ...  @giannis_an34 goes baseline early to rock the ...\n",
              "\n",
              "[5 rows x 5 columns]"
            ]
          },
          "metadata": {
            "tags": []
          },
          "execution_count": 53
        }
      ]
    },
    {
      "cell_type": "code",
      "metadata": {
        "id": "Eilv-pivbbKX",
        "colab_type": "code",
        "outputId": "8553737f-1f78-467c-e32e-4a44ba5b235a",
        "colab": {
          "base_uri": "https://localhost:8080/",
          "height": 35
        }
      },
      "source": [
        "len(train), len(test)"
      ],
      "execution_count": 54,
      "outputs": [
        {
          "output_type": "execute_result",
          "data": {
            "text/plain": [
              "(7766, 1000)"
            ]
          },
          "metadata": {
            "tags": []
          },
          "execution_count": 54
        }
      ]
    },
    {
      "cell_type": "markdown",
      "metadata": {
        "id": "4wnq_qbjLMZq",
        "colab_type": "text"
      },
      "source": [
        "## EDA on target"
      ]
    },
    {
      "cell_type": "code",
      "metadata": {
        "id": "lcgi0VU3LNNd",
        "colab_type": "code",
        "colab": {
          "base_uri": "https://localhost:8080/",
          "height": 295
        },
        "outputId": "c1ce6d56-8acb-4dfa-d45a-a419eb630089"
      },
      "source": [
        "plt.plot(figsize=(8,6))\n",
        "plt.title('Distribution of Engagement')\n",
        "sns.distplot(train['Engagements'])\n",
        "plt.show()"
      ],
      "execution_count": 55,
      "outputs": [
        {
          "output_type": "display_data",
          "data": {
            "image/png": "[encoded data removed]",
            "text/plain": [
              "<Figure size 432x288 with 1 Axes>"
            ]
          },
          "metadata": {
            "tags": []
          }
        }
      ]
    },
    {
      "cell_type": "code",
      "metadata": {
        "id": "B3E6QIY8LtpV",
        "colab_type": "code",
        "colab": {
          "base_uri": "https://localhost:8080/",
          "height": 302
        },
        "outputId": "046b3e06-4d24-43e2-c4a6-6cb48e489b9c"
      },
      "source": [
        "train.query('Engagements > 1_050_000').\\\n",
        "    sort_values('Engagements', ascending=False).\\\n",
        "    head()"
      ],
      "execution_count": 56,
      "outputs": [
        {
          "output_type": "execute_result",
          "data": {
            "text/html": [
              "<div>\n",
              "<style scoped>\n",
              "    .dataframe tbody tr th:only-of-type {\n",
              "        vertical-align: middle;\n",
              "    }\n",
              "\n",
              "    .dataframe tbody tr th {\n",
              "        vertical-align: top;\n",
              "    }\n",
              "\n",
              "    .dataframe thead th {\n",
              "        text-align: right;\n",
              "    }\n",
              "</style>\n",
              "<table border=\"1\" class=\"dataframe\">\n",
              "  <thead>\n",
              "    <tr style=\"text-align: right;\">\n",
              "      <th></th>\n",
              "      <th>Engagements</th>\n",
              "      <th>Followers at Posting</th>\n",
              "      <th>Created</th>\n",
              "      <th>Type</th>\n",
              "      <th>Description</th>\n",
              "    </tr>\n",
              "  </thead>\n",
              "  <tbody>\n",
              "    <tr>\n",
              "      <th>5921</th>\n",
              "      <td>1129585</td>\n",
              "      <td>26873604</td>\n",
              "      <td>2018-02-18 19:59:49 EST</td>\n",
              "      <td>Video</td>\n",
              "      <td>The captains meet for pregame #NBAAllStar talk...</td>\n",
              "    </tr>\n",
              "    <tr>\n",
              "      <th>3699</th>\n",
              "      <td>1077014</td>\n",
              "      <td>30719053</td>\n",
              "      <td>2018-09-16 12:06:15 EDT</td>\n",
              "      <td>Video</td>\n",
              "      <td>30 days from #KiaTipOff18... we flashback to @...</td>\n",
              "    </tr>\n",
              "    <tr>\n",
              "      <th>3876</th>\n",
              "      <td>1075434</td>\n",
              "      <td>30047470</td>\n",
              "      <td>2018-08-11 20:55:20 EDT</td>\n",
              "      <td>Video</td>\n",
              "      <td>At #1 on the TOP 60 DIMES... @kingjames! #NBAA...</td>\n",
              "    </tr>\n",
              "    <tr>\n",
              "      <th>5901</th>\n",
              "      <td>1067990</td>\n",
              "      <td>26873604</td>\n",
              "      <td>2018-02-18 23:32:14 EST</td>\n",
              "      <td>Video</td>\n",
              "      <td>@kingjames (29p/10r/8a) hoists the 2018 #NBAAl...</td>\n",
              "    </tr>\n",
              "    <tr>\n",
              "      <th>3762</th>\n",
              "      <td>1066099</td>\n",
              "      <td>30442523</td>\n",
              "      <td>2018-09-01 12:18:40 EDT</td>\n",
              "      <td>Video</td>\n",
              "      <td>Coming in at No.5...@kyrieirving SOMEHOW finds...</td>\n",
              "    </tr>\n",
              "  </tbody>\n",
              "</table>\n",
              "</div>"
            ],
            "text/plain": [
              "      Engagements  ...                                        Description\n",
              "5921      1129585  ...  The captains meet for pregame #NBAAllStar talk...\n",
              "3699      1077014  ...  30 days from #KiaTipOff18... we flashback to @...\n",
              "3876      1075434  ...  At #1 on the TOP 60 DIMES... @kingjames! #NBAA...\n",
              "5901      1067990  ...  @kingjames (29p/10r/8a) hoists the 2018 #NBAAl...\n",
              "3762      1066099  ...  Coming in at No.5...@kyrieirving SOMEHOW finds...\n",
              "\n",
              "[5 rows x 5 columns]"
            ]
          },
          "metadata": {
            "tags": []
          },
          "execution_count": 56
        }
      ]
    },
    {
      "cell_type": "markdown",
      "metadata": {
        "id": "Dlws6KXyMuGZ",
        "colab_type": "text"
      },
      "source": [
        "Highest `Engagements` at 1.1 million. Since `Engagement` is dependent on the number of followers, it would be better to take the percentage."
      ]
    },
    {
      "cell_type": "code",
      "metadata": {
        "id": "w_zst-nPM5rR",
        "colab_type": "code",
        "colab": {
          "base_uri": "https://localhost:8080/",
          "height": 302
        },
        "outputId": "3ff3d321-775b-4bc6-a49b-383bd1ab32d1"
      },
      "source": [
        "train['pct_engage'] = train['Engagements'] / train.iloc[:,1]\n",
        "\n",
        "train.head()"
      ],
      "execution_count": 57,
      "outputs": [
        {
          "output_type": "execute_result",
          "data": {
            "text/html": [
              "<div>\n",
              "<style scoped>\n",
              "    .dataframe tbody tr th:only-of-type {\n",
              "        vertical-align: middle;\n",
              "    }\n",
              "\n",
              "    .dataframe tbody tr th {\n",
              "        vertical-align: top;\n",
              "    }\n",
              "\n",
              "    .dataframe thead th {\n",
              "        text-align: right;\n",
              "    }\n",
              "</style>\n",
              "<table border=\"1\" class=\"dataframe\">\n",
              "  <thead>\n",
              "    <tr style=\"text-align: right;\">\n",
              "      <th></th>\n",
              "      <th>Engagements</th>\n",
              "      <th>Followers at Posting</th>\n",
              "      <th>Created</th>\n",
              "      <th>Type</th>\n",
              "      <th>Description</th>\n",
              "      <th>pct_engage</th>\n",
              "    </tr>\n",
              "  </thead>\n",
              "  <tbody>\n",
              "    <tr>\n",
              "      <th>0</th>\n",
              "      <td>502093</td>\n",
              "      <td>36984682</td>\n",
              "      <td>2019-05-21 23:30:51 EDT</td>\n",
              "      <td>Video</td>\n",
              "      <td>The @raptors bench trio of @sergeibaka @norman...</td>\n",
              "      <td>0.013576</td>\n",
              "    </tr>\n",
              "    <tr>\n",
              "      <th>1</th>\n",
              "      <td>603380</td>\n",
              "      <td>36984682</td>\n",
              "      <td>2019-05-21 22:53:33 EDT</td>\n",
              "      <td>Video</td>\n",
              "      <td>@kyle_lowry7 pulls from deep for the @raptors ...</td>\n",
              "      <td>0.016314</td>\n",
              "    </tr>\n",
              "    <tr>\n",
              "      <th>2</th>\n",
              "      <td>603380</td>\n",
              "      <td>36984682</td>\n",
              "      <td>2019-05-21 22:19:58 EDT</td>\n",
              "      <td>Video</td>\n",
              "      <td>@k_mid22 with some english on the @bucks dime!</td>\n",
              "      <td>0.016314</td>\n",
              "    </tr>\n",
              "    <tr>\n",
              "      <th>3</th>\n",
              "      <td>725100</td>\n",
              "      <td>36984682</td>\n",
              "      <td>2019-05-21 22:02:41 EDT</td>\n",
              "      <td>Video</td>\n",
              "      <td>Kawhi punches it home with the left on TNT!</td>\n",
              "      <td>0.019605</td>\n",
              "    </tr>\n",
              "    <tr>\n",
              "      <th>4</th>\n",
              "      <td>661446</td>\n",
              "      <td>36984682</td>\n",
              "      <td>2019-05-21 20:47:49 EDT</td>\n",
              "      <td>Video</td>\n",
              "      <td>@giannis_an34 goes baseline early to rock the ...</td>\n",
              "      <td>0.017884</td>\n",
              "    </tr>\n",
              "  </tbody>\n",
              "</table>\n",
              "</div>"
            ],
            "text/plain": [
              "   Engagements  ...  pct_engage\n",
              "0       502093  ...    0.013576\n",
              "1       603380  ...    0.016314\n",
              "2       603380  ...    0.016314\n",
              "3       725100  ...    0.019605\n",
              "4       661446  ...    0.017884\n",
              "\n",
              "[5 rows x 6 columns]"
            ]
          },
          "metadata": {
            "tags": []
          },
          "execution_count": 57
        }
      ]
    },
    {
      "cell_type": "code",
      "metadata": {
        "id": "r1KIMFSQM7bt",
        "colab_type": "code",
        "colab": {
          "base_uri": "https://localhost:8080/",
          "height": 296
        },
        "outputId": "0b6c7e61-c35e-4264-d501-7dd54eb9c47c"
      },
      "source": [
        "plt.plot(figsize=(8,6))\n",
        "plt.title('Distribution of % Engagement')\n",
        "sns.distplot(train['pct_engage'])\n",
        "plt.show()"
      ],
      "execution_count": 58,
      "outputs": [
        {
          "output_type": "display_data",
          "data": {
            "image/png": "[encoded data removed]",
            "text/plain": [
              "<Figure size 432x288 with 1 Axes>"
            ]
          },
          "metadata": {
            "tags": []
          }
        }
      ]
    },
    {
      "cell_type": "code",
      "metadata": {
        "id": "J8xMdJvPNCX7",
        "colab_type": "code",
        "colab": {
          "base_uri": "https://localhost:8080/",
          "height": 302
        },
        "outputId": "e10eea31-2b76-48af-d80b-ab2b2110071c"
      },
      "source": [
        "train.query('pct_engage > 0.038').\\\n",
        "    sort_values('pct_engage', ascending=False).\\\n",
        "    head()"
      ],
      "execution_count": 59,
      "outputs": [
        {
          "output_type": "execute_result",
          "data": {
            "text/html": [
              "<div>\n",
              "<style scoped>\n",
              "    .dataframe tbody tr th:only-of-type {\n",
              "        vertical-align: middle;\n",
              "    }\n",
              "\n",
              "    .dataframe tbody tr th {\n",
              "        vertical-align: top;\n",
              "    }\n",
              "\n",
              "    .dataframe thead th {\n",
              "        text-align: right;\n",
              "    }\n",
              "</style>\n",
              "<table border=\"1\" class=\"dataframe\">\n",
              "  <thead>\n",
              "    <tr style=\"text-align: right;\">\n",
              "      <th></th>\n",
              "      <th>Engagements</th>\n",
              "      <th>Followers at Posting</th>\n",
              "      <th>Created</th>\n",
              "      <th>Type</th>\n",
              "      <th>Description</th>\n",
              "      <th>pct_engage</th>\n",
              "    </tr>\n",
              "  </thead>\n",
              "  <tbody>\n",
              "    <tr>\n",
              "      <th>5921</th>\n",
              "      <td>1129585</td>\n",
              "      <td>26873604</td>\n",
              "      <td>2018-02-18 19:59:49 EST</td>\n",
              "      <td>Video</td>\n",
              "      <td>The captains meet for pregame #NBAAllStar talk...</td>\n",
              "      <td>0.042033</td>\n",
              "    </tr>\n",
              "    <tr>\n",
              "      <th>6867</th>\n",
              "      <td>1035841</td>\n",
              "      <td>25922734</td>\n",
              "      <td>2017-12-16 21:13:10 EST</td>\n",
              "      <td>Video</td>\n",
              "      <td>?? How did @kingjames do THAT?!?</td>\n",
              "      <td>0.039959</td>\n",
              "    </tr>\n",
              "    <tr>\n",
              "      <th>5901</th>\n",
              "      <td>1067990</td>\n",
              "      <td>26873604</td>\n",
              "      <td>2018-02-18 23:32:14 EST</td>\n",
              "      <td>Video</td>\n",
              "      <td>@kingjames (29p/10r/8a) hoists the 2018 #NBAAl...</td>\n",
              "      <td>0.039741</td>\n",
              "    </tr>\n",
              "    <tr>\n",
              "      <th>6100</th>\n",
              "      <td>1055161</td>\n",
              "      <td>26706824</td>\n",
              "      <td>2018-02-08 21:03:45 EST</td>\n",
              "      <td>Video</td>\n",
              "      <td>???? @kyrieirving ????</td>\n",
              "      <td>0.039509</td>\n",
              "    </tr>\n",
              "    <tr>\n",
              "      <th>5912</th>\n",
              "      <td>1059349</td>\n",
              "      <td>26873604</td>\n",
              "      <td>2018-02-18 22:20:39 EST</td>\n",
              "      <td>Video</td>\n",
              "      <td>@kingjames with the left! #NBAAllStar</td>\n",
              "      <td>0.039420</td>\n",
              "    </tr>\n",
              "  </tbody>\n",
              "</table>\n",
              "</div>"
            ],
            "text/plain": [
              "      Engagements  ...  pct_engage\n",
              "5921      1129585  ...    0.042033\n",
              "6867      1035841  ...    0.039959\n",
              "5901      1067990  ...    0.039741\n",
              "6100      1055161  ...    0.039509\n",
              "5912      1059349  ...    0.039420\n",
              "\n",
              "[5 rows x 6 columns]"
            ]
          },
          "metadata": {
            "tags": []
          },
          "execution_count": 59
        }
      ]
    },
    {
      "cell_type": "markdown",
      "metadata": {
        "id": "M9fOChkNJ7lK",
        "colab_type": "text"
      },
      "source": [
        "## Preprocessing"
      ]
    },
    {
      "cell_type": "code",
      "metadata": {
        "id": "huN_d1BDAudW",
        "colab_type": "code",
        "colab": {}
      },
      "source": [
        "def str_to_date(s, split):\n",
        "    return s.split(' ')[split]\n",
        "  \n",
        "def add_datepart(df, fldname, drop=True, time=False):\n",
        "    \"Helper function that adds columns relevant to a date.\"\n",
        "    fld = df[fldname]\n",
        "    fld_dtype = fld.dtype\n",
        "    if isinstance(fld_dtype, pd.core.dtypes.dtypes.DatetimeTZDtype):\n",
        "        fld_dtype = np.datetime64\n",
        "\n",
        "    if not np.issubdtype(fld_dtype, np.datetime64):\n",
        "        df[fldname] = fld = pd.to_datetime(fld, infer_datetime_format=True)\n",
        "    targ_pre = re.sub('[Dd]ate$', '', fldname)\n",
        "    attr = ['Year', 'Month', 'Week', 'Day', 'Dayofweek', 'Dayofyear',\n",
        "            'Is_month_end', 'Is_month_start', 'Is_quarter_end', 'Is_quarter_start', 'Is_year_end', 'Is_year_start']\n",
        "    if time: attr = attr + ['Hour', 'Minute', 'Second']\n",
        "    for n in attr: df[targ_pre + n] = getattr(fld.dt, n.lower())\n",
        "    df[targ_pre + 'Elapsed'] = fld.astype(np.int64) // 10 ** 9\n",
        "    if drop: df.drop(fldname, axis=1, inplace=True)\n",
        "      \n",
        "def get_time_split(time):\n",
        "    time_minute = time.split(':')[:2]\n",
        "    return int(''.join(time_minute))\n",
        "  \n",
        "def get_hour(time):\n",
        "    return int(time.split(':')[0])"
      ],
      "execution_count": 0,
      "outputs": []
    },
    {
      "cell_type": "code",
      "metadata": {
        "id": "hMD-FgBE9WNt",
        "colab_type": "code",
        "colab": {}
      },
      "source": [
        "def preprocess(df):\n",
        "    df['date'] = df.apply(lambda x: str_to_date(x['Created'], 0), axis=1)\n",
        "    df['time'] = df.apply(lambda x: str_to_date(x['Created'], 1), axis=1)\n",
        "    df['tz'] = df.apply(lambda x: str_to_date(x['Created'], 2), axis=1)\n",
        "    \n",
        "    # get more features on date\n",
        "    df['date'] = pd.to_datetime(df['date'])\n",
        "    \n",
        "    # date\n",
        "    df['date_tsfm'] = pd.to_datetime(df['date'])\n",
        "    \n",
        "    add_datepart(df, 'date_tsfm')\n",
        "\n",
        "    time_df = pd.get_dummies(df['Type'], \n",
        "                         prefix='Type')\n",
        "\n",
        "    tz_df = pd.get_dummies(df['tz'],\n",
        "                           prefix='tz')        \n",
        "\n",
        "    # get only time and hour\n",
        "    df['time_split'] = df['time'].apply(get_time_split)\n",
        "    df['hour'] = df['time'].apply(get_hour)\n",
        "    \n",
        "    # convert \n",
        "    \n",
        "    df = pd.concat([df, time_df, tz_df],\n",
        "                    axis=1)\n",
        "    \n",
        "    return df"
      ],
      "execution_count": 0,
      "outputs": []
    },
    {
      "cell_type": "code",
      "metadata": {
        "id": "OA49gkz0xq6z",
        "colab_type": "code",
        "colab": {}
      },
      "source": [
        "train = preprocess(train)\n",
        "test = preprocess(test)"
      ],
      "execution_count": 0,
      "outputs": []
    },
    {
      "cell_type": "code",
      "metadata": {
        "id": "l7yleXfu-uPL",
        "colab_type": "code",
        "outputId": "eeeb9f61-5bcf-49bc-b50e-78bf3b453f7e",
        "colab": {
          "base_uri": "https://localhost:8080/",
          "height": 35
        }
      },
      "source": [
        "train.shape, test.shape"
      ],
      "execution_count": 129,
      "outputs": [
        {
          "output_type": "execute_result",
          "data": {
            "text/plain": [
              "((7766, 52), (1000, 51))"
            ]
          },
          "metadata": {
            "tags": []
          },
          "execution_count": 129
        }
      ]
    },
    {
      "cell_type": "code",
      "metadata": {
        "id": "pC3fsy4wOQkd",
        "colab_type": "code",
        "colab": {
          "base_uri": "https://localhost:8080/",
          "height": 512
        },
        "outputId": "db1b7b89-07ec-4265-91a8-aaf08d5136d4"
      },
      "source": [
        "train.head()"
      ],
      "execution_count": 130,
      "outputs": [
        {
          "output_type": "execute_result",
          "data": {
            "text/html": [
              "<div>\n",
              "<style scoped>\n",
              "    .dataframe tbody tr th:only-of-type {\n",
              "        vertical-align: middle;\n",
              "    }\n",
              "\n",
              "    .dataframe tbody tr th {\n",
              "        vertical-align: top;\n",
              "    }\n",
              "\n",
              "    .dataframe thead th {\n",
              "        text-align: right;\n",
              "    }\n",
              "</style>\n",
              "<table border=\"1\" class=\"dataframe\">\n",
              "  <thead>\n",
              "    <tr style=\"text-align: right;\">\n",
              "      <th></th>\n",
              "      <th>Engagements</th>\n",
              "      <th>Followers at Posting</th>\n",
              "      <th>Created</th>\n",
              "      <th>Type</th>\n",
              "      <th>Description</th>\n",
              "      <th>pct_engage</th>\n",
              "      <th>time</th>\n",
              "      <th>tz</th>\n",
              "      <th>Year</th>\n",
              "      <th>Month</th>\n",
              "      <th>Week</th>\n",
              "      <th>Day</th>\n",
              "      <th>Dayofweek</th>\n",
              "      <th>Dayofyear</th>\n",
              "      <th>Is_month_end</th>\n",
              "      <th>Is_month_start</th>\n",
              "      <th>Is_quarter_end</th>\n",
              "      <th>Is_quarter_start</th>\n",
              "      <th>Is_year_end</th>\n",
              "      <th>Is_year_start</th>\n",
              "      <th>Elapsed</th>\n",
              "      <th>time_split</th>\n",
              "      <th>Type_Album</th>\n",
              "      <th>Type_Photo</th>\n",
              "      <th>Type_Video</th>\n",
              "      <th>tz_EDT</th>\n",
              "      <th>tz_EST</th>\n",
              "      <th>hour</th>\n",
              "      <th>Type_Album</th>\n",
              "      <th>Type_Photo</th>\n",
              "      <th>Type_Video</th>\n",
              "      <th>tz_EDT</th>\n",
              "      <th>tz_EST</th>\n",
              "      <th>date</th>\n",
              "      <th>date_tsfmYear</th>\n",
              "      <th>date_tsfmMonth</th>\n",
              "      <th>date_tsfmWeek</th>\n",
              "      <th>date_tsfmDay</th>\n",
              "      <th>date_tsfmDayofweek</th>\n",
              "      <th>date_tsfmDayofyear</th>\n",
              "      <th>date_tsfmIs_month_end</th>\n",
              "      <th>date_tsfmIs_month_start</th>\n",
              "      <th>date_tsfmIs_quarter_end</th>\n",
              "      <th>date_tsfmIs_quarter_start</th>\n",
              "      <th>date_tsfmIs_year_end</th>\n",
              "      <th>date_tsfmIs_year_start</th>\n",
              "      <th>date_tsfmElapsed</th>\n",
              "      <th>Type_Album</th>\n",
              "      <th>Type_Photo</th>\n",
              "      <th>Type_Video</th>\n",
              "      <th>tz_EDT</th>\n",
              "      <th>tz_EST</th>\n",
              "    </tr>\n",
              "  </thead>\n",
              "  <tbody>\n",
              "    <tr>\n",
              "      <th>0</th>\n",
              "      <td>502093</td>\n",
              "      <td>36984682</td>\n",
              "      <td>2019-05-21 23:30:51 EDT</td>\n",
              "      <td>Video</td>\n",
              "      <td>The @raptors bench trio of @sergeibaka @norman...</td>\n",
              "      <td>0.013576</td>\n",
              "      <td>23:30:51</td>\n",
              "      <td>EDT</td>\n",
              "      <td>2019</td>\n",
              "      <td>5</td>\n",
              "      <td>21</td>\n",
              "      <td>21</td>\n",
              "      <td>1</td>\n",
              "      <td>141</td>\n",
              "      <td>False</td>\n",
              "      <td>False</td>\n",
              "      <td>False</td>\n",
              "      <td>False</td>\n",
              "      <td>False</td>\n",
              "      <td>False</td>\n",
              "      <td>1558396800</td>\n",
              "      <td>2330</td>\n",
              "      <td>0</td>\n",
              "      <td>0</td>\n",
              "      <td>1</td>\n",
              "      <td>1</td>\n",
              "      <td>0</td>\n",
              "      <td>23</td>\n",
              "      <td>0</td>\n",
              "      <td>0</td>\n",
              "      <td>1</td>\n",
              "      <td>1</td>\n",
              "      <td>0</td>\n",
              "      <td>2019-05-21</td>\n",
              "      <td>2019</td>\n",
              "      <td>5</td>\n",
              "      <td>21</td>\n",
              "      <td>21</td>\n",
              "      <td>1</td>\n",
              "      <td>141</td>\n",
              "      <td>False</td>\n",
              "      <td>False</td>\n",
              "      <td>False</td>\n",
              "      <td>False</td>\n",
              "      <td>False</td>\n",
              "      <td>False</td>\n",
              "      <td>1558396800</td>\n",
              "      <td>0</td>\n",
              "      <td>0</td>\n",
              "      <td>1</td>\n",
              "      <td>1</td>\n",
              "      <td>0</td>\n",
              "    </tr>\n",
              "    <tr>\n",
              "      <th>1</th>\n",
              "      <td>603380</td>\n",
              "      <td>36984682</td>\n",
              "      <td>2019-05-21 22:53:33 EDT</td>\n",
              "      <td>Video</td>\n",
              "      <td>@kyle_lowry7 pulls from deep for the @raptors ...</td>\n",
              "      <td>0.016314</td>\n",
              "      <td>22:53:33</td>\n",
              "      <td>EDT</td>\n",
              "      <td>2019</td>\n",
              "      <td>5</td>\n",
              "      <td>21</td>\n",
              "      <td>21</td>\n",
              "      <td>1</td>\n",
              "      <td>141</td>\n",
              "      <td>False</td>\n",
              "      <td>False</td>\n",
              "      <td>False</td>\n",
              "      <td>False</td>\n",
              "      <td>False</td>\n",
              "      <td>False</td>\n",
              "      <td>1558396800</td>\n",
              "      <td>2253</td>\n",
              "      <td>0</td>\n",
              "      <td>0</td>\n",
              "      <td>1</td>\n",
              "      <td>1</td>\n",
              "      <td>0</td>\n",
              "      <td>22</td>\n",
              "      <td>0</td>\n",
              "      <td>0</td>\n",
              "      <td>1</td>\n",
              "      <td>1</td>\n",
              "      <td>0</td>\n",
              "      <td>2019-05-21</td>\n",
              "      <td>2019</td>\n",
              "      <td>5</td>\n",
              "      <td>21</td>\n",
              "      <td>21</td>\n",
              "      <td>1</td>\n",
              "      <td>141</td>\n",
              "      <td>False</td>\n",
              "      <td>False</td>\n",
              "      <td>False</td>\n",
              "      <td>False</td>\n",
              "      <td>False</td>\n",
              "      <td>False</td>\n",
              "      <td>1558396800</td>\n",
              "      <td>0</td>\n",
              "      <td>0</td>\n",
              "      <td>1</td>\n",
              "      <td>1</td>\n",
              "      <td>0</td>\n",
              "    </tr>\n",
              "    <tr>\n",
              "      <th>2</th>\n",
              "      <td>603380</td>\n",
              "      <td>36984682</td>\n",
              "      <td>2019-05-21 22:19:58 EDT</td>\n",
              "      <td>Video</td>\n",
              "      <td>@k_mid22 with some english on the @bucks dime!</td>\n",
              "      <td>0.016314</td>\n",
              "      <td>22:19:58</td>\n",
              "      <td>EDT</td>\n",
              "      <td>2019</td>\n",
              "      <td>5</td>\n",
              "      <td>21</td>\n",
              "      <td>21</td>\n",
              "      <td>1</td>\n",
              "      <td>141</td>\n",
              "      <td>False</td>\n",
              "      <td>False</td>\n",
              "      <td>False</td>\n",
              "      <td>False</td>\n",
              "      <td>False</td>\n",
              "      <td>False</td>\n",
              "      <td>1558396800</td>\n",
              "      <td>2219</td>\n",
              "      <td>0</td>\n",
              "      <td>0</td>\n",
              "      <td>1</td>\n",
              "      <td>1</td>\n",
              "      <td>0</td>\n",
              "      <td>22</td>\n",
              "      <td>0</td>\n",
              "      <td>0</td>\n",
              "      <td>1</td>\n",
              "      <td>1</td>\n",
              "      <td>0</td>\n",
              "      <td>2019-05-21</td>\n",
              "      <td>2019</td>\n",
              "      <td>5</td>\n",
              "      <td>21</td>\n",
              "      <td>21</td>\n",
              "      <td>1</td>\n",
              "      <td>141</td>\n",
              "      <td>False</td>\n",
              "      <td>False</td>\n",
              "      <td>False</td>\n",
              "      <td>False</td>\n",
              "      <td>False</td>\n",
              "      <td>False</td>\n",
              "      <td>1558396800</td>\n",
              "      <td>0</td>\n",
              "      <td>0</td>\n",
              "      <td>1</td>\n",
              "      <td>1</td>\n",
              "      <td>0</td>\n",
              "    </tr>\n",
              "    <tr>\n",
              "      <th>3</th>\n",
              "      <td>725100</td>\n",
              "      <td>36984682</td>\n",
              "      <td>2019-05-21 22:02:41 EDT</td>\n",
              "      <td>Video</td>\n",
              "      <td>Kawhi punches it home with the left on TNT!</td>\n",
              "      <td>0.019605</td>\n",
              "      <td>22:02:41</td>\n",
              "      <td>EDT</td>\n",
              "      <td>2019</td>\n",
              "      <td>5</td>\n",
              "      <td>21</td>\n",
              "      <td>21</td>\n",
              "      <td>1</td>\n",
              "      <td>141</td>\n",
              "      <td>False</td>\n",
              "      <td>False</td>\n",
              "      <td>False</td>\n",
              "      <td>False</td>\n",
              "      <td>False</td>\n",
              "      <td>False</td>\n",
              "      <td>1558396800</td>\n",
              "      <td>2202</td>\n",
              "      <td>0</td>\n",
              "      <td>0</td>\n",
              "      <td>1</td>\n",
              "      <td>1</td>\n",
              "      <td>0</td>\n",
              "      <td>22</td>\n",
              "      <td>0</td>\n",
              "      <td>0</td>\n",
              "      <td>1</td>\n",
              "      <td>1</td>\n",
              "      <td>0</td>\n",
              "      <td>2019-05-21</td>\n",
              "      <td>2019</td>\n",
              "      <td>5</td>\n",
              "      <td>21</td>\n",
              "      <td>21</td>\n",
              "      <td>1</td>\n",
              "      <td>141</td>\n",
              "      <td>False</td>\n",
              "      <td>False</td>\n",
              "      <td>False</td>\n",
              "      <td>False</td>\n",
              "      <td>False</td>\n",
              "      <td>False</td>\n",
              "      <td>1558396800</td>\n",
              "      <td>0</td>\n",
              "      <td>0</td>\n",
              "      <td>1</td>\n",
              "      <td>1</td>\n",
              "      <td>0</td>\n",
              "    </tr>\n",
              "    <tr>\n",
              "      <th>4</th>\n",
              "      <td>661446</td>\n",
              "      <td>36984682</td>\n",
              "      <td>2019-05-21 20:47:49 EDT</td>\n",
              "      <td>Video</td>\n",
              "      <td>@giannis_an34 goes baseline early to rock the ...</td>\n",
              "      <td>0.017884</td>\n",
              "      <td>20:47:49</td>\n",
              "      <td>EDT</td>\n",
              "      <td>2019</td>\n",
              "      <td>5</td>\n",
              "      <td>21</td>\n",
              "      <td>21</td>\n",
              "      <td>1</td>\n",
              "      <td>141</td>\n",
              "      <td>False</td>\n",
              "      <td>False</td>\n",
              "      <td>False</td>\n",
              "      <td>False</td>\n",
              "      <td>False</td>\n",
              "      <td>False</td>\n",
              "      <td>1558396800</td>\n",
              "      <td>2047</td>\n",
              "      <td>0</td>\n",
              "      <td>0</td>\n",
              "      <td>1</td>\n",
              "      <td>1</td>\n",
              "      <td>0</td>\n",
              "      <td>20</td>\n",
              "      <td>0</td>\n",
              "      <td>0</td>\n",
              "      <td>1</td>\n",
              "      <td>1</td>\n",
              "      <td>0</td>\n",
              "      <td>2019-05-21</td>\n",
              "      <td>2019</td>\n",
              "      <td>5</td>\n",
              "      <td>21</td>\n",
              "      <td>21</td>\n",
              "      <td>1</td>\n",
              "      <td>141</td>\n",
              "      <td>False</td>\n",
              "      <td>False</td>\n",
              "      <td>False</td>\n",
              "      <td>False</td>\n",
              "      <td>False</td>\n",
              "      <td>False</td>\n",
              "      <td>1558396800</td>\n",
              "      <td>0</td>\n",
              "      <td>0</td>\n",
              "      <td>1</td>\n",
              "      <td>1</td>\n",
              "      <td>0</td>\n",
              "    </tr>\n",
              "  </tbody>\n",
              "</table>\n",
              "</div>"
            ],
            "text/plain": [
              "   Engagements  Followers at Posting  ... tz_EDT tz_EST\n",
              "0       502093              36984682  ...      1      0\n",
              "1       603380              36984682  ...      1      0\n",
              "2       603380              36984682  ...      1      0\n",
              "3       725100              36984682  ...      1      0\n",
              "4       661446              36984682  ...      1      0\n",
              "\n",
              "[5 rows x 52 columns]"
            ]
          },
          "metadata": {
            "tags": []
          },
          "execution_count": 130
        }
      ]
    },
    {
      "cell_type": "markdown",
      "metadata": {
        "id": "LnknYzSba2FD",
        "colab_type": "text"
      },
      "source": [
        "## EDA on features"
      ]
    },
    {
      "cell_type": "code",
      "metadata": {
        "id": "DAtW-J0IYdq2",
        "colab_type": "code",
        "colab": {
          "base_uri": "https://localhost:8080/",
          "height": 69
        },
        "outputId": "9dbe2a4e-6df7-4b69-b0fa-16256a70347b"
      },
      "source": [
        "train['tz'].value_counts()"
      ],
      "execution_count": 141,
      "outputs": [
        {
          "output_type": "execute_result",
          "data": {
            "text/plain": [
              "EDT    3990\n",
              "EST    3776\n",
              "Name: tz, dtype: int64"
            ]
          },
          "metadata": {
            "tags": []
          },
          "execution_count": 141
        }
      ]
    },
    {
      "cell_type": "code",
      "metadata": {
        "id": "3ecAsVGpYuOT",
        "colab_type": "code",
        "colab": {
          "base_uri": "https://localhost:8080/",
          "height": 52
        },
        "outputId": "5e80ce7e-9726-467a-8594-eeaaefe9df08"
      },
      "source": [
        "train[(train['date'] < pd.datetime(2017, 11, 5)) & \n",
        "      (train['date'] > pd.datetime(2017, 3, 12))]['tz'].value_counts()"
      ],
      "execution_count": 142,
      "outputs": [
        {
          "output_type": "execute_result",
          "data": {
            "text/plain": [
              "EDT    382\n",
              "Name: tz, dtype: int64"
            ]
          },
          "metadata": {
            "tags": []
          },
          "execution_count": 142
        }
      ]
    },
    {
      "cell_type": "markdown",
      "metadata": {
        "id": "4PpZpg7lYeW0",
        "colab_type": "text"
      },
      "source": [
        "Seems like we are having an equal split between `EDT` and `EST`. But after performing a check, daylight saving in year 2017 is between 3/12/2017 and 11/5/2017.  Hence, seeing that we only have `EDT` during daylight saving periods. This means we can assume 2300 EDT is the same as 2300 EST."
      ]
    },
    {
      "cell_type": "code",
      "metadata": {
        "id": "HhV-GsHCPd7R",
        "colab_type": "code",
        "colab": {
          "base_uri": "https://localhost:8080/",
          "height": 295
        },
        "outputId": "65e8c17f-1554-4393-bd9a-4a8435d3c773"
      },
      "source": [
        "plt.plot(figsize=(8,6))\n",
        "plt.title('Distribution Time')\n",
        "# sns.distplot(train['time_split'])\n",
        "sns.distplot(train['hour'])\n",
        "plt.show()"
      ],
      "execution_count": 103,
      "outputs": [
        {
          "output_type": "display_data",
          "data": {
            "image/png": "[encoded data removed]",
            "text/plain": [
              "<Figure size 432x288 with 1 Axes>"
            ]
          },
          "metadata": {
            "tags": []
          }
        }
      ]
    },
    {
      "cell_type": "code",
      "metadata": {
        "id": "AhzZ74D6VvjF",
        "colab_type": "code",
        "colab": {
          "base_uri": "https://localhost:8080/",
          "height": 393
        },
        "outputId": "9e48c69e-e8e3-4de5-f105-cb2b4186856f"
      },
      "source": [
        "hour_val_cnt = train['hour'].value_counts().reset_index(name='count')\n",
        "\n",
        "plt.figure(figsize=(8,6))\n",
        "sns.barplot(x=hour_val_cnt['index'],\n",
        "            y=hour_val_cnt['count'],)\n",
        "plt.show()"
      ],
      "execution_count": 143,
      "outputs": [
        {
          "output_type": "display_data",
          "data": {
            "image/png": "[encoded data removed]",
            "text/plain": [
              "<Figure size 576x432 with 1 Axes>"
            ]
          },
          "metadata": {
            "tags": []
          }
        }
      ]
    },
    {
      "cell_type": "markdown",
      "metadata": {
        "id": "I09WOWsxV2IH",
        "colab_type": "text"
      },
      "source": [
        "Most posts are share between 8 PM to 12 AM."
      ]
    },
    {
      "cell_type": "code",
      "metadata": {
        "id": "0UD_X5x0QD_u",
        "colab_type": "code",
        "colab": {
          "base_uri": "https://localhost:8080/",
          "height": 609
        },
        "outputId": "c839d7e0-9778-4003-f90e-0ef6b0b93320"
      },
      "source": [
        "pct_engage_mean = train.groupby('hour')['pct_engage'].\\\n",
        "                          mean().\\\n",
        "                          reset_index(name='avg_pct_engage')\n",
        "\n",
        "pct_engage_mean.head()\n",
        "\n",
        "plt.figure(figsize=(12,10))\n",
        "sns.barplot(x=pct_engage_mean['hour'],\n",
        "            y=pct_engage_mean['avg_pct_engage'])\n",
        "plt.show()"
      ],
      "execution_count": 151,
      "outputs": [
        {
          "output_type": "display_data",
          "data": {
            "image/png": "[encoded data removed]",
            "text/plain": [
              "<Figure size 864x720 with 1 Axes>"
            ]
          },
          "metadata": {
            "tags": []
          }
        }
      ]
    },
    {
      "cell_type": "markdown",
      "metadata": {
        "id": "oGpC3JzZZUaN",
        "colab_type": "text"
      },
      "source": [
        "Interestingly, posts shared between 5 AM and 6 AM have surprisingly high `pct_engage` despite fewer posts are shared between those time."
      ]
    },
    {
      "cell_type": "code",
      "metadata": {
        "id": "KuKSOzghZZqu",
        "colab_type": "code",
        "colab": {
          "base_uri": "https://localhost:8080/",
          "height": 512
        },
        "outputId": "89582107-ffe5-48bb-df81-2b20a4bebb4e"
      },
      "source": [
        "train.query('hour == 5').sort_values('pct_engage', ascending=False).head()"
      ],
      "execution_count": 153,
      "outputs": [
        {
          "output_type": "execute_result",
          "data": {
            "text/html": [
              "<div>\n",
              "<style scoped>\n",
              "    .dataframe tbody tr th:only-of-type {\n",
              "        vertical-align: middle;\n",
              "    }\n",
              "\n",
              "    .dataframe tbody tr th {\n",
              "        vertical-align: top;\n",
              "    }\n",
              "\n",
              "    .dataframe thead th {\n",
              "        text-align: right;\n",
              "    }\n",
              "</style>\n",
              "<table border=\"1\" class=\"dataframe\">\n",
              "  <thead>\n",
              "    <tr style=\"text-align: right;\">\n",
              "      <th></th>\n",
              "      <th>Engagements</th>\n",
              "      <th>Followers at Posting</th>\n",
              "      <th>Created</th>\n",
              "      <th>Type</th>\n",
              "      <th>Description</th>\n",
              "      <th>pct_engage</th>\n",
              "      <th>time</th>\n",
              "      <th>tz</th>\n",
              "      <th>Year</th>\n",
              "      <th>Month</th>\n",
              "      <th>Week</th>\n",
              "      <th>Day</th>\n",
              "      <th>Dayofweek</th>\n",
              "      <th>Dayofyear</th>\n",
              "      <th>Is_month_end</th>\n",
              "      <th>Is_month_start</th>\n",
              "      <th>Is_quarter_end</th>\n",
              "      <th>Is_quarter_start</th>\n",
              "      <th>Is_year_end</th>\n",
              "      <th>Is_year_start</th>\n",
              "      <th>Elapsed</th>\n",
              "      <th>time_split</th>\n",
              "      <th>Type_Album</th>\n",
              "      <th>Type_Photo</th>\n",
              "      <th>Type_Video</th>\n",
              "      <th>tz_EDT</th>\n",
              "      <th>tz_EST</th>\n",
              "      <th>hour</th>\n",
              "      <th>Type_Album</th>\n",
              "      <th>Type_Photo</th>\n",
              "      <th>Type_Video</th>\n",
              "      <th>tz_EDT</th>\n",
              "      <th>tz_EST</th>\n",
              "      <th>date</th>\n",
              "      <th>date_tsfmYear</th>\n",
              "      <th>date_tsfmMonth</th>\n",
              "      <th>date_tsfmWeek</th>\n",
              "      <th>date_tsfmDay</th>\n",
              "      <th>date_tsfmDayofweek</th>\n",
              "      <th>date_tsfmDayofyear</th>\n",
              "      <th>date_tsfmIs_month_end</th>\n",
              "      <th>date_tsfmIs_month_start</th>\n",
              "      <th>date_tsfmIs_quarter_end</th>\n",
              "      <th>date_tsfmIs_quarter_start</th>\n",
              "      <th>date_tsfmIs_year_end</th>\n",
              "      <th>date_tsfmIs_year_start</th>\n",
              "      <th>date_tsfmElapsed</th>\n",
              "      <th>Type_Album</th>\n",
              "      <th>Type_Photo</th>\n",
              "      <th>Type_Video</th>\n",
              "      <th>tz_EDT</th>\n",
              "      <th>tz_EST</th>\n",
              "    </tr>\n",
              "  </thead>\n",
              "  <tbody>\n",
              "    <tr>\n",
              "      <th>6107</th>\n",
              "      <td>918745</td>\n",
              "      <td>26706824</td>\n",
              "      <td>2018-02-08 05:04:11 EST</td>\n",
              "      <td>Video</td>\n",
              "      <td>Coming through on both ends... @kingjames SWA...</td>\n",
              "      <td>0.034401</td>\n",
              "      <td>05:04:11</td>\n",
              "      <td>EST</td>\n",
              "      <td>2018</td>\n",
              "      <td>2</td>\n",
              "      <td>6</td>\n",
              "      <td>8</td>\n",
              "      <td>3</td>\n",
              "      <td>39</td>\n",
              "      <td>False</td>\n",
              "      <td>False</td>\n",
              "      <td>False</td>\n",
              "      <td>False</td>\n",
              "      <td>False</td>\n",
              "      <td>False</td>\n",
              "      <td>1518048000</td>\n",
              "      <td>504</td>\n",
              "      <td>0</td>\n",
              "      <td>0</td>\n",
              "      <td>1</td>\n",
              "      <td>0</td>\n",
              "      <td>1</td>\n",
              "      <td>5</td>\n",
              "      <td>0</td>\n",
              "      <td>0</td>\n",
              "      <td>1</td>\n",
              "      <td>0</td>\n",
              "      <td>1</td>\n",
              "      <td>2018-02-08</td>\n",
              "      <td>2018</td>\n",
              "      <td>2</td>\n",
              "      <td>6</td>\n",
              "      <td>8</td>\n",
              "      <td>3</td>\n",
              "      <td>39</td>\n",
              "      <td>False</td>\n",
              "      <td>False</td>\n",
              "      <td>False</td>\n",
              "      <td>False</td>\n",
              "      <td>False</td>\n",
              "      <td>False</td>\n",
              "      <td>1518048000</td>\n",
              "      <td>0</td>\n",
              "      <td>0</td>\n",
              "      <td>1</td>\n",
              "      <td>0</td>\n",
              "      <td>1</td>\n",
              "    </tr>\n",
              "    <tr>\n",
              "      <th>7393</th>\n",
              "      <td>844329</td>\n",
              "      <td>25358849</td>\n",
              "      <td>2017-11-04 05:40:47 EDT</td>\n",
              "      <td>Video</td>\n",
              "      <td>Above the rim... with the BEST DUNK from each ...</td>\n",
              "      <td>0.033295</td>\n",
              "      <td>05:40:47</td>\n",
              "      <td>EDT</td>\n",
              "      <td>2017</td>\n",
              "      <td>11</td>\n",
              "      <td>44</td>\n",
              "      <td>4</td>\n",
              "      <td>5</td>\n",
              "      <td>308</td>\n",
              "      <td>False</td>\n",
              "      <td>False</td>\n",
              "      <td>False</td>\n",
              "      <td>False</td>\n",
              "      <td>False</td>\n",
              "      <td>False</td>\n",
              "      <td>1509753600</td>\n",
              "      <td>540</td>\n",
              "      <td>0</td>\n",
              "      <td>0</td>\n",
              "      <td>1</td>\n",
              "      <td>1</td>\n",
              "      <td>0</td>\n",
              "      <td>5</td>\n",
              "      <td>0</td>\n",
              "      <td>0</td>\n",
              "      <td>1</td>\n",
              "      <td>1</td>\n",
              "      <td>0</td>\n",
              "      <td>2017-11-04</td>\n",
              "      <td>2017</td>\n",
              "      <td>11</td>\n",
              "      <td>44</td>\n",
              "      <td>4</td>\n",
              "      <td>5</td>\n",
              "      <td>308</td>\n",
              "      <td>False</td>\n",
              "      <td>False</td>\n",
              "      <td>False</td>\n",
              "      <td>False</td>\n",
              "      <td>False</td>\n",
              "      <td>False</td>\n",
              "      <td>1509753600</td>\n",
              "      <td>0</td>\n",
              "      <td>0</td>\n",
              "      <td>1</td>\n",
              "      <td>1</td>\n",
              "      <td>0</td>\n",
              "    </tr>\n",
              "    <tr>\n",
              "      <th>5965</th>\n",
              "      <td>883532</td>\n",
              "      <td>26847930</td>\n",
              "      <td>2018-02-17 05:03:53 EST</td>\n",
              "      <td>Video</td>\n",
              "      <td>Who had the best DUNK at the #KickstartRisingS...</td>\n",
              "      <td>0.032909</td>\n",
              "      <td>05:03:53</td>\n",
              "      <td>EST</td>\n",
              "      <td>2018</td>\n",
              "      <td>2</td>\n",
              "      <td>7</td>\n",
              "      <td>17</td>\n",
              "      <td>5</td>\n",
              "      <td>48</td>\n",
              "      <td>False</td>\n",
              "      <td>False</td>\n",
              "      <td>False</td>\n",
              "      <td>False</td>\n",
              "      <td>False</td>\n",
              "      <td>False</td>\n",
              "      <td>1518825600</td>\n",
              "      <td>503</td>\n",
              "      <td>0</td>\n",
              "      <td>0</td>\n",
              "      <td>1</td>\n",
              "      <td>0</td>\n",
              "      <td>1</td>\n",
              "      <td>5</td>\n",
              "      <td>0</td>\n",
              "      <td>0</td>\n",
              "      <td>1</td>\n",
              "      <td>0</td>\n",
              "      <td>1</td>\n",
              "      <td>2018-02-17</td>\n",
              "      <td>2018</td>\n",
              "      <td>2</td>\n",
              "      <td>7</td>\n",
              "      <td>17</td>\n",
              "      <td>5</td>\n",
              "      <td>48</td>\n",
              "      <td>False</td>\n",
              "      <td>False</td>\n",
              "      <td>False</td>\n",
              "      <td>False</td>\n",
              "      <td>False</td>\n",
              "      <td>False</td>\n",
              "      <td>1518825600</td>\n",
              "      <td>0</td>\n",
              "      <td>0</td>\n",
              "      <td>1</td>\n",
              "      <td>0</td>\n",
              "      <td>1</td>\n",
              "    </tr>\n",
              "    <tr>\n",
              "      <th>6076</th>\n",
              "      <td>876494</td>\n",
              "      <td>26743966</td>\n",
              "      <td>2018-02-10 05:07:34 EST</td>\n",
              "      <td>Video</td>\n",
              "      <td>??Dwyyyyyyyyyyaaaaane Waaaaaaaaadde!</td>\n",
              "      <td>0.032774</td>\n",
              "      <td>05:07:34</td>\n",
              "      <td>EST</td>\n",
              "      <td>2018</td>\n",
              "      <td>2</td>\n",
              "      <td>6</td>\n",
              "      <td>10</td>\n",
              "      <td>5</td>\n",
              "      <td>41</td>\n",
              "      <td>False</td>\n",
              "      <td>False</td>\n",
              "      <td>False</td>\n",
              "      <td>False</td>\n",
              "      <td>False</td>\n",
              "      <td>False</td>\n",
              "      <td>1518220800</td>\n",
              "      <td>507</td>\n",
              "      <td>0</td>\n",
              "      <td>0</td>\n",
              "      <td>1</td>\n",
              "      <td>0</td>\n",
              "      <td>1</td>\n",
              "      <td>5</td>\n",
              "      <td>0</td>\n",
              "      <td>0</td>\n",
              "      <td>1</td>\n",
              "      <td>0</td>\n",
              "      <td>1</td>\n",
              "      <td>2018-02-10</td>\n",
              "      <td>2018</td>\n",
              "      <td>2</td>\n",
              "      <td>6</td>\n",
              "      <td>10</td>\n",
              "      <td>5</td>\n",
              "      <td>41</td>\n",
              "      <td>False</td>\n",
              "      <td>False</td>\n",
              "      <td>False</td>\n",
              "      <td>False</td>\n",
              "      <td>False</td>\n",
              "      <td>False</td>\n",
              "      <td>1518220800</td>\n",
              "      <td>0</td>\n",
              "      <td>0</td>\n",
              "      <td>1</td>\n",
              "      <td>0</td>\n",
              "      <td>1</td>\n",
              "    </tr>\n",
              "    <tr>\n",
              "      <th>3340</th>\n",
              "      <td>913655</td>\n",
              "      <td>31419673</td>\n",
              "      <td>2018-10-19 05:23:53 EDT</td>\n",
              "      <td>Video</td>\n",
              "      <td>@kingjames puts up 26 points, 12 boards &amp; 6 as...</td>\n",
              "      <td>0.029079</td>\n",
              "      <td>05:23:53</td>\n",
              "      <td>EDT</td>\n",
              "      <td>2018</td>\n",
              "      <td>10</td>\n",
              "      <td>42</td>\n",
              "      <td>19</td>\n",
              "      <td>4</td>\n",
              "      <td>292</td>\n",
              "      <td>False</td>\n",
              "      <td>False</td>\n",
              "      <td>False</td>\n",
              "      <td>False</td>\n",
              "      <td>False</td>\n",
              "      <td>False</td>\n",
              "      <td>1539907200</td>\n",
              "      <td>523</td>\n",
              "      <td>0</td>\n",
              "      <td>0</td>\n",
              "      <td>1</td>\n",
              "      <td>1</td>\n",
              "      <td>0</td>\n",
              "      <td>5</td>\n",
              "      <td>0</td>\n",
              "      <td>0</td>\n",
              "      <td>1</td>\n",
              "      <td>1</td>\n",
              "      <td>0</td>\n",
              "      <td>2018-10-19</td>\n",
              "      <td>2018</td>\n",
              "      <td>10</td>\n",
              "      <td>42</td>\n",
              "      <td>19</td>\n",
              "      <td>4</td>\n",
              "      <td>292</td>\n",
              "      <td>False</td>\n",
              "      <td>False</td>\n",
              "      <td>False</td>\n",
              "      <td>False</td>\n",
              "      <td>False</td>\n",
              "      <td>False</td>\n",
              "      <td>1539907200</td>\n",
              "      <td>0</td>\n",
              "      <td>0</td>\n",
              "      <td>1</td>\n",
              "      <td>1</td>\n",
              "      <td>0</td>\n",
              "    </tr>\n",
              "  </tbody>\n",
              "</table>\n",
              "</div>"
            ],
            "text/plain": [
              "      Engagements  Followers at Posting  ... tz_EDT tz_EST\n",
              "6107       918745              26706824  ...      0      1\n",
              "7393       844329              25358849  ...      1      0\n",
              "5965       883532              26847930  ...      0      1\n",
              "6076       876494              26743966  ...      0      1\n",
              "3340       913655              31419673  ...      1      0\n",
              "\n",
              "[5 rows x 52 columns]"
            ]
          },
          "metadata": {
            "tags": []
          },
          "execution_count": 153
        }
      ]
    },
    {
      "cell_type": "markdown",
      "metadata": {
        "id": "6STNqeD0Kdp0",
        "colab_type": "text"
      },
      "source": [
        "## Ideas\n",
        "\n",
        "*   Tokenize text to get NBA team's Instagram. Perform `OneHotEncoding` on names.\n",
        "*   Tokenize text to get players's Instagram. Perform `OneHotEncoding` on names.\n",
        "*   Time, i.e., before or after game, playoffs or regular.\n"
      ]
    },
    {
      "cell_type": "code",
      "metadata": {
        "id": "aAoKzi--i1k2",
        "colab_type": "code",
        "colab": {}
      },
      "source": [
        ""
      ],
      "execution_count": 0,
      "outputs": []
    }
  ]
}