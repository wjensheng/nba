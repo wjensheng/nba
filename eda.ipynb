{
  "nbformat": 4,
  "nbformat_minor": 0,
  "metadata": {
    "colab": {
      "name": "eda.ipynb",
      "version": "0.3.2",
      "provenance": [],
      "collapsed_sections": []
    },
    "kernelspec": {
      "name": "python3",
      "display_name": "Python 3"
    },
    "accelerator": "GPU"
  },
  "cells": [
    {
      "cell_type": "code",
      "metadata": {
        "id": "3PJh8GCBygUD",
        "colab_type": "code",
        "outputId": "8e29e1f0-eccf-424d-f532-45fb270ceb47",
        "colab": {
          "base_uri": "https://localhost:8080/",
          "height": 55
        }
      },
      "source": [
        "# Load the Drive helper and mount\n",
        "from google.colab import drive\n",
        "\n",
        "# This will prompt for authorization.\n",
        "drive.mount('/content/drive')"
      ],
      "execution_count": 0,
      "outputs": [
        {
          "output_type": "stream",
          "text": [
            "Drive already mounted at /content/drive; to attempt to forcibly remount, call drive.mount(\"/content/drive\", force_remount=True).\n"
          ],
          "name": "stdout"
        }
      ]
    },
    {
      "cell_type": "markdown",
      "metadata": {
        "id": "d1j1nf40Jqin",
        "colab_type": "text"
      },
      "source": [
        "## Imports"
      ]
    },
    {
      "cell_type": "code",
      "metadata": {
        "id": "LYvPY7HsyiC9",
        "colab_type": "code",
        "colab": {}
      },
      "source": [
        "import pandas as pd\n",
        "import numpy as np\n",
        "import seaborn as sns\n",
        "import matplotlib.pyplot as plt\n",
        "import os\n",
        "import gc\n",
        "import re\n",
        "\n",
        "from tqdm import tqdm\n",
        "\n",
        "from sklearn.model_selection import KFold, StratifiedKFold\n",
        "from sklearn.metrics import roc_auc_score\n",
        "from sklearn.preprocessing import scale, minmax_scale\n",
        "from scipy.stats import norm\n",
        "\n",
        "import lightgbm as lgb\n",
        "\n",
        "import warnings\n",
        "warnings.simplefilter(action='ignore')\n",
        "warnings.filterwarnings('ignore')\n",
        "\n",
        "# change to path\n",
        "PATH='/content/drive/My Drive/Colab Notebooks/nba/'\n",
        "os.chdir(PATH)"
      ],
      "execution_count": 0,
      "outputs": []
    },
    {
      "cell_type": "markdown",
      "metadata": {
        "id": "R0IPldBKJsUe",
        "colab_type": "text"
      },
      "source": [
        "## Read in"
      ]
    },
    {
      "cell_type": "code",
      "metadata": {
        "id": "FitXRBMFRMpH",
        "colab_type": "code",
        "outputId": "a6e89786-84dc-4704-8aeb-f1847327284d",
        "colab": {
          "base_uri": "https://localhost:8080/",
          "height": 302
        }
      },
      "source": [
        "train = pd.read_csv(f'{PATH}/dataset/training_set.csv', encoding = 'ISO-8859-1')\n",
        "test = pd.read_csv(f'{PATH}/dataset/holdout_set.csv', encoding = 'ISO-8859-1')\n",
        "\n",
        "train.head()"
      ],
      "execution_count": 0,
      "outputs": [
        {
          "output_type": "execute_result",
          "data": {
            "text/html": [
              "<div>\n",
              "<style scoped>\n",
              "    .dataframe tbody tr th:only-of-type {\n",
              "        vertical-align: middle;\n",
              "    }\n",
              "\n",
              "    .dataframe tbody tr th {\n",
              "        vertical-align: top;\n",
              "    }\n",
              "\n",
              "    .dataframe thead th {\n",
              "        text-align: right;\n",
              "    }\n",
              "</style>\n",
              "<table border=\"1\" class=\"dataframe\">\n",
              "  <thead>\n",
              "    <tr style=\"text-align: right;\">\n",
              "      <th></th>\n",
              "      <th>Engagements</th>\n",
              "      <th>Followers at Posting</th>\n",
              "      <th>Created</th>\n",
              "      <th>Type</th>\n",
              "      <th>Description</th>\n",
              "    </tr>\n",
              "  </thead>\n",
              "  <tbody>\n",
              "    <tr>\n",
              "      <th>0</th>\n",
              "      <td>502093</td>\n",
              "      <td>36984682</td>\n",
              "      <td>2019-05-21 23:30:51 EDT</td>\n",
              "      <td>Video</td>\n",
              "      <td>The @raptors bench trio of @sergeibaka @norman...</td>\n",
              "    </tr>\n",
              "    <tr>\n",
              "      <th>1</th>\n",
              "      <td>603380</td>\n",
              "      <td>36984682</td>\n",
              "      <td>2019-05-21 22:53:33 EDT</td>\n",
              "      <td>Video</td>\n",
              "      <td>@kyle_lowry7 pulls from deep for the @raptors ...</td>\n",
              "    </tr>\n",
              "    <tr>\n",
              "      <th>2</th>\n",
              "      <td>603380</td>\n",
              "      <td>36984682</td>\n",
              "      <td>2019-05-21 22:19:58 EDT</td>\n",
              "      <td>Video</td>\n",
              "      <td>@k_mid22 with some english on the @bucks dime!</td>\n",
              "    </tr>\n",
              "    <tr>\n",
              "      <th>3</th>\n",
              "      <td>725100</td>\n",
              "      <td>36984682</td>\n",
              "      <td>2019-05-21 22:02:41 EDT</td>\n",
              "      <td>Video</td>\n",
              "      <td>Kawhi punches it home with the left on TNT!</td>\n",
              "    </tr>\n",
              "    <tr>\n",
              "      <th>4</th>\n",
              "      <td>661446</td>\n",
              "      <td>36984682</td>\n",
              "      <td>2019-05-21 20:47:49 EDT</td>\n",
              "      <td>Video</td>\n",
              "      <td>@giannis_an34 goes baseline early to rock the ...</td>\n",
              "    </tr>\n",
              "  </tbody>\n",
              "</table>\n",
              "</div>"
            ],
            "text/plain": [
              "   Engagements  ...                                        Description\n",
              "0       502093  ...  The @raptors bench trio of @sergeibaka @norman...\n",
              "1       603380  ...  @kyle_lowry7 pulls from deep for the @raptors ...\n",
              "2       603380  ...     @k_mid22 with some english on the @bucks dime!\n",
              "3       725100  ...        Kawhi punches it home with the left on TNT!\n",
              "4       661446  ...  @giannis_an34 goes baseline early to rock the ...\n",
              "\n",
              "[5 rows x 5 columns]"
            ]
          },
          "metadata": {
            "tags": []
          },
          "execution_count": 244
        }
      ]
    },
    {
      "cell_type": "code",
      "metadata": {
        "id": "Eilv-pivbbKX",
        "colab_type": "code",
        "outputId": "aa6fab87-64fe-4139-dcaf-d6b29fa9639c",
        "colab": {
          "base_uri": "https://localhost:8080/",
          "height": 35
        }
      },
      "source": [
        "len(train), len(test)"
      ],
      "execution_count": 0,
      "outputs": [
        {
          "output_type": "execute_result",
          "data": {
            "text/plain": [
              "(7766, 1000)"
            ]
          },
          "metadata": {
            "tags": []
          },
          "execution_count": 5
        }
      ]
    },
    {
      "cell_type": "markdown",
      "metadata": {
        "id": "4wnq_qbjLMZq",
        "colab_type": "text"
      },
      "source": [
        "## EDA on target"
      ]
    },
    {
      "cell_type": "code",
      "metadata": {
        "id": "lcgi0VU3LNNd",
        "colab_type": "code",
        "outputId": "8296734c-8367-4422-f855-de33f0b42310",
        "colab": {
          "base_uri": "https://localhost:8080/",
          "height": 295
        }
      },
      "source": [
        "plt.title('Distribution of Engagement')\n",
        "sns.distplot(train['Engagements'])\n",
        "plt.show()"
      ],
      "execution_count": 0,
      "outputs": [
        {
          "output_type": "display_data",
          "data": {
            "image/png": "[encoded data removed]",
            "text/plain": [
              "<Figure size 432x288 with 1 Axes>"
            ]
          },
          "metadata": {
            "tags": []
          }
        }
      ]
    },
    {
      "cell_type": "code",
      "metadata": {
        "id": "B3E6QIY8LtpV",
        "colab_type": "code",
        "outputId": "6c638890-7870-4a13-f013-1385f237d29a",
        "colab": {
          "base_uri": "https://localhost:8080/",
          "height": 302
        }
      },
      "source": [
        "train.query('Engagements > 1_050_000').\\\n",
        "    sort_values('Engagements', ascending=False).\\\n",
        "    head()"
      ],
      "execution_count": 0,
      "outputs": [
        {
          "output_type": "execute_result",
          "data": {
            "text/html": [
              "<div>\n",
              "<style scoped>\n",
              "    .dataframe tbody tr th:only-of-type {\n",
              "        vertical-align: middle;\n",
              "    }\n",
              "\n",
              "    .dataframe tbody tr th {\n",
              "        vertical-align: top;\n",
              "    }\n",
              "\n",
              "    .dataframe thead th {\n",
              "        text-align: right;\n",
              "    }\n",
              "</style>\n",
              "<table border=\"1\" class=\"dataframe\">\n",
              "  <thead>\n",
              "    <tr style=\"text-align: right;\">\n",
              "      <th></th>\n",
              "      <th>Engagements</th>\n",
              "      <th>Followers at Posting</th>\n",
              "      <th>Created</th>\n",
              "      <th>Type</th>\n",
              "      <th>Description</th>\n",
              "    </tr>\n",
              "  </thead>\n",
              "  <tbody>\n",
              "    <tr>\n",
              "      <th>5921</th>\n",
              "      <td>1129585</td>\n",
              "      <td>26873604</td>\n",
              "      <td>2018-02-18 19:59:49 EST</td>\n",
              "      <td>Video</td>\n",
              "      <td>The captains meet for pregame #NBAAllStar talk...</td>\n",
              "    </tr>\n",
              "    <tr>\n",
              "      <th>3699</th>\n",
              "      <td>1077014</td>\n",
              "      <td>30719053</td>\n",
              "      <td>2018-09-16 12:06:15 EDT</td>\n",
              "      <td>Video</td>\n",
              "      <td>30 days from #KiaTipOff18... we flashback to @...</td>\n",
              "    </tr>\n",
              "    <tr>\n",
              "      <th>3876</th>\n",
              "      <td>1075434</td>\n",
              "      <td>30047470</td>\n",
              "      <td>2018-08-11 20:55:20 EDT</td>\n",
              "      <td>Video</td>\n",
              "      <td>At #1 on the TOP 60 DIMES... @kingjames! #NBAA...</td>\n",
              "    </tr>\n",
              "    <tr>\n",
              "      <th>5901</th>\n",
              "      <td>1067990</td>\n",
              "      <td>26873604</td>\n",
              "      <td>2018-02-18 23:32:14 EST</td>\n",
              "      <td>Video</td>\n",
              "      <td>@kingjames (29p/10r/8a) hoists the 2018 #NBAAl...</td>\n",
              "    </tr>\n",
              "    <tr>\n",
              "      <th>3762</th>\n",
              "      <td>1066099</td>\n",
              "      <td>30442523</td>\n",
              "      <td>2018-09-01 12:18:40 EDT</td>\n",
              "      <td>Video</td>\n",
              "      <td>Coming in at No.5...@kyrieirving SOMEHOW finds...</td>\n",
              "    </tr>\n",
              "  </tbody>\n",
              "</table>\n",
              "</div>"
            ],
            "text/plain": [
              "      Engagements  ...                                        Description\n",
              "5921      1129585  ...  The captains meet for pregame #NBAAllStar talk...\n",
              "3699      1077014  ...  30 days from #KiaTipOff18... we flashback to @...\n",
              "3876      1075434  ...  At #1 on the TOP 60 DIMES... @kingjames! #NBAA...\n",
              "5901      1067990  ...  @kingjames (29p/10r/8a) hoists the 2018 #NBAAl...\n",
              "3762      1066099  ...  Coming in at No.5...@kyrieirving SOMEHOW finds...\n",
              "\n",
              "[5 rows x 5 columns]"
            ]
          },
          "metadata": {
            "tags": []
          },
          "execution_count": 7
        }
      ]
    },
    {
      "cell_type": "markdown",
      "metadata": {
        "id": "Dlws6KXyMuGZ",
        "colab_type": "text"
      },
      "source": [
        "Highest `Engagements` at 1.1 million. Since `Engagement` is dependent on the number of followers, it would be better to take the percentage."
      ]
    },
    {
      "cell_type": "code",
      "metadata": {
        "id": "w_zst-nPM5rR",
        "colab_type": "code",
        "outputId": "d2af7b1c-b9b9-40ac-aae6-a4d8d8885fbe",
        "colab": {
          "base_uri": "https://localhost:8080/",
          "height": 302
        }
      },
      "source": [
        "train['pct_engage'] = train['Engagements'] / train.iloc[:,1]\n",
        "\n",
        "train.head()"
      ],
      "execution_count": 0,
      "outputs": [
        {
          "output_type": "execute_result",
          "data": {
            "text/html": [
              "<div>\n",
              "<style scoped>\n",
              "    .dataframe tbody tr th:only-of-type {\n",
              "        vertical-align: middle;\n",
              "    }\n",
              "\n",
              "    .dataframe tbody tr th {\n",
              "        vertical-align: top;\n",
              "    }\n",
              "\n",
              "    .dataframe thead th {\n",
              "        text-align: right;\n",
              "    }\n",
              "</style>\n",
              "<table border=\"1\" class=\"dataframe\">\n",
              "  <thead>\n",
              "    <tr style=\"text-align: right;\">\n",
              "      <th></th>\n",
              "      <th>Engagements</th>\n",
              "      <th>Followers at Posting</th>\n",
              "      <th>Created</th>\n",
              "      <th>Type</th>\n",
              "      <th>Description</th>\n",
              "      <th>pct_engage</th>\n",
              "    </tr>\n",
              "  </thead>\n",
              "  <tbody>\n",
              "    <tr>\n",
              "      <th>0</th>\n",
              "      <td>502093</td>\n",
              "      <td>36984682</td>\n",
              "      <td>2019-05-21 23:30:51 EDT</td>\n",
              "      <td>Video</td>\n",
              "      <td>The @raptors bench trio of @sergeibaka @norman...</td>\n",
              "      <td>0.013576</td>\n",
              "    </tr>\n",
              "    <tr>\n",
              "      <th>1</th>\n",
              "      <td>603380</td>\n",
              "      <td>36984682</td>\n",
              "      <td>2019-05-21 22:53:33 EDT</td>\n",
              "      <td>Video</td>\n",
              "      <td>@kyle_lowry7 pulls from deep for the @raptors ...</td>\n",
              "      <td>0.016314</td>\n",
              "    </tr>\n",
              "    <tr>\n",
              "      <th>2</th>\n",
              "      <td>603380</td>\n",
              "      <td>36984682</td>\n",
              "      <td>2019-05-21 22:19:58 EDT</td>\n",
              "      <td>Video</td>\n",
              "      <td>@k_mid22 with some english on the @bucks dime!</td>\n",
              "      <td>0.016314</td>\n",
              "    </tr>\n",
              "    <tr>\n",
              "      <th>3</th>\n",
              "      <td>725100</td>\n",
              "      <td>36984682</td>\n",
              "      <td>2019-05-21 22:02:41 EDT</td>\n",
              "      <td>Video</td>\n",
              "      <td>Kawhi punches it home with the left on TNT!</td>\n",
              "      <td>0.019605</td>\n",
              "    </tr>\n",
              "    <tr>\n",
              "      <th>4</th>\n",
              "      <td>661446</td>\n",
              "      <td>36984682</td>\n",
              "      <td>2019-05-21 20:47:49 EDT</td>\n",
              "      <td>Video</td>\n",
              "      <td>@giannis_an34 goes baseline early to rock the ...</td>\n",
              "      <td>0.017884</td>\n",
              "    </tr>\n",
              "  </tbody>\n",
              "</table>\n",
              "</div>"
            ],
            "text/plain": [
              "   Engagements  ...  pct_engage\n",
              "0       502093  ...    0.013576\n",
              "1       603380  ...    0.016314\n",
              "2       603380  ...    0.016314\n",
              "3       725100  ...    0.019605\n",
              "4       661446  ...    0.017884\n",
              "\n",
              "[5 rows x 6 columns]"
            ]
          },
          "metadata": {
            "tags": []
          },
          "execution_count": 8
        }
      ]
    },
    {
      "cell_type": "code",
      "metadata": {
        "id": "r1KIMFSQM7bt",
        "colab_type": "code",
        "outputId": "f1f80cde-8ec8-448f-dd2a-de060a7fc950",
        "colab": {
          "base_uri": "https://localhost:8080/",
          "height": 296
        }
      },
      "source": [
        "plt.title('Distribution of % Engagement')\n",
        "sns.distplot(train['pct_engage'])\n",
        "plt.show()"
      ],
      "execution_count": 0,
      "outputs": [
        {
          "output_type": "display_data",
          "data": {
            "image/png": "[encoded data removed]",
            "text/plain": [
              "<Figure size 432x288 with 1 Axes>"
            ]
          },
          "metadata": {
            "tags": []
          }
        }
      ]
    },
    {
      "cell_type": "code",
      "metadata": {
        "id": "J8xMdJvPNCX7",
        "colab_type": "code",
        "outputId": "b1c0dcbb-6a0c-4fc6-9d37-5e0637631628",
        "colab": {
          "base_uri": "https://localhost:8080/",
          "height": 302
        }
      },
      "source": [
        "train.query('pct_engage > 0.038').\\\n",
        "    sort_values('pct_engage', ascending=False).\\\n",
        "    head()"
      ],
      "execution_count": 0,
      "outputs": [
        {
          "output_type": "execute_result",
          "data": {
            "text/html": [
              "<div>\n",
              "<style scoped>\n",
              "    .dataframe tbody tr th:only-of-type {\n",
              "        vertical-align: middle;\n",
              "    }\n",
              "\n",
              "    .dataframe tbody tr th {\n",
              "        vertical-align: top;\n",
              "    }\n",
              "\n",
              "    .dataframe thead th {\n",
              "        text-align: right;\n",
              "    }\n",
              "</style>\n",
              "<table border=\"1\" class=\"dataframe\">\n",
              "  <thead>\n",
              "    <tr style=\"text-align: right;\">\n",
              "      <th></th>\n",
              "      <th>Engagements</th>\n",
              "      <th>Followers at Posting</th>\n",
              "      <th>Created</th>\n",
              "      <th>Type</th>\n",
              "      <th>Description</th>\n",
              "      <th>pct_engage</th>\n",
              "    </tr>\n",
              "  </thead>\n",
              "  <tbody>\n",
              "    <tr>\n",
              "      <th>5921</th>\n",
              "      <td>1129585</td>\n",
              "      <td>26873604</td>\n",
              "      <td>2018-02-18 19:59:49 EST</td>\n",
              "      <td>Video</td>\n",
              "      <td>The captains meet for pregame #NBAAllStar talk...</td>\n",
              "      <td>0.042033</td>\n",
              "    </tr>\n",
              "    <tr>\n",
              "      <th>6867</th>\n",
              "      <td>1035841</td>\n",
              "      <td>25922734</td>\n",
              "      <td>2017-12-16 21:13:10 EST</td>\n",
              "      <td>Video</td>\n",
              "      <td>?? How did @kingjames do THAT?!?</td>\n",
              "      <td>0.039959</td>\n",
              "    </tr>\n",
              "    <tr>\n",
              "      <th>5901</th>\n",
              "      <td>1067990</td>\n",
              "      <td>26873604</td>\n",
              "      <td>2018-02-18 23:32:14 EST</td>\n",
              "      <td>Video</td>\n",
              "      <td>@kingjames (29p/10r/8a) hoists the 2018 #NBAAl...</td>\n",
              "      <td>0.039741</td>\n",
              "    </tr>\n",
              "    <tr>\n",
              "      <th>6100</th>\n",
              "      <td>1055161</td>\n",
              "      <td>26706824</td>\n",
              "      <td>2018-02-08 21:03:45 EST</td>\n",
              "      <td>Video</td>\n",
              "      <td>???? @kyrieirving ????</td>\n",
              "      <td>0.039509</td>\n",
              "    </tr>\n",
              "    <tr>\n",
              "      <th>5912</th>\n",
              "      <td>1059349</td>\n",
              "      <td>26873604</td>\n",
              "      <td>2018-02-18 22:20:39 EST</td>\n",
              "      <td>Video</td>\n",
              "      <td>@kingjames with the left! #NBAAllStar</td>\n",
              "      <td>0.039420</td>\n",
              "    </tr>\n",
              "  </tbody>\n",
              "</table>\n",
              "</div>"
            ],
            "text/plain": [
              "      Engagements  ...  pct_engage\n",
              "5921      1129585  ...    0.042033\n",
              "6867      1035841  ...    0.039959\n",
              "5901      1067990  ...    0.039741\n",
              "6100      1055161  ...    0.039509\n",
              "5912      1059349  ...    0.039420\n",
              "\n",
              "[5 rows x 6 columns]"
            ]
          },
          "metadata": {
            "tags": []
          },
          "execution_count": 10
        }
      ]
    },
    {
      "cell_type": "markdown",
      "metadata": {
        "id": "M9fOChkNJ7lK",
        "colab_type": "text"
      },
      "source": [
        "## Preprocessing"
      ]
    },
    {
      "cell_type": "code",
      "metadata": {
        "id": "huN_d1BDAudW",
        "colab_type": "code",
        "colab": {}
      },
      "source": [
        "def str_to_date(s, split):\n",
        "    return s.split(' ')[split]\n",
        "  \n",
        "def add_datepart(df, fldname, drop=True, time=False):\n",
        "    \"Helper function that adds columns relevant to a date.\"\n",
        "    fld = df[fldname]\n",
        "    fld_dtype = fld.dtype\n",
        "    if isinstance(fld_dtype, pd.core.dtypes.dtypes.DatetimeTZDtype):\n",
        "        fld_dtype = np.datetime64\n",
        "\n",
        "    if not np.issubdtype(fld_dtype, np.datetime64):\n",
        "        df[fldname] = fld = pd.to_datetime(fld, infer_datetime_format=True)\n",
        "    targ_pre = re.sub('[Dd]ate$', '', fldname)\n",
        "    attr = ['Year', 'Month', 'Week', 'Day', 'Dayofweek', 'Dayofyear',\n",
        "            'Is_month_end', 'Is_month_start', 'Is_quarter_end', 'Is_quarter_start', 'Is_year_end', 'Is_year_start']\n",
        "    if time: attr = attr + ['Hour', 'Minute', 'Second']\n",
        "    for n in attr: df[targ_pre + n] = getattr(fld.dt, n.lower())\n",
        "    df[targ_pre + 'Elapsed'] = fld.astype(np.int64) // 10 ** 9\n",
        "    if drop: df.drop(fldname, axis=1, inplace=True)\n",
        "      \n",
        "def get_time_split(time):\n",
        "    time_minute = time.split(':')[:2]\n",
        "    return int(''.join(time_minute))\n",
        "  \n",
        "def get_hour(time):\n",
        "    return int(time.split(':')[0])\n",
        "  \n",
        "def get_minute(time):\n",
        "    return round(int(time.split(':')[1]), -1)"
      ],
      "execution_count": 0,
      "outputs": []
    },
    {
      "cell_type": "code",
      "metadata": {
        "id": "hMD-FgBE9WNt",
        "colab_type": "code",
        "colab": {}
      },
      "source": [
        "def preprocess(df):\n",
        "    df['date'] = df.apply(lambda x: str_to_date(x['Created'], 0), axis=1)\n",
        "    df['time'] = df.apply(lambda x: str_to_date(x['Created'], 1), axis=1)\n",
        "    df['tz'] = df.apply(lambda x: str_to_date(x['Created'], 2), axis=1)\n",
        "    \n",
        "    # get more features on date\n",
        "    df['date'] = pd.to_datetime(df['date'])\n",
        "    \n",
        "    # date\n",
        "    df['date_tsfm'] = pd.to_datetime(df['date'])\n",
        "    \n",
        "    add_datepart(df, 'date_tsfm')\n",
        "\n",
        "    time_df = pd.get_dummies(df['Type'], \n",
        "                         prefix='Type')\n",
        "\n",
        "    # get only time and hour\n",
        "    df['time_split'] = df['time'].apply(get_time_split)\n",
        "    df['hour'] = df['time'].apply(get_hour)\n",
        "    df['minute'] = df['time'].apply(get_minute)   \n",
        "    \n",
        "    df = pd.concat([df, time_df],\n",
        "                    axis=1)\n",
        "    \n",
        "    return df"
      ],
      "execution_count": 0,
      "outputs": []
    },
    {
      "cell_type": "code",
      "metadata": {
        "id": "OA49gkz0xq6z",
        "colab_type": "code",
        "colab": {}
      },
      "source": [
        "train = preprocess(train)\n",
        "test = preprocess(test)"
      ],
      "execution_count": 0,
      "outputs": []
    },
    {
      "cell_type": "code",
      "metadata": {
        "id": "l7yleXfu-uPL",
        "colab_type": "code",
        "outputId": "de2e2d90-68bb-4bd5-98ef-1580e0b0ce76",
        "colab": {
          "base_uri": "https://localhost:8080/",
          "height": 35
        }
      },
      "source": [
        "train.shape, test.shape"
      ],
      "execution_count": 0,
      "outputs": [
        {
          "output_type": "execute_result",
          "data": {
            "text/plain": [
              "((7766, 30), (1000, 29))"
            ]
          },
          "metadata": {
            "tags": []
          },
          "execution_count": 14
        }
      ]
    },
    {
      "cell_type": "code",
      "metadata": {
        "id": "pC3fsy4wOQkd",
        "colab_type": "code",
        "outputId": "184532cb-f9a4-4838-f56b-1280613d4403",
        "colab": {
          "base_uri": "https://localhost:8080/",
          "height": 512
        }
      },
      "source": [
        "train.head()"
      ],
      "execution_count": 0,
      "outputs": [
        {
          "output_type": "execute_result",
          "data": {
            "text/html": [
              "<div>\n",
              "<style scoped>\n",
              "    .dataframe tbody tr th:only-of-type {\n",
              "        vertical-align: middle;\n",
              "    }\n",
              "\n",
              "    .dataframe tbody tr th {\n",
              "        vertical-align: top;\n",
              "    }\n",
              "\n",
              "    .dataframe thead th {\n",
              "        text-align: right;\n",
              "    }\n",
              "</style>\n",
              "<table border=\"1\" class=\"dataframe\">\n",
              "  <thead>\n",
              "    <tr style=\"text-align: right;\">\n",
              "      <th></th>\n",
              "      <th>Engagements</th>\n",
              "      <th>Followers at Posting</th>\n",
              "      <th>Created</th>\n",
              "      <th>Type</th>\n",
              "      <th>Description</th>\n",
              "      <th>pct_engage</th>\n",
              "      <th>date</th>\n",
              "      <th>time</th>\n",
              "      <th>tz</th>\n",
              "      <th>date_tsfmYear</th>\n",
              "      <th>date_tsfmMonth</th>\n",
              "      <th>date_tsfmWeek</th>\n",
              "      <th>date_tsfmDay</th>\n",
              "      <th>date_tsfmDayofweek</th>\n",
              "      <th>date_tsfmDayofyear</th>\n",
              "      <th>date_tsfmIs_month_end</th>\n",
              "      <th>date_tsfmIs_month_start</th>\n",
              "      <th>date_tsfmIs_quarter_end</th>\n",
              "      <th>date_tsfmIs_quarter_start</th>\n",
              "      <th>date_tsfmIs_year_end</th>\n",
              "      <th>date_tsfmIs_year_start</th>\n",
              "      <th>date_tsfmElapsed</th>\n",
              "      <th>time_split</th>\n",
              "      <th>hour</th>\n",
              "      <th>minute</th>\n",
              "      <th>Type_Album</th>\n",
              "      <th>Type_Photo</th>\n",
              "      <th>Type_Video</th>\n",
              "      <th>tz_EDT</th>\n",
              "      <th>tz_EST</th>\n",
              "    </tr>\n",
              "  </thead>\n",
              "  <tbody>\n",
              "    <tr>\n",
              "      <th>0</th>\n",
              "      <td>502093</td>\n",
              "      <td>36984682</td>\n",
              "      <td>2019-05-21 23:30:51 EDT</td>\n",
              "      <td>Video</td>\n",
              "      <td>The @raptors bench trio of @sergeibaka @norman...</td>\n",
              "      <td>0.013576</td>\n",
              "      <td>2019-05-21</td>\n",
              "      <td>23:30:51</td>\n",
              "      <td>EDT</td>\n",
              "      <td>2019</td>\n",
              "      <td>5</td>\n",
              "      <td>21</td>\n",
              "      <td>21</td>\n",
              "      <td>1</td>\n",
              "      <td>141</td>\n",
              "      <td>False</td>\n",
              "      <td>False</td>\n",
              "      <td>False</td>\n",
              "      <td>False</td>\n",
              "      <td>False</td>\n",
              "      <td>False</td>\n",
              "      <td>1558396800</td>\n",
              "      <td>2330</td>\n",
              "      <td>23</td>\n",
              "      <td>30</td>\n",
              "      <td>0</td>\n",
              "      <td>0</td>\n",
              "      <td>1</td>\n",
              "      <td>1</td>\n",
              "      <td>0</td>\n",
              "    </tr>\n",
              "    <tr>\n",
              "      <th>1</th>\n",
              "      <td>603380</td>\n",
              "      <td>36984682</td>\n",
              "      <td>2019-05-21 22:53:33 EDT</td>\n",
              "      <td>Video</td>\n",
              "      <td>@kyle_lowry7 pulls from deep for the @raptors ...</td>\n",
              "      <td>0.016314</td>\n",
              "      <td>2019-05-21</td>\n",
              "      <td>22:53:33</td>\n",
              "      <td>EDT</td>\n",
              "      <td>2019</td>\n",
              "      <td>5</td>\n",
              "      <td>21</td>\n",
              "      <td>21</td>\n",
              "      <td>1</td>\n",
              "      <td>141</td>\n",
              "      <td>False</td>\n",
              "      <td>False</td>\n",
              "      <td>False</td>\n",
              "      <td>False</td>\n",
              "      <td>False</td>\n",
              "      <td>False</td>\n",
              "      <td>1558396800</td>\n",
              "      <td>2253</td>\n",
              "      <td>22</td>\n",
              "      <td>50</td>\n",
              "      <td>0</td>\n",
              "      <td>0</td>\n",
              "      <td>1</td>\n",
              "      <td>1</td>\n",
              "      <td>0</td>\n",
              "    </tr>\n",
              "    <tr>\n",
              "      <th>2</th>\n",
              "      <td>603380</td>\n",
              "      <td>36984682</td>\n",
              "      <td>2019-05-21 22:19:58 EDT</td>\n",
              "      <td>Video</td>\n",
              "      <td>@k_mid22 with some english on the @bucks dime!</td>\n",
              "      <td>0.016314</td>\n",
              "      <td>2019-05-21</td>\n",
              "      <td>22:19:58</td>\n",
              "      <td>EDT</td>\n",
              "      <td>2019</td>\n",
              "      <td>5</td>\n",
              "      <td>21</td>\n",
              "      <td>21</td>\n",
              "      <td>1</td>\n",
              "      <td>141</td>\n",
              "      <td>False</td>\n",
              "      <td>False</td>\n",
              "      <td>False</td>\n",
              "      <td>False</td>\n",
              "      <td>False</td>\n",
              "      <td>False</td>\n",
              "      <td>1558396800</td>\n",
              "      <td>2219</td>\n",
              "      <td>22</td>\n",
              "      <td>20</td>\n",
              "      <td>0</td>\n",
              "      <td>0</td>\n",
              "      <td>1</td>\n",
              "      <td>1</td>\n",
              "      <td>0</td>\n",
              "    </tr>\n",
              "    <tr>\n",
              "      <th>3</th>\n",
              "      <td>725100</td>\n",
              "      <td>36984682</td>\n",
              "      <td>2019-05-21 22:02:41 EDT</td>\n",
              "      <td>Video</td>\n",
              "      <td>Kawhi punches it home with the left on TNT!</td>\n",
              "      <td>0.019605</td>\n",
              "      <td>2019-05-21</td>\n",
              "      <td>22:02:41</td>\n",
              "      <td>EDT</td>\n",
              "      <td>2019</td>\n",
              "      <td>5</td>\n",
              "      <td>21</td>\n",
              "      <td>21</td>\n",
              "      <td>1</td>\n",
              "      <td>141</td>\n",
              "      <td>False</td>\n",
              "      <td>False</td>\n",
              "      <td>False</td>\n",
              "      <td>False</td>\n",
              "      <td>False</td>\n",
              "      <td>False</td>\n",
              "      <td>1558396800</td>\n",
              "      <td>2202</td>\n",
              "      <td>22</td>\n",
              "      <td>0</td>\n",
              "      <td>0</td>\n",
              "      <td>0</td>\n",
              "      <td>1</td>\n",
              "      <td>1</td>\n",
              "      <td>0</td>\n",
              "    </tr>\n",
              "    <tr>\n",
              "      <th>4</th>\n",
              "      <td>661446</td>\n",
              "      <td>36984682</td>\n",
              "      <td>2019-05-21 20:47:49 EDT</td>\n",
              "      <td>Video</td>\n",
              "      <td>@giannis_an34 goes baseline early to rock the ...</td>\n",
              "      <td>0.017884</td>\n",
              "      <td>2019-05-21</td>\n",
              "      <td>20:47:49</td>\n",
              "      <td>EDT</td>\n",
              "      <td>2019</td>\n",
              "      <td>5</td>\n",
              "      <td>21</td>\n",
              "      <td>21</td>\n",
              "      <td>1</td>\n",
              "      <td>141</td>\n",
              "      <td>False</td>\n",
              "      <td>False</td>\n",
              "      <td>False</td>\n",
              "      <td>False</td>\n",
              "      <td>False</td>\n",
              "      <td>False</td>\n",
              "      <td>1558396800</td>\n",
              "      <td>2047</td>\n",
              "      <td>20</td>\n",
              "      <td>50</td>\n",
              "      <td>0</td>\n",
              "      <td>0</td>\n",
              "      <td>1</td>\n",
              "      <td>1</td>\n",
              "      <td>0</td>\n",
              "    </tr>\n",
              "  </tbody>\n",
              "</table>\n",
              "</div>"
            ],
            "text/plain": [
              "   Engagements  Followers at Posting  ... tz_EDT tz_EST\n",
              "0       502093              36984682  ...      1      0\n",
              "1       603380              36984682  ...      1      0\n",
              "2       603380              36984682  ...      1      0\n",
              "3       725100              36984682  ...      1      0\n",
              "4       661446              36984682  ...      1      0\n",
              "\n",
              "[5 rows x 30 columns]"
            ]
          },
          "metadata": {
            "tags": []
          },
          "execution_count": 15
        }
      ]
    },
    {
      "cell_type": "markdown",
      "metadata": {
        "id": "LnknYzSba2FD",
        "colab_type": "text"
      },
      "source": [
        "## EDA on features"
      ]
    },
    {
      "cell_type": "code",
      "metadata": {
        "id": "DAtW-J0IYdq2",
        "colab_type": "code",
        "outputId": "549573fc-d5e8-4d2f-81a5-bda599348006",
        "colab": {
          "base_uri": "https://localhost:8080/",
          "height": 69
        }
      },
      "source": [
        "train['tz'].value_counts()"
      ],
      "execution_count": 0,
      "outputs": [
        {
          "output_type": "execute_result",
          "data": {
            "text/plain": [
              "EDT    3990\n",
              "EST    3776\n",
              "Name: tz, dtype: int64"
            ]
          },
          "metadata": {
            "tags": []
          },
          "execution_count": 16
        }
      ]
    },
    {
      "cell_type": "code",
      "metadata": {
        "id": "3ecAsVGpYuOT",
        "colab_type": "code",
        "outputId": "3bf8e726-61da-4bce-97cd-4d0d7e95b15d",
        "colab": {
          "base_uri": "https://localhost:8080/",
          "height": 52
        }
      },
      "source": [
        "train[(train['date'] < pd.datetime(2017, 11, 5)) & \n",
        "      (train['date'] > pd.datetime(2017, 3, 12))]['tz'].value_counts()"
      ],
      "execution_count": 0,
      "outputs": [
        {
          "output_type": "execute_result",
          "data": {
            "text/plain": [
              "EDT    382\n",
              "Name: tz, dtype: int64"
            ]
          },
          "metadata": {
            "tags": []
          },
          "execution_count": 17
        }
      ]
    },
    {
      "cell_type": "markdown",
      "metadata": {
        "id": "4PpZpg7lYeW0",
        "colab_type": "text"
      },
      "source": [
        "Seems like we are having an equal split between `EDT` and `EST`. But after performing a check, daylight saving in year 2017 is between 3/12/2017 and 11/5/2017.  Hence, seeing that we only have `EDT` during daylight saving periods. This means we can assume 2300 EDT is the same as 2300 EST."
      ]
    },
    {
      "cell_type": "code",
      "metadata": {
        "id": "AhzZ74D6VvjF",
        "colab_type": "code",
        "outputId": "73886e78-e05a-4f52-f9ef-d75f7df998e3",
        "colab": {
          "base_uri": "https://localhost:8080/",
          "height": 295
        }
      },
      "source": [
        "hour_val_cnt = train['hour'].value_counts().\\\n",
        "                  reset_index(name='count').\\\n",
        "                  rename(columns={'index':'hour'})\n",
        "\n",
        "plt.title('Number of Posts vs Hour')\n",
        "sns.barplot(x=hour_val_cnt['hour'],\n",
        "            y=hour_val_cnt['count'],)\n",
        "plt.show()"
      ],
      "execution_count": 0,
      "outputs": [
        {
          "output_type": "display_data",
          "data": {
            "image/png": "[encoded data removed]",
            "text/plain": [
              "<Figure size 432x288 with 1 Axes>"
            ]
          },
          "metadata": {
            "tags": []
          }
        }
      ]
    },
    {
      "cell_type": "code",
      "metadata": {
        "id": "f_EX22c6c7aY",
        "colab_type": "code",
        "outputId": "57128190-146f-427c-f4f0-89f1bb8dadc1",
        "colab": {
          "base_uri": "https://localhost:8080/",
          "height": 295
        }
      },
      "source": [
        "min_val_cnt = train['minute'].value_counts().\\\n",
        "                reset_index(name='count').\\\n",
        "                rename(columns={'index':'minute'})\n",
        "\n",
        "plt.title('Number of Posts vs Minute')\n",
        "sns.barplot(x=min_val_cnt['minute'],\n",
        "            y=min_val_cnt['count'],)\n",
        "plt.show()"
      ],
      "execution_count": 0,
      "outputs": [
        {
          "output_type": "display_data",
          "data": {
            "image/png": "[encoded data removed]",
            "text/plain": [
              "<Figure size 432x288 with 1 Axes>"
            ]
          },
          "metadata": {
            "tags": []
          }
        }
      ]
    },
    {
      "cell_type": "markdown",
      "metadata": {
        "id": "I09WOWsxV2IH",
        "colab_type": "text"
      },
      "source": [
        "Most posts are share between 8 PM to 12 AM EST."
      ]
    },
    {
      "cell_type": "code",
      "metadata": {
        "id": "0UD_X5x0QD_u",
        "colab_type": "code",
        "outputId": "5973690f-0ebb-4c21-8686-e7e60d28a83b",
        "colab": {
          "base_uri": "https://localhost:8080/",
          "height": 284
        }
      },
      "source": [
        "pct_engage_mean = train.groupby('hour')['pct_engage'].\\\n",
        "                          mean().\\\n",
        "                          reset_index(name='avg_pct_engage')\n",
        "\n",
        "pct_engage_mean.head()\n",
        "\n",
        "# plt.figure(figsize=(8,6))\n",
        "sns.barplot(x=pct_engage_mean['hour'],\n",
        "            y=pct_engage_mean['avg_pct_engage'])\n",
        "plt.show()"
      ],
      "execution_count": 0,
      "outputs": [
        {
          "output_type": "display_data",
          "data": {
            "image/png": "[encoded data removed]",
            "text/plain": [
              "<Figure size 432x288 with 1 Axes>"
            ]
          },
          "metadata": {
            "tags": []
          }
        }
      ]
    },
    {
      "cell_type": "markdown",
      "metadata": {
        "id": "oGpC3JzZZUaN",
        "colab_type": "text"
      },
      "source": [
        "Interestingly, posts shared between 5 AM and 6 AM have surprisingly high `pct_engage` despite fewer posts are shared between those time."
      ]
    },
    {
      "cell_type": "code",
      "metadata": {
        "id": "KuKSOzghZZqu",
        "colab_type": "code",
        "outputId": "a8a2caa8-2830-4aba-cc63-a9fd1e8a2594",
        "colab": {
          "base_uri": "https://localhost:8080/",
          "height": 512
        }
      },
      "source": [
        "train.query('hour == 5').sort_values('pct_engage', ascending=False).head()"
      ],
      "execution_count": 0,
      "outputs": [
        {
          "output_type": "execute_result",
          "data": {
            "text/html": [
              "<div>\n",
              "<style scoped>\n",
              "    .dataframe tbody tr th:only-of-type {\n",
              "        vertical-align: middle;\n",
              "    }\n",
              "\n",
              "    .dataframe tbody tr th {\n",
              "        vertical-align: top;\n",
              "    }\n",
              "\n",
              "    .dataframe thead th {\n",
              "        text-align: right;\n",
              "    }\n",
              "</style>\n",
              "<table border=\"1\" class=\"dataframe\">\n",
              "  <thead>\n",
              "    <tr style=\"text-align: right;\">\n",
              "      <th></th>\n",
              "      <th>Engagements</th>\n",
              "      <th>Followers at Posting</th>\n",
              "      <th>Created</th>\n",
              "      <th>Type</th>\n",
              "      <th>Description</th>\n",
              "      <th>pct_engage</th>\n",
              "      <th>date</th>\n",
              "      <th>time</th>\n",
              "      <th>tz</th>\n",
              "      <th>date_tsfmYear</th>\n",
              "      <th>date_tsfmMonth</th>\n",
              "      <th>date_tsfmWeek</th>\n",
              "      <th>date_tsfmDay</th>\n",
              "      <th>date_tsfmDayofweek</th>\n",
              "      <th>date_tsfmDayofyear</th>\n",
              "      <th>date_tsfmIs_month_end</th>\n",
              "      <th>date_tsfmIs_month_start</th>\n",
              "      <th>date_tsfmIs_quarter_end</th>\n",
              "      <th>date_tsfmIs_quarter_start</th>\n",
              "      <th>date_tsfmIs_year_end</th>\n",
              "      <th>date_tsfmIs_year_start</th>\n",
              "      <th>date_tsfmElapsed</th>\n",
              "      <th>time_split</th>\n",
              "      <th>hour</th>\n",
              "      <th>minute</th>\n",
              "      <th>Type_Album</th>\n",
              "      <th>Type_Photo</th>\n",
              "      <th>Type_Video</th>\n",
              "      <th>tz_EDT</th>\n",
              "      <th>tz_EST</th>\n",
              "    </tr>\n",
              "  </thead>\n",
              "  <tbody>\n",
              "    <tr>\n",
              "      <th>6107</th>\n",
              "      <td>918745</td>\n",
              "      <td>26706824</td>\n",
              "      <td>2018-02-08 05:04:11 EST</td>\n",
              "      <td>Video</td>\n",
              "      <td>Coming through on both ends... @kingjames SWA...</td>\n",
              "      <td>0.034401</td>\n",
              "      <td>2018-02-08</td>\n",
              "      <td>05:04:11</td>\n",
              "      <td>EST</td>\n",
              "      <td>2018</td>\n",
              "      <td>2</td>\n",
              "      <td>6</td>\n",
              "      <td>8</td>\n",
              "      <td>3</td>\n",
              "      <td>39</td>\n",
              "      <td>False</td>\n",
              "      <td>False</td>\n",
              "      <td>False</td>\n",
              "      <td>False</td>\n",
              "      <td>False</td>\n",
              "      <td>False</td>\n",
              "      <td>1518048000</td>\n",
              "      <td>504</td>\n",
              "      <td>5</td>\n",
              "      <td>0</td>\n",
              "      <td>0</td>\n",
              "      <td>0</td>\n",
              "      <td>1</td>\n",
              "      <td>0</td>\n",
              "      <td>1</td>\n",
              "    </tr>\n",
              "    <tr>\n",
              "      <th>7393</th>\n",
              "      <td>844329</td>\n",
              "      <td>25358849</td>\n",
              "      <td>2017-11-04 05:40:47 EDT</td>\n",
              "      <td>Video</td>\n",
              "      <td>Above the rim... with the BEST DUNK from each ...</td>\n",
              "      <td>0.033295</td>\n",
              "      <td>2017-11-04</td>\n",
              "      <td>05:40:47</td>\n",
              "      <td>EDT</td>\n",
              "      <td>2017</td>\n",
              "      <td>11</td>\n",
              "      <td>44</td>\n",
              "      <td>4</td>\n",
              "      <td>5</td>\n",
              "      <td>308</td>\n",
              "      <td>False</td>\n",
              "      <td>False</td>\n",
              "      <td>False</td>\n",
              "      <td>False</td>\n",
              "      <td>False</td>\n",
              "      <td>False</td>\n",
              "      <td>1509753600</td>\n",
              "      <td>540</td>\n",
              "      <td>5</td>\n",
              "      <td>40</td>\n",
              "      <td>0</td>\n",
              "      <td>0</td>\n",
              "      <td>1</td>\n",
              "      <td>1</td>\n",
              "      <td>0</td>\n",
              "    </tr>\n",
              "    <tr>\n",
              "      <th>5965</th>\n",
              "      <td>883532</td>\n",
              "      <td>26847930</td>\n",
              "      <td>2018-02-17 05:03:53 EST</td>\n",
              "      <td>Video</td>\n",
              "      <td>Who had the best DUNK at the #KickstartRisingS...</td>\n",
              "      <td>0.032909</td>\n",
              "      <td>2018-02-17</td>\n",
              "      <td>05:03:53</td>\n",
              "      <td>EST</td>\n",
              "      <td>2018</td>\n",
              "      <td>2</td>\n",
              "      <td>7</td>\n",
              "      <td>17</td>\n",
              "      <td>5</td>\n",
              "      <td>48</td>\n",
              "      <td>False</td>\n",
              "      <td>False</td>\n",
              "      <td>False</td>\n",
              "      <td>False</td>\n",
              "      <td>False</td>\n",
              "      <td>False</td>\n",
              "      <td>1518825600</td>\n",
              "      <td>503</td>\n",
              "      <td>5</td>\n",
              "      <td>0</td>\n",
              "      <td>0</td>\n",
              "      <td>0</td>\n",
              "      <td>1</td>\n",
              "      <td>0</td>\n",
              "      <td>1</td>\n",
              "    </tr>\n",
              "    <tr>\n",
              "      <th>6076</th>\n",
              "      <td>876494</td>\n",
              "      <td>26743966</td>\n",
              "      <td>2018-02-10 05:07:34 EST</td>\n",
              "      <td>Video</td>\n",
              "      <td>??Dwyyyyyyyyyyaaaaane Waaaaaaaaadde!</td>\n",
              "      <td>0.032774</td>\n",
              "      <td>2018-02-10</td>\n",
              "      <td>05:07:34</td>\n",
              "      <td>EST</td>\n",
              "      <td>2018</td>\n",
              "      <td>2</td>\n",
              "      <td>6</td>\n",
              "      <td>10</td>\n",
              "      <td>5</td>\n",
              "      <td>41</td>\n",
              "      <td>False</td>\n",
              "      <td>False</td>\n",
              "      <td>False</td>\n",
              "      <td>False</td>\n",
              "      <td>False</td>\n",
              "      <td>False</td>\n",
              "      <td>1518220800</td>\n",
              "      <td>507</td>\n",
              "      <td>5</td>\n",
              "      <td>10</td>\n",
              "      <td>0</td>\n",
              "      <td>0</td>\n",
              "      <td>1</td>\n",
              "      <td>0</td>\n",
              "      <td>1</td>\n",
              "    </tr>\n",
              "    <tr>\n",
              "      <th>3340</th>\n",
              "      <td>913655</td>\n",
              "      <td>31419673</td>\n",
              "      <td>2018-10-19 05:23:53 EDT</td>\n",
              "      <td>Video</td>\n",
              "      <td>@kingjames puts up 26 points, 12 boards &amp; 6 as...</td>\n",
              "      <td>0.029079</td>\n",
              "      <td>2018-10-19</td>\n",
              "      <td>05:23:53</td>\n",
              "      <td>EDT</td>\n",
              "      <td>2018</td>\n",
              "      <td>10</td>\n",
              "      <td>42</td>\n",
              "      <td>19</td>\n",
              "      <td>4</td>\n",
              "      <td>292</td>\n",
              "      <td>False</td>\n",
              "      <td>False</td>\n",
              "      <td>False</td>\n",
              "      <td>False</td>\n",
              "      <td>False</td>\n",
              "      <td>False</td>\n",
              "      <td>1539907200</td>\n",
              "      <td>523</td>\n",
              "      <td>5</td>\n",
              "      <td>20</td>\n",
              "      <td>0</td>\n",
              "      <td>0</td>\n",
              "      <td>1</td>\n",
              "      <td>1</td>\n",
              "      <td>0</td>\n",
              "    </tr>\n",
              "  </tbody>\n",
              "</table>\n",
              "</div>"
            ],
            "text/plain": [
              "      Engagements  Followers at Posting  ... tz_EDT tz_EST\n",
              "6107       918745              26706824  ...      0      1\n",
              "7393       844329              25358849  ...      1      0\n",
              "5965       883532              26847930  ...      0      1\n",
              "6076       876494              26743966  ...      0      1\n",
              "3340       913655              31419673  ...      1      0\n",
              "\n",
              "[5 rows x 30 columns]"
            ]
          },
          "metadata": {
            "tags": []
          },
          "execution_count": 21
        }
      ]
    },
    {
      "cell_type": "markdown",
      "metadata": {
        "id": "6STNqeD0Kdp0",
        "colab_type": "text"
      },
      "source": [
        "## Ideas\n",
        "\n",
        "*   Tokenize text to get NBA team's Instagram. Perform `OneHotEncoding` on names.\n",
        "*   Tokenize text to get players's Instagram. Perform `OneHotEncoding` on names. Mask names with `[TEAM]_player`.\n",
        "*   Time, i.e., before or after game, playoffs or regular.\n",
        "*   Understand how is `Engagement` generated.\n"
      ]
    },
    {
      "cell_type": "code",
      "metadata": {
        "id": "S14VrF9p2aHa",
        "colab_type": "code",
        "colab": {}
      },
      "source": [
        "import json\n",
        "\n",
        "insta_fn = 'nba_2019-06-08_17-51-45.json'\n",
        "\n",
        "with open(insta_fn, \"r\") as read_file:\n",
        "    data = json.load(read_file)"
      ],
      "execution_count": 0,
      "outputs": []
    },
    {
      "cell_type": "code",
      "metadata": {
        "id": "CT-TTGjr3cYk",
        "colab_type": "code",
        "outputId": "f7a8b217-7ac6-4e60-c242-55d812bf0ceb",
        "colab": {
          "base_uri": "https://localhost:8080/",
          "height": 314
        }
      },
      "source": [
        "data['posts'][0]"
      ],
      "execution_count": 0,
      "outputs": [
        {
          "output_type": "execute_result",
          "data": {
            "text/plain": [
              "{'caption': '',\n",
              " 'comments': {'count': 15, 'list': [{'comment': '', 'user': 'nba'}]},\n",
              " 'date': '2019-05-31T00:02:29.000Z',\n",
              " 'imgdesc': [],\n",
              " 'imgs': [],\n",
              " 'likes': {'count': 850500, 'list': []},\n",
              " 'location': {'latitude': '',\n",
              "  'location_id': 0,\n",
              "  'location_name': '',\n",
              "  'location_url': '',\n",
              "  'longitude': ''},\n",
              " 'mentions': [],\n",
              " 'preview_img': 'https://scontent-dfw5-1.cdninstagram.com/vp/aafc73c5cdc42a8447df766054a25dd5/5CFECE37/t51.2885-15/sh0.08/e35/c0.280.720.720a/s640x640/61507233_137631810642144_4455379891480946401_n.jpg?_nc_ht=scontent-dfw5-1.cdninstagram.com',\n",
              " 'tags': [],\n",
              " 'url': 'https://www.instagram.com/p/ByGya0NAgRf/',\n",
              " 'views': 4745290}"
            ]
          },
          "metadata": {
            "tags": []
          },
          "execution_count": 284
        }
      ]
    },
    {
      "cell_type": "code",
      "metadata": {
        "id": "7-yO_Ace4n2F",
        "colab_type": "code",
        "colab": {}
      },
      "source": [
        "class InstaNBA:\n",
        "    def __init__(self, \n",
        "                 comments, date,\n",
        "                 likes, views):\n",
        "        self.comments = comments\n",
        "        self.date = date\n",
        "        self.likes = likes\n",
        "        self.views = views\n",
        "        "
      ],
      "execution_count": 0,
      "outputs": []
    },
    {
      "cell_type": "code",
      "metadata": {
        "id": "XRfr7xHh5liv",
        "colab_type": "code",
        "colab": {}
      },
      "source": [
        "instanba = InstaNBA(15, '2019-05-31T00:02:29.000Z',\n",
        "                    850500, 4745290)"
      ],
      "execution_count": 0,
      "outputs": []
    },
    {
      "cell_type": "code",
      "metadata": {
        "id": "TE57-BIW5xdi",
        "colab_type": "code",
        "outputId": "8720e473-9a88-463f-be03-f8e85a1c38f5",
        "colab": {
          "base_uri": "https://localhost:8080/",
          "height": 35
        }
      },
      "source": [
        ""
      ],
      "execution_count": 0,
      "outputs": [
        {
          "output_type": "execute_result",
          "data": {
            "text/plain": [
              "15"
            ]
          },
          "metadata": {
            "tags": []
          },
          "execution_count": 288
        }
      ]
    },
    {
      "cell_type": "code",
      "metadata": {
        "id": "u9LfHoOc4EIo",
        "colab_type": "code",
        "outputId": "ef51b583-8c82-4909-f53a-396203a78c83",
        "colab": {
          "base_uri": "https://localhost:8080/",
          "height": 69
        }
      },
      "source": [
        "NBA_container = []\n",
        "keep = 4\n",
        "\n",
        "for post in tqdm(data['posts']):\n",
        "    comments = post['comments']['count']\n",
        "    date = post['date']\n",
        "    likes = post['likes']['count']\n",
        "    views = post['views'] \n",
        "    url = post['url']\n",
        "\n",
        "    NBA_container.append([comments, date, likes, views, url])    "
      ],
      "execution_count": 0,
      "outputs": [
        {
          "output_type": "stream",
          "text": [
            "\n",
            "  0%|          | 0/1000 [00:00<?, ?it/s]\u001b[A\n",
            "100%|██████████| 1000/1000 [00:00<00:00, 161686.29it/s]\u001b[A"
          ],
          "name": "stderr"
        }
      ]
    },
    {
      "cell_type": "code",
      "metadata": {
        "id": "BuFoPkywBfEK",
        "colab_type": "code",
        "colab": {}
      },
      "source": [
        "NBA_container = np.array(NBA_container)\n",
        "\n",
        "insta_NBA = pd.DataFrame()\n",
        "\n",
        "insta_NBA['comments'] = NBA_container[:,0]\n",
        "insta_NBA['date'] = NBA_container[:,1]\n",
        "insta_NBA['likes'] = NBA_container[:,2]\n",
        "insta_NBA['views'] = NBA_container[:,3]\n",
        "insta_NBA['url'] = NBA_container[:,4]"
      ],
      "execution_count": 0,
      "outputs": []
    },
    {
      "cell_type": "code",
      "metadata": {
        "id": "tII4im-cEAgW",
        "colab_type": "code",
        "colab": {}
      },
      "source": [
        "def time_split(s, split):\n",
        "    return s.split('T')[split]\n",
        "\n",
        "insta_NBA['date_split'] = insta_NBA.apply(lambda x: time_split(x['date'], 0), axis=1)\n",
        "\n",
        "insta_NBA['date_split'] = pd.to_datetime(insta_NBA['date_split'])\n",
        "\n",
        "insta_NBA['time'] = insta_NBA.apply(lambda x: time_split(x['date'], 1), axis=1)\n",
        "\n",
        "insta_NBA['time'] = insta_NBA['time'].str.split('.').str[0]"
      ],
      "execution_count": 0,
      "outputs": []
    },
    {
      "cell_type": "code",
      "metadata": {
        "id": "-Hra3jEIESmV",
        "colab_type": "code",
        "outputId": "32494342-b183-4075-e699-1c51603d6b1f",
        "colab": {
          "base_uri": "https://localhost:8080/",
          "height": 1419
        }
      },
      "source": [
        "insta_NBA[insta_NBA['date_split']  == pd.datetime(2019, 5, 21)].sort_values('time')"
      ],
      "execution_count": 0,
      "outputs": [
        {
          "output_type": "execute_result",
          "data": {
            "text/html": [
              "<div>\n",
              "<style scoped>\n",
              "    .dataframe tbody tr th:only-of-type {\n",
              "        vertical-align: middle;\n",
              "    }\n",
              "\n",
              "    .dataframe tbody tr th {\n",
              "        vertical-align: top;\n",
              "    }\n",
              "\n",
              "    .dataframe thead th {\n",
              "        text-align: right;\n",
              "    }\n",
              "</style>\n",
              "<table border=\"1\" class=\"dataframe\">\n",
              "  <thead>\n",
              "    <tr style=\"text-align: right;\">\n",
              "      <th></th>\n",
              "      <th>comments</th>\n",
              "      <th>date</th>\n",
              "      <th>likes</th>\n",
              "      <th>views</th>\n",
              "      <th>url</th>\n",
              "      <th>date_split</th>\n",
              "      <th>time</th>\n",
              "    </tr>\n",
              "  </thead>\n",
              "  <tbody>\n",
              "    <tr>\n",
              "      <th>90</th>\n",
              "      <td>13</td>\n",
              "      <td>2019-05-21T00:14:28.000Z</td>\n",
              "      <td>320314</td>\n",
              "      <td>1659682</td>\n",
              "      <td>https://www.instagram.com/p/BxtDyW-nTEI/</td>\n",
              "      <td>2019-05-21</td>\n",
              "      <td>00:14:28</td>\n",
              "    </tr>\n",
              "    <tr>\n",
              "      <th>599</th>\n",
              "      <td>17</td>\n",
              "      <td>2019-05-21T00:31:46.000Z</td>\n",
              "      <td>124857</td>\n",
              "      <td>0</td>\n",
              "      <td>https://www.instagram.com/p/BxtF4UmHTt_/</td>\n",
              "      <td>2019-05-21</td>\n",
              "      <td>00:31:46</td>\n",
              "    </tr>\n",
              "    <tr>\n",
              "      <th>927</th>\n",
              "      <td>15</td>\n",
              "      <td>2019-05-21T01:26:13.000Z</td>\n",
              "      <td>152533</td>\n",
              "      <td>993127</td>\n",
              "      <td>https://www.instagram.com/p/BxtMFNggcsT/</td>\n",
              "      <td>2019-05-21</td>\n",
              "      <td>01:26:13</td>\n",
              "    </tr>\n",
              "    <tr>\n",
              "      <th>189</th>\n",
              "      <td>13</td>\n",
              "      <td>2019-05-21T02:09:36.000Z</td>\n",
              "      <td>121567</td>\n",
              "      <td>806434</td>\n",
              "      <td>https://www.instagram.com/p/BxtRBViAa-o/</td>\n",
              "      <td>2019-05-21</td>\n",
              "      <td>02:09:36</td>\n",
              "    </tr>\n",
              "    <tr>\n",
              "      <th>673</th>\n",
              "      <td>15</td>\n",
              "      <td>2019-05-21T02:25:20.000Z</td>\n",
              "      <td>192552</td>\n",
              "      <td>1192171</td>\n",
              "      <td>https://www.instagram.com/p/BxtSkJzgqE2/</td>\n",
              "      <td>2019-05-21</td>\n",
              "      <td>02:25:20</td>\n",
              "    </tr>\n",
              "    <tr>\n",
              "      <th>142</th>\n",
              "      <td>15</td>\n",
              "      <td>2019-05-21T02:33:01.000Z</td>\n",
              "      <td>119480</td>\n",
              "      <td>763521</td>\n",
              "      <td>https://www.instagram.com/p/BxtTuDzg-tQ/</td>\n",
              "      <td>2019-05-21</td>\n",
              "      <td>02:33:01</td>\n",
              "    </tr>\n",
              "    <tr>\n",
              "      <th>677</th>\n",
              "      <td>17</td>\n",
              "      <td>2019-05-21T02:40:42.000Z</td>\n",
              "      <td>494911</td>\n",
              "      <td>2655756</td>\n",
              "      <td>https://www.instagram.com/p/BxtUdOvAUNL/</td>\n",
              "      <td>2019-05-21</td>\n",
              "      <td>02:40:42</td>\n",
              "    </tr>\n",
              "    <tr>\n",
              "      <th>390</th>\n",
              "      <td>15</td>\n",
              "      <td>2019-05-21T03:22:01.000Z</td>\n",
              "      <td>399233</td>\n",
              "      <td>0</td>\n",
              "      <td>https://www.instagram.com/p/BxtZXUrgbnD/</td>\n",
              "      <td>2019-05-21</td>\n",
              "      <td>03:22:01</td>\n",
              "    </tr>\n",
              "    <tr>\n",
              "      <th>119</th>\n",
              "      <td>13</td>\n",
              "      <td>2019-05-21T03:24:11.000Z</td>\n",
              "      <td>122640</td>\n",
              "      <td>805149</td>\n",
              "      <td>https://www.instagram.com/p/BxtZi32AxOC/</td>\n",
              "      <td>2019-05-21</td>\n",
              "      <td>03:24:11</td>\n",
              "    </tr>\n",
              "    <tr>\n",
              "      <th>40</th>\n",
              "      <td>13</td>\n",
              "      <td>2019-05-21T03:27:54.000Z</td>\n",
              "      <td>230570</td>\n",
              "      <td>0</td>\n",
              "      <td>https://www.instagram.com/p/BxtaCbvATuz/</td>\n",
              "      <td>2019-05-21</td>\n",
              "      <td>03:27:54</td>\n",
              "    </tr>\n",
              "    <tr>\n",
              "      <th>938</th>\n",
              "      <td>13</td>\n",
              "      <td>2019-05-21T03:29:25.000Z</td>\n",
              "      <td>219445</td>\n",
              "      <td>1303204</td>\n",
              "      <td>https://www.instagram.com/p/BxtaKDmASY5/</td>\n",
              "      <td>2019-05-21</td>\n",
              "      <td>03:29:25</td>\n",
              "    </tr>\n",
              "    <tr>\n",
              "      <th>676</th>\n",
              "      <td>15</td>\n",
              "      <td>2019-05-21T03:33:24.000Z</td>\n",
              "      <td>435705</td>\n",
              "      <td>0</td>\n",
              "      <td>https://www.instagram.com/p/Bxtaqo_ApSs/</td>\n",
              "      <td>2019-05-21</td>\n",
              "      <td>03:33:24</td>\n",
              "    </tr>\n",
              "    <tr>\n",
              "      <th>502</th>\n",
              "      <td>13</td>\n",
              "      <td>2019-05-21T03:45:36.000Z</td>\n",
              "      <td>176919</td>\n",
              "      <td>1291622</td>\n",
              "      <td>https://www.instagram.com/p/Bxtb9GoASbr/</td>\n",
              "      <td>2019-05-21</td>\n",
              "      <td>03:45:36</td>\n",
              "    </tr>\n",
              "    <tr>\n",
              "      <th>532</th>\n",
              "      <td>15</td>\n",
              "      <td>2019-05-21T03:54:39.000Z</td>\n",
              "      <td>752835</td>\n",
              "      <td>0</td>\n",
              "      <td>https://www.instagram.com/p/BxtdGQ9gduu/</td>\n",
              "      <td>2019-05-21</td>\n",
              "      <td>03:54:39</td>\n",
              "    </tr>\n",
              "    <tr>\n",
              "      <th>993</th>\n",
              "      <td>13</td>\n",
              "      <td>2019-05-21T04:13:24.000Z</td>\n",
              "      <td>857532</td>\n",
              "      <td>4724022</td>\n",
              "      <td>https://www.instagram.com/p/BxtfIoHAZ5N/</td>\n",
              "      <td>2019-05-21</td>\n",
              "      <td>04:13:24</td>\n",
              "    </tr>\n",
              "    <tr>\n",
              "      <th>523</th>\n",
              "      <td>13</td>\n",
              "      <td>2019-05-21T04:21:06.000Z</td>\n",
              "      <td>136819</td>\n",
              "      <td>628735</td>\n",
              "      <td>https://www.instagram.com/p/BxtgAzWgRsW/</td>\n",
              "      <td>2019-05-21</td>\n",
              "      <td>04:21:06</td>\n",
              "    </tr>\n",
              "    <tr>\n",
              "      <th>941</th>\n",
              "      <td>13</td>\n",
              "      <td>2019-05-21T04:24:13.000Z</td>\n",
              "      <td>1081941</td>\n",
              "      <td>0</td>\n",
              "      <td>https://www.instagram.com/p/Bxtge2Qg-Ha/</td>\n",
              "      <td>2019-05-21</td>\n",
              "      <td>04:24:13</td>\n",
              "    </tr>\n",
              "    <tr>\n",
              "      <th>194</th>\n",
              "      <td>15</td>\n",
              "      <td>2019-05-21T04:31:13.000Z</td>\n",
              "      <td>155451</td>\n",
              "      <td>1085614</td>\n",
              "      <td>https://www.instagram.com/p/Bxtg-SEgpYf/</td>\n",
              "      <td>2019-05-21</td>\n",
              "      <td>04:31:13</td>\n",
              "    </tr>\n",
              "    <tr>\n",
              "      <th>77</th>\n",
              "      <td>13</td>\n",
              "      <td>2019-05-21T04:38:18.000Z</td>\n",
              "      <td>190555</td>\n",
              "      <td>961921</td>\n",
              "      <td>https://www.instagram.com/p/Bxth_FLgBX4/</td>\n",
              "      <td>2019-05-21</td>\n",
              "      <td>04:38:18</td>\n",
              "    </tr>\n",
              "    <tr>\n",
              "      <th>943</th>\n",
              "      <td>15</td>\n",
              "      <td>2019-05-21T04:48:16.000Z</td>\n",
              "      <td>234183</td>\n",
              "      <td>0</td>\n",
              "      <td>https://www.instagram.com/p/BxtjO9tgiGl/</td>\n",
              "      <td>2019-05-21</td>\n",
              "      <td>04:48:16</td>\n",
              "    </tr>\n",
              "    <tr>\n",
              "      <th>484</th>\n",
              "      <td>15</td>\n",
              "      <td>2019-05-21T05:30:13.000Z</td>\n",
              "      <td>334064</td>\n",
              "      <td>1547662</td>\n",
              "      <td>https://www.instagram.com/p/Bxtn9YvgebR/</td>\n",
              "      <td>2019-05-21</td>\n",
              "      <td>05:30:13</td>\n",
              "    </tr>\n",
              "    <tr>\n",
              "      <th>350</th>\n",
              "      <td>17</td>\n",
              "      <td>2019-05-21T06:09:47.000Z</td>\n",
              "      <td>309066</td>\n",
              "      <td>0</td>\n",
              "      <td>https://www.instagram.com/p/BxtskBCgQMU/</td>\n",
              "      <td>2019-05-21</td>\n",
              "      <td>06:09:47</td>\n",
              "    </tr>\n",
              "    <tr>\n",
              "      <th>602</th>\n",
              "      <td>13</td>\n",
              "      <td>2019-05-21T12:59:02.000Z</td>\n",
              "      <td>292715</td>\n",
              "      <td>0</td>\n",
              "      <td>https://www.instagram.com/p/BxubZcdg0-e/</td>\n",
              "      <td>2019-05-21</td>\n",
              "      <td>12:59:02</td>\n",
              "    </tr>\n",
              "    <tr>\n",
              "      <th>272</th>\n",
              "      <td>17</td>\n",
              "      <td>2019-05-21T16:30:53.000Z</td>\n",
              "      <td>148503</td>\n",
              "      <td>809942</td>\n",
              "      <td>https://www.instagram.com/p/BxuzdtFAWw2/</td>\n",
              "      <td>2019-05-21</td>\n",
              "      <td>16:30:53</td>\n",
              "    </tr>\n",
              "    <tr>\n",
              "      <th>82</th>\n",
              "      <td>13</td>\n",
              "      <td>2019-05-21T18:02:32.000Z</td>\n",
              "      <td>574483</td>\n",
              "      <td>0</td>\n",
              "      <td>https://www.instagram.com/p/Bxu-IWYATVY/</td>\n",
              "      <td>2019-05-21</td>\n",
              "      <td>18:02:32</td>\n",
              "    </tr>\n",
              "    <tr>\n",
              "      <th>428</th>\n",
              "      <td>13</td>\n",
              "      <td>2019-05-21T19:04:31.000Z</td>\n",
              "      <td>104522</td>\n",
              "      <td>704726</td>\n",
              "      <td>https://www.instagram.com/p/BxvFEdvgXHW/</td>\n",
              "      <td>2019-05-21</td>\n",
              "      <td>19:04:31</td>\n",
              "    </tr>\n",
              "    <tr>\n",
              "      <th>969</th>\n",
              "      <td>17</td>\n",
              "      <td>2019-05-21T20:27:53.000Z</td>\n",
              "      <td>272784</td>\n",
              "      <td>1354371</td>\n",
              "      <td>https://www.instagram.com/p/BxvOnA3gffm/</td>\n",
              "      <td>2019-05-21</td>\n",
              "      <td>20:27:53</td>\n",
              "    </tr>\n",
              "    <tr>\n",
              "      <th>440</th>\n",
              "      <td>17</td>\n",
              "      <td>2019-05-21T22:20:09.000Z</td>\n",
              "      <td>173201</td>\n",
              "      <td>1405309</td>\n",
              "      <td>https://www.instagram.com/p/BxvbaCdgaGy/</td>\n",
              "      <td>2019-05-21</td>\n",
              "      <td>22:20:09</td>\n",
              "    </tr>\n",
              "    <tr>\n",
              "      <th>566</th>\n",
              "      <td>13</td>\n",
              "      <td>2019-05-21T23:34:21.000Z</td>\n",
              "      <td>490231</td>\n",
              "      <td>2645084</td>\n",
              "      <td>https://www.instagram.com/p/BxvkA8cgxdd/</td>\n",
              "      <td>2019-05-21</td>\n",
              "      <td>23:34:21</td>\n",
              "    </tr>\n",
              "  </tbody>\n",
              "</table>\n",
              "</div>"
            ],
            "text/plain": [
              "    comments                      date  ... date_split      time\n",
              "90        13  2019-05-21T00:14:28.000Z  ... 2019-05-21  00:14:28\n",
              "599       17  2019-05-21T00:31:46.000Z  ... 2019-05-21  00:31:46\n",
              "927       15  2019-05-21T01:26:13.000Z  ... 2019-05-21  01:26:13\n",
              "189       13  2019-05-21T02:09:36.000Z  ... 2019-05-21  02:09:36\n",
              "673       15  2019-05-21T02:25:20.000Z  ... 2019-05-21  02:25:20\n",
              "142       15  2019-05-21T02:33:01.000Z  ... 2019-05-21  02:33:01\n",
              "677       17  2019-05-21T02:40:42.000Z  ... 2019-05-21  02:40:42\n",
              "390       15  2019-05-21T03:22:01.000Z  ... 2019-05-21  03:22:01\n",
              "119       13  2019-05-21T03:24:11.000Z  ... 2019-05-21  03:24:11\n",
              "40        13  2019-05-21T03:27:54.000Z  ... 2019-05-21  03:27:54\n",
              "938       13  2019-05-21T03:29:25.000Z  ... 2019-05-21  03:29:25\n",
              "676       15  2019-05-21T03:33:24.000Z  ... 2019-05-21  03:33:24\n",
              "502       13  2019-05-21T03:45:36.000Z  ... 2019-05-21  03:45:36\n",
              "532       15  2019-05-21T03:54:39.000Z  ... 2019-05-21  03:54:39\n",
              "993       13  2019-05-21T04:13:24.000Z  ... 2019-05-21  04:13:24\n",
              "523       13  2019-05-21T04:21:06.000Z  ... 2019-05-21  04:21:06\n",
              "941       13  2019-05-21T04:24:13.000Z  ... 2019-05-21  04:24:13\n",
              "194       15  2019-05-21T04:31:13.000Z  ... 2019-05-21  04:31:13\n",
              "77        13  2019-05-21T04:38:18.000Z  ... 2019-05-21  04:38:18\n",
              "943       15  2019-05-21T04:48:16.000Z  ... 2019-05-21  04:48:16\n",
              "484       15  2019-05-21T05:30:13.000Z  ... 2019-05-21  05:30:13\n",
              "350       17  2019-05-21T06:09:47.000Z  ... 2019-05-21  06:09:47\n",
              "602       13  2019-05-21T12:59:02.000Z  ... 2019-05-21  12:59:02\n",
              "272       17  2019-05-21T16:30:53.000Z  ... 2019-05-21  16:30:53\n",
              "82        13  2019-05-21T18:02:32.000Z  ... 2019-05-21  18:02:32\n",
              "428       13  2019-05-21T19:04:31.000Z  ... 2019-05-21  19:04:31\n",
              "969       17  2019-05-21T20:27:53.000Z  ... 2019-05-21  20:27:53\n",
              "440       17  2019-05-21T22:20:09.000Z  ... 2019-05-21  22:20:09\n",
              "566       13  2019-05-21T23:34:21.000Z  ... 2019-05-21  23:34:21\n",
              "\n",
              "[29 rows x 7 columns]"
            ]
          },
          "metadata": {
            "tags": []
          },
          "execution_count": 372
        }
      ]
    },
    {
      "cell_type": "code",
      "metadata": {
        "id": "I8rnm2h4YhXm",
        "colab_type": "code",
        "outputId": "f7b3102b-3ec9-4ada-b521-17fc2d0428d8",
        "colab": {
          "base_uri": "https://localhost:8080/",
          "height": 210
        }
      },
      "source": [
        "# \n",
        "\n",
        "!pip install requests\n",
        "!pip install html5lib\n",
        "!pip install bs4"
      ],
      "execution_count": 0,
      "outputs": [
        {
          "output_type": "stream",
          "text": [
            "Requirement already satisfied: requests in /usr/local/lib/python3.6/dist-packages (2.21.0)\n",
            "Requirement already satisfied: chardet<3.1.0,>=3.0.2 in /usr/local/lib/python3.6/dist-packages (from requests) (3.0.4)\n",
            "Requirement already satisfied: idna<2.9,>=2.5 in /usr/local/lib/python3.6/dist-packages (from requests) (2.8)\n",
            "Requirement already satisfied: urllib3<1.25,>=1.21.1 in /usr/local/lib/python3.6/dist-packages (from requests) (1.24.3)\n",
            "Requirement already satisfied: certifi>=2017.4.17 in /usr/local/lib/python3.6/dist-packages (from requests) (2019.3.9)\n",
            "Requirement already satisfied: html5lib in /usr/local/lib/python3.6/dist-packages (1.0.1)\n",
            "Requirement already satisfied: webencodings in /usr/local/lib/python3.6/dist-packages (from html5lib) (0.5.1)\n",
            "Requirement already satisfied: six>=1.9 in /usr/local/lib/python3.6/dist-packages (from html5lib) (1.12.0)\n",
            "Requirement already satisfied: bs4 in /usr/local/lib/python3.6/dist-packages (0.0.1)\n",
            "Requirement already satisfied: beautifulsoup4 in /usr/local/lib/python3.6/dist-packages (from bs4) (4.6.3)\n"
          ],
          "name": "stdout"
        }
      ]
    },
    {
      "cell_type": "code",
      "metadata": {
        "id": "gC1zPDgqYqgs",
        "colab_type": "code",
        "outputId": "4a61a4c7-3802-4e73-d819-6a51e91e5066",
        "colab": {
          "base_uri": "https://localhost:8080/",
          "height": 55
        }
      },
      "source": [
        ""
      ],
      "execution_count": 0,
      "outputs": [
        {
          "output_type": "stream",
          "text": [
            "b'<!DOCTYPE html>\\n<html lang=\"en\" class=\"no-js not-logged-in \">\\n    <head>\\n        <meta charset=\"utf-8\">\\n        <meta http-equiv=\"X-UA-Compatible\" content=\"IE=edge\">\\n\\n        <title>\\n                  Page Not Found &bull; Instagram\\n                </title>\\n\\n        \\n        <meta name=\"robots\" content=\"noimageindex, noarchive\">\\n        <meta name=\"mobile-web-app-capable\" content=\"yes\">\\n        <meta name=\"theme-color\" content=\"#000000\">\\n        <meta id=\"viewport\" name=\"viewport\" content=\"width=device-width, initial-scale=1, minimum-scale=1, maximum-scale=1, viewport-fit=cover\">\\n        <link rel=\"manifest\" href=\"/data/manifest.json\">\\n\\n        \\n        \\n        \\n\\n        <script type=\"text/javascript\">\\n        (function() {\\n  var docElement = document.documentElement;\\n  var classRE = new RegExp(\\'(^|\\\\\\\\s)no-js(\\\\\\\\s|$)\\');\\n  var className = docElement.className;\\n  docElement.className = className.replace(classRE, \\'$1js$2\\');\\n})();\\n</script>\\n        <script type=\"text/javascript\">\\n(function() {\\n  if (\\'PerformanceObserver\\' in window && \\'PerformancePaintTiming\\' in window) {\\n    window.__bufferedPerformance = [];\\n    var ob = new PerformanceObserver(function(e) {\\n      window.__bufferedPerformance.push.apply(window.__bufferedPerformance,e.getEntries());\\n    });\\n    ob.observe({entryTypes:[\\'paint\\']});\\n  }\\n\\n  window.__bufferedErrors = [];\\n  window.onerror = function(message, url, line, column, error) {\\n    window.__bufferedErrors.push({\\n      message: message,\\n      url: url,\\n      line: line,\\n      column: column,\\n      error: error\\n    });\\n    return false;\\n  };\\n  window.__initialData = {\\n    pending: true,\\n    waiting: []\\n  };\\n  function asyncFetchSharedData(extra) {\\n    var sharedDataReq = new XMLHttpRequest();\\n    sharedDataReq.onreadystatechange = function() {\\n          if (sharedDataReq.readyState === 4) {\\n            if(sharedDataReq.status === 200){\\n              var sharedData = JSON.parse(sharedDataReq.responseText);\\n              window.__initialDataLoaded(sharedData, extra);\\n            }\\n          }\\n        }\\n    sharedDataReq.open(\\'GET\\', \\'/data/shared_data/\\', true);\\n    sharedDataReq.send(null);\\n  }\\n  function notifyLoaded(item, data) {\\n    item.pending = false;\\n    item.data = data;\\n    for (var i = 0;i < item.waiting.length; ++i) {\\n      item.waiting[i].resolve(item.data);\\n    }\\n    item.waiting = [];\\n  }\\n  function notifyError(item, msg) {\\n    item.pending = false;\\n    item.error = new Error(msg);\\n    for (var i = 0;i < item.waiting.length; ++i) {\\n      item.waiting[i].reject(item.error);\\n    }\\n    item.waiting = [];\\n  }\\n  window.__initialDataLoaded = function(initialData, extraData) {\\n    if (extraData) {\\n      for (var key in extraData) {\\n        initialData[key] = extraData[key];\\n      }\\n    }\\n    notifyLoaded(window.__initialData, initialData);\\n  };\\n  window.__initialDataError = function(msg) {\\n    notifyError(window.__initialData, msg);\\n  };\\n  window.__additionalData = {};\\n  window.__pendingAdditionalData = function(paths) {\\n    for (var i = 0;i < paths.length; ++i) {\\n      window.__additionalData[paths[i]] = {\\n        pending: true,\\n        waiting: []\\n      };\\n    }\\n  };\\n  window.__additionalDataLoaded = function(path, data) {\\n    if (path in window.__additionalData) {\\n      notifyLoaded(window.__additionalData[path], data);\\n    } else {\\n      console.error(\\'Unexpected additional data loaded \"\\' + path + \\'\"\\');\\n    }\\n  };\\n  window.__additionalDataError = function(path, msg) {\\n    if (path in window.__additionalData) {\\n      notifyError(window.__additionalData[path], msg);\\n    } else {\\n      console.error(\\'Unexpected additional data encountered an error \"\\' + path + \\'\": \\' + msg);\\n    }\\n  };\\n  \\n})();\\n</script><script type=\"text/javascript\">\\n\\n/*\\n Copyright 2018 Google Inc. All Rights Reserved.\\n Licensed under the Apache License, Version 2.0 (the \"License\");\\n you may not use this file except in compliance with the License.\\n You may obtain a copy of the License at\\n\\n     http://www.apache.org/licenses/LICENSE-2.0\\n\\n Unless required by applicable law or agreed to in writing, software\\n distributed under the License is distributed on an \"AS IS\" BASIS,\\n WITHOUT WARRANTIES OR CONDITIONS OF ANY KIND, either express or implied.\\n See the License for the specific language governing permissions and\\n limitations under the License.\\n*/\\n\\n(function(){function g(a,c){b||(b=a,f=c,h.forEach(function(a){removeEventListener(a,l,e)}),m())}function m(){b&&f&&0<d.length&&(d.forEach(function(a){a(b,f)}),d=[])}function n(a,c){function k(){g(a,c);d()}function b(){d()}function d(){removeEventListener(\"pointerup\",k,e);removeEventListener(\"pointercancel\",b,e)}addEventListener(\"pointerup\",k,e);addEventListener(\"pointercancel\",b,e)}function l(a){if(a.cancelable){var c=performance.now(),b=a.timeStamp;b>c&&(c=+new Date);c-=b;\"pointerdown\"==a.type?n(c,\\na):g(c,a)}}var e={passive:!0,capture:!0},h=[\"click\",\"mousedown\",\"keydown\",\"touchstart\",\"pointerdown\"],b,f,d=[];h.forEach(function(a){addEventListener(a,l,e)});window.perfMetrics=window.perfMetrics||{};window.perfMetrics.onFirstInputDelay=function(a){d.push(a);m()}})();\\n</script>\\n                <link rel=\"apple-touch-icon-precomposed\" sizes=\"76x76\" href=\"/static/images/ico/apple-touch-icon-76x76-precomposed.png/4272e394f5ad.png\">\\n                <link rel=\"apple-touch-icon-precomposed\" sizes=\"120x120\" href=\"/static/images/ico/apple-touch-icon-120x120-precomposed.png/02ba5abf9861.png\">\\n                <link rel=\"apple-touch-icon-precomposed\" sizes=\"152x152\" href=\"/static/images/ico/apple-touch-icon-152x152-precomposed.png/419a6f9c7454.png\">\\n                <link rel=\"apple-touch-icon-precomposed\" sizes=\"167x167\" href=\"/static/images/ico/apple-touch-icon-167x167-precomposed.png/a24e58112f06.png\">\\n                <link rel=\"apple-touch-icon-precomposed\" sizes=\"180x180\" href=\"/static/images/ico/apple-touch-icon-180x180-precomposed.png/85a358fb3b7d.png\">\\n                \\n                    <link rel=\"icon\" sizes=\"192x192\" href=\"/static/images/ico/favicon-192.png/68d99ba29cc8.png\">\\n                \\n            \\n            \\n                    <link rel=\"mask-icon\" href=\"/static/images/ico/favicon.svg/fc72dd4bfde8.svg\" color=\"#262626\">\\n                  \\n                  <link rel=\"shortcut icon\" type=\"image/x-icon\" href=\"/static/images/ico/favicon.ico/36b3ee2d91ed.ico\">\\n                \\n            \\n            \\n    \\n        <style type=\"text/css\">/* @generated \\n * DO NOT CHANGE THIS FILE. Instead, modify the non-build version of \"main.css\"\\n * then run \"yolo css\"\\n */\\nbody{-webkit-font-smoothing:antialiased;background-color:#fafafa;font-family:-apple-system,BlinkMacSystemFont,\"Segoe UI\",Roboto,Helvetica,Arial,sans-serif;margin:0}.client-root{font-size:14px}a{text-decoration:none}.-cx-PRIVATE-Page__body__,.-cx-PRIVATE-Page__main__,.-cx-PRIVATE-Page__root__{display:-webkit-box;display:-webkit-flex;display:-ms-flexbox;display:flex;-webkit-box-orient:vertical;-webkit-box-direction:normal;-webkit-flex-direction:column;-ms-flex-direction:column;flex-direction:column}.-cx-PRIVATE-Page__root__{height:100vh}.-cx-PRIVATE-Page__body__,.-cx-PRIVATE-Page__main__{-webkit-box-flex:1;-webkit-flex:1 0 auto;-ms-flex:1 0 auto;flex:1 0 auto}.-cx-PRIVATE-Page__main__{margin-top:137px;position:relative}@media screen and (max-width:990px){.-cx-PRIVATE-Page__main__{display:block;margin-top:0}}.-cx-PRIVATE-NavBar__root__{background-color:#fff;border-bottom:1px solid #efefef;height:77px;position:fixed;top:0;width:100%;z-index:100}.-cx-PRIVATE-NavBar__profilePic__{display:none}.-cx-PRIVATE-NavBar__username__{color:#003569;display:inline!important;float:right;font-weight:400;margin-right:2px;margin-top:12px}.-cx-PRIVATE-NavBar__signIn__{display:inline-block;float:right;margin-right:2px;margin-top:12px}.-cx-PRIVATE-NavBar__signInText__{color:#003569;font-weight:400}.-cx-PRIVATE-NavBar__logo__{background-image:url(/static/images/branding/logoWhiteoutLockup.png/3a62b1a95da3.png);background-size:100%;height:35px;left:16px;position:absolute;text-indent:-9999em;top:6px;width:176px}.-cx-PRIVATE-NavBar__logo__ a{display:block;height:100%;width:100%}@media screen and (-webkit-min-device-pixel-ratio:1.5),screen and (min-resolution:1.5dppx){.-cx-PRIVATE-NavBar__logo__{background-image:url(/static/images/branding/logoWhiteoutLockup@2x.png/43608c988939.png)}}.-cx-PRIVATE-NavBar__logoGroup__{left:16px;position:absolute;top:6px}.-cx-PRIVATE-NavBar__logoGroup__ .-cx-PRIVATE-NavBar__logo__{position:static}.-cx-PRIVATE-NavBar__wrapper__{margin:0 auto;max-width:1026px;padding:0 16px;position:relative}.-cx-PRIVATE-NavBar__topBarActions__,.-cx-PRIVATE-SidebarLayout__content__ li{list-style:none}.-cx-PRIVATE-NavBar__dropdown__,.-cx-PRIVATE-NavBar__topBarLeft__,.-cx-PRIVATE-SidebarLayout__content__ .separator,.-cx-PRIVATE-SidebarLayout__content__ .subtitle{display:none}.-cx-PRIVATE-SidebarLayout__content__{border-right:1px solid #efefef;height:100%;width:220px}.-cx-PRIVATE-SidebarLayout__content__ ul{margin:0;padding:0}@media screen and (max-width:990px){.-cx-PRIVATE-SidebarLayout__content__{margin:0 px;border:0;width:100%}.-cx-PRIVATE-SidebarLayout__content__ ul{display:none}}.-cx-PRIVATE-SidebarLayout__root__{-webkit-box-sizing:border-box;box-sizing:border-box;height:100%;pointer-events:none;position:absolute;width:100%;z-index:1}@media screen and (max-width:990px){.-cx-PRIVATE-SidebarLayout__root__{height:auto;padding-bottom:0;padding-top:78px;position:static}}.-cx-PRIVATE-SidebarLayout__contentWrapper__,.-cx-PRIVATE-SidebarLayout__navWrapper__{-webkit-box-flex:1;-webkit-flex:1 0 auto;-ms-flex:1 0 auto;flex:1 0 auto;margin:0 auto;position:relative;width:992px}@media screen and (min-width:991px){.-cx-PRIVATE-SidebarLayout__navWrapper__{height:100%}}@media screen and (max-width:990px){.-cx-PRIVATE-SidebarLayout__navWrapper__{-webkit-box-sizing:border-box;box-sizing:border-box;display:inline-block;height:auto;min-height:0;padding:0;width:100%}}.-cx-PRIVATE-SidebarLayout__nav__{float:left;height:100%;padding-right:0;pointer-events:initial;width:256px}@media screen and (max-width:990px){.-cx-PRIVATE-SidebarLayout__nav__{float:none;display:block;margin:0!important;background:0 0;border:0;width:100%}}.-cx-PRIVATE-SidebarLayout__contentWrapper__{background-color:#fff;border:1px solid #efefef;-webkit-box-sizing:border-box;box-sizing:border-box;padding:0 16px 20px}@media screen and (min-width:991px){.-cx-PRIVATE-SidebarLayout__contentWrapper__{border:1px solid #efefef;border-radius:3px}}@media screen and (max-width:990px){.-cx-PRIVATE-SidebarLayout__contentWrapper__{width:100%;-webkit-box-sizing:border-box;box-sizing:border-box}.-cx-PRIVATE-SidebarLayout__pageContent__ .-cx-PRIVATE-SidebarLayout__contentWrapper__{padding:0 10px}}.-cx-PRIVATE-SidebarLayout__pageContent__{color:#262626;margin-left:205px;padding:30px 50px}@media screen and (max-width:990px){.-cx-PRIVATE-SidebarLayout__pageContent__{margin-left:0;margin-right:0;padding:20px 0}}.-cx-PRIVATE-SidebarLayout__pageContent__>:first-child{margin-top:0}.-cx-PRIVATE-SidebarLayout__pageContent__ a{color:#003569}.-cx-PRIVATE-SidebarLayout__pageContent__ h1{font-size:32px;font-weight:400;margin-bottom:20px;margin-top:28px}.-cx-PRIVATE-SidebarLayout__pageContent__ h2{font-size:24px;font-weight:400;margin-bottom:12px;margin-top:28px}.-cx-PRIVATE-SidebarLayout__pageContent__ h3{font-weight:600;margin-bottom:12px;margin-top:28px}.-cx-PRIVATE-SidebarLayout__pageContent__ li{padding-left:8px}.-cx-PRIVATE-SidebarLayout__pageContent__ li:not(:first-child){margin-top:8px}.-cx-PRIVATE-SidebarLayout__pageContent__ pre{white-space:pre-wrap}.-cx-PRIVATE-Navigation__header__{color:#999;font-size:16px;font-weight:initial;margin:0;padding:16px;text-transform:uppercase}@media screen and (max-width:990px){.-cx-PRIVATE-Navigation__header__:first-child{display:block}.-cx-PRIVATE-Navigation__header__:not(:first-child){display:none}.-cx-PRIVATE-Navigation__header__ i{float:left;width:22px;height:18px;margin-right:8px;margin-left:10px;background:url(/static/images/glyphs/disclosure-down@2x.png/9ae8409fbb3a.png) no-repeat center;background-size:14px 14px}.-cx-PRIVATE-SidebarLayout__content__.active .-cx-PRIVATE-Navigation__header__ i{-webkit-transform:rotate(180deg);transform:rotate(180deg)}}.-cx-PRIVATE-Navigation__navLink__,.-cx-PRIVATE-Navigation__navLink__:active,.-cx-PRIVATE-Navigation__navLink__:hover,.-cx-PRIVATE-Navigation__navLink__:visited{border-left:2px solid transparent;-webkit-box-sizing:border-box;box-sizing:border-box;color:#262626;font-size:16px;display:block;padding:16px 16px 16px 30px;width:100%}.-cx-PRIVATE-Navigation__navLink__:hover{border-left-color:#dbdbdb}.-cx-PRIVATE-Navigation__active__ .-cx-PRIVATE-Navigation__navLink__{border-left-color:#262626;font-weight:600}.-cx-PRIVATE-Footer__root__{font-size:12px;height:77px}.-cx-PRIVATE-Footer__copyright__{color:#262626;display:inline-block;float:right;font-weight:600;margin-top:20px;text-transform:uppercase}.-cx-PRIVATE-Footer__nav__{display:inline-block}@media screen and (max-width:990px){.-cx-PRIVATE-Footer__copyright__{text-align:center;width:100%}}.-cx-PRIVATE-Footer__navItems__{margin:20px 0;padding:0;text-align:center}.-cx-PRIVATE-Footer__navItems__ li{display:inline-block;list-style:none}.-cx-PRIVATE-Footer__navItems__ li:not(:first-child){margin-left:15px}.-cx-PRIVATE-Footer__navItems__ a,.-cx-PRIVATE-Footer__navItems__ a:active,.-cx-PRIVATE-Footer__navItems__ a:focus,.-cx-PRIVATE-Footer__navItems__ a:hover,.-cx-PRIVATE-Footer__navItems__ a:visited{color:#003569;font-weight:600;text-transform:uppercase}.-cx-PRIVATE-Footer__wrapper__{margin-left:auto;margin-right:auto;max-width:1026px;padding:0 20px}.-cx-PRIVATE-ErrorPage__errorContainer__{text-align:center}@media (max-width:990px){.-cx-PRIVATE-ErrorPage__errorContainer__{padding:100px 40px 0}}.-cx-PRIVATE-ErrorPage__errorContainer__ a,.-cx-PRIVATE-ErrorPage__errorContainer__ a:visited{color:#003569}.-cx-PRIVATE-Linkshim__followLink__{background-color:#fff;color:#3897f0;border:1px solid #3897f0;border-radius:3px;display:inline-block;-webkit-box-sizing:border-box;box-sizing:border-box;text-align:center;padding:8px;font:inherit;font-weight:700;width:90%}@media (min-width:736px){.-cx-PRIVATE-Linkshim__followLink__{width:10%}}.-cx-PRIVATE-Linkshim__followLink__:active{opacity:.5}.-cx-PRIVATE-Linkshim__followLink__:focus{color:#1372cc;border:1px solid #1372cc}.-cx-PRIVATE-GatedContentPage__userAvatarContainer__{height:70px;text-align:center}.-cx-PRIVATE-GatedContentPage__userAvatar__{border-radius:50%;height:100%;width:auto}</style>\\n    \\n\\n            \\n    <script type=\"text/javascript\" src=\"/static/scripts/jquery.js/a4e77326039e.js\" crossorigin=\"anonymous\"></script>\\n    <script type=\"text/javascript\" src=\"/static/scripts/bluebar.js/2ccc68edcffd.js\" crossorigin=\"anonymous\"></script>\\n</head>\\n    <body class=\" p-error dialog-404\">\\n        \\n            <div class=\"root -cx-PRIVATE-Page__root -cx-PRIVATE-Page__root__\">\\n                \\n                    <div class=\"page -cx-PRIVATE-Page__body -cx-PRIVATE-Page__body__\">\\n                        \\n                            \\n                                <header class=\"top-bar top-bar-new -cx-PRIVATE-NavBar__root -cx-PRIVATE-NavBar__root__\">\\n    <div class=\"top-bar-wrapper -cx-PRIVATE-NavBar__wrapper -cx-PRIVATE-NavBar__wrapper__\">\\n        <div class=\"logo -cx-PRIVATE-NavBar__logo -cx-PRIVATE-NavBar__logo__\"><a href=\"/\">Instagram</a></div>\\n\\n        <div class=\"top-bar-left -cx-PRIVATE-NavBar__topBarLeft -cx-PRIVATE-NavBar__topBarLeft__\">\\n            <ul class=\"top-bar-actions\">\\n                <li>\\n                    <a class=\"top-bar-home\" href=\"/\" label=Home><i></i></a>\\n                </li>\\n            </ul>\\n        </div>\\n\\n        \\n            <div class=\"top-bar-right account-state\" id=\"top_bar_right\">\\n                <ul class=\"top-bar-actions -cx-PRIVATE-NavBar__topBarActions -cx-PRIVATE-NavBar__topBarActions__\">\\n                    \\n                    \\n                      \\n                      <li id=\"link_profile\" class=\"link-signin -cx-PRIVATE-NavBar__signIn -cx-PRIVATE-NavBar__signIn__\">\\n                          <a href=\"/accounts/login/\" class=\"loginLink\">\\n                              <i></i>\\n                              <strong class=\"-cx-PRIVATE-NavBar__signInText -cx-PRIVATE-NavBar__signInText__\">Log in</strong>\\n                          </a>\\n                      </li>\\n                      \\n                    \\n                </ul>\\n            </div>\\n        \\n    </div>\\n</header> <!-- .top-bar -->\\n                            \\n                        \\n\\n                        \\n                        <div class=\"main -cx-PRIVATE-Page__main -cx-PRIVATE-Page__main__\">\\n                            \\n    <div class=\"error-container -cx-PRIVATE-ErrorPage__errorContainer -cx-PRIVATE-ErrorPage__errorContainer__\">\\n    \\n\\n    <h2>Sorry, this page isn&#39;t available.</h2>\\n\\n    <p>\\n        The link you followed may be broken, or the page may have been removed.\\n        <a href=\"/\">Go back to Instagram.</a>\\n    </p>\\n\\n\\n\\n    </div>\\n\\n                        </div> <!-- .main -->\\n                        \\n\\n                    </div> <!-- .page -->\\n\\n                    \\n                    <footer class=\"page-footer -cx-PRIVATE-Footer__root -cx-PRIVATE-Footer__root__\" role=\"contentinfo\">\\n                        <div class=\"wrapper -cx-PRIVATE-Footer__wrapper -cx-PRIVATE-Footer__wrapper__\">\\n                            <nav class=\"-cx-PRIVATE-Footer__nav -cx-PRIVATE-Footer__nav__\">\\n                                <ul class=\"-cx-PRIVATE-Footer__navItems -cx-PRIVATE-Footer__navItems__\">\\n                                    <li><a href=\"/about/us/\">About us</a></li>\\n                                    <li><a href=\"http://help.instagram.com/\">Support</a></li>\\n                                    <li><a href=\"https://instagram-press.com/\">Press</a></li>\\n                                    <li><a href=\"/developer/\">API</a></li>\\n                                    <li><a href=\"/about/jobs/\">Jobs</a></li>\\n                                    <li><a href=\"/legal/privacy/\">Privacy</a></li>\\n                                    <li><a href=\"/legal/terms/\">\\n                                      \\n                                          Terms\\n                                      \\n                                    </a></li>\\n                                </ul>\\n                            </nav>\\n\\n                            <p class=\"copyright -cx-PRIVATE-Footer__copyright -cx-PRIVATE-Footer__copyright__\">&copy; 2019 Instagram</p>\\n                        </div>\\n                    </footer>\\n                    \\n                \\n                <div id=\"reactModalMountPoint\"></div>\\n            </div> <!-- .root -->\\n        \\n        \\n\\n\\n        \\n            \\n\\n            \\n        \\n\\n        <script type=\"text/javascript\">\\n(function(){\\n  function normalizeError(err) {\\n    var errorInfo = err.error || {};\\n    var getConfigProp = function(propName, defaultValueIfNotTruthy) {\\n      var propValue = window._sharedData && window._sharedData[propName];\\n      return propValue ? propValue : defaultValueIfNotTruthy;\\n    };\\n    return {\\n      line: err.line || errorInfo.message || 0,\\n      column: err.column || 0,\\n      name: \\'InitError\\',\\n      message: err.message || errorInfo.message || \\'\\',\\n      script: errorInfo.script || \\'\\',\\n      stack: errorInfo.stackTrace || errorInfo.stack || \\'\\',\\n      timestamp: Date.now(),\\n      ref: window.location.href,\\n      deployment_stage: getConfigProp(\\'deployment_stage\\', \\'\\'),\\n      is_canary: getConfigProp(\\'is_canary\\', false),\\n      rollout_hash: getConfigProp(\\'rollout_hash\\', \\'\\'),\\n      is_prerelease: window.__PRERELEASE__ || false,\\n      bundle_variant: getConfigProp(\\'bundle_variant\\', null),\\n      request_url: err.url || window.location.href,\\n      response_status_code: errorInfo.statusCode || 0\\n    }\\n  }\\n  window.addEventListener(\\'load\\', function(){\\n    if (window.__bufferedErrors && window.__bufferedErrors.length) {\\n      if (window.caches && window.caches.keys && window.caches.delete) {\\n        window.caches.keys().then(function(keys) {\\n          keys.forEach(function(key) {\\n            window.caches.delete(key)\\n          })\\n        })\\n      }\\n      window.__bufferedErrors.map(function(error) {\\n        return normalizeError(error)\\n      }).forEach(function(normalizedError) {\\n        var request = new XMLHttpRequest();\\n        request.open(\\'POST\\', \\'/client_error/\\', true);\\n        request.setRequestHeader(\\'Content-Type\\', \\'application/json; charset=utf-8\\');\\n        request.send(JSON.stringify(normalizedError));\\n      })\\n    }\\n  })\\n}());\\n</script>\\n    </body>\\n</html>\\n'\n"
          ],
          "name": "stdout"
        }
      ]
    },
    {
      "cell_type": "code",
      "metadata": {
        "id": "8POH4dT-Yu82",
        "colab_type": "code",
        "colab": {}
      },
      "source": [
        "import requests \n",
        "URL = \"https://www.instagram.com/p/Bxu-IWYATVY/\t\"\n",
        "r = requests.get(URL) \n",
        "print(r.content) \n",
        "\n",
        "import requests \n",
        "from bs4 import BeautifulSoup \n",
        "  \n",
        "soup = BeautifulSoup(r.content, 'lxml') \n",
        "# print(soup.prettify()) \n",
        "\n",
        "the_word = 'timestamp'\n",
        "script = soup.find_all('script').get_text()"
      ],
      "execution_count": 0,
      "outputs": []
    },
    {
      "cell_type": "code",
      "metadata": {
        "id": "XwbC4-Utyrdf",
        "colab_type": "code",
        "colab": {}
      },
      "source": [
        "# for scrpt in soup.select(\"td.item script\"):\n",
        "#     print(scrpt.next_sibling.strip())"
      ],
      "execution_count": 0,
      "outputs": []
    },
    {
      "cell_type": "code",
      "metadata": {
        "id": "4BkAqK4lya__",
        "colab_type": "code",
        "outputId": "62aa85d5-fa5f-4c64-a57e-d09736185cd0",
        "colab": {
          "base_uri": "https://localhost:8080/",
          "height": 2853
        }
      },
      "source": [
        "# script = soup.find_next('script').find_next('script').find_next('script').find_next('script').find_next('script')\n",
        "\n",
        "# script\n",
        "\n",
        "soup.find_all('script')"
      ],
      "execution_count": 0,
      "outputs": [
        {
          "output_type": "execute_result",
          "data": {
            "text/plain": [
              "[<script type=\"text/javascript\">\n",
              "         (function() {\n",
              "   var docElement = document.documentElement;\n",
              "   var classRE = new RegExp('(^|\\\\s)no-js(\\\\s|$)');\n",
              "   var className = docElement.className;\n",
              "   docElement.className = className.replace(classRE, '$1js$2');\n",
              " })();\n",
              " </script>, <script type=\"text/javascript\">\n",
              " (function() {\n",
              "   if ('PerformanceObserver' in window && 'PerformancePaintTiming' in window) {\n",
              "     window.__bufferedPerformance = [];\n",
              "     var ob = new PerformanceObserver(function(e) {\n",
              "       window.__bufferedPerformance.push.apply(window.__bufferedPerformance,e.getEntries());\n",
              "     });\n",
              "     ob.observe({entryTypes:['paint']});\n",
              "   }\n",
              " \n",
              "   window.__bufferedErrors = [];\n",
              "   window.onerror = function(message, url, line, column, error) {\n",
              "     window.__bufferedErrors.push({\n",
              "       message: message,\n",
              "       url: url,\n",
              "       line: line,\n",
              "       column: column,\n",
              "       error: error\n",
              "     });\n",
              "     return false;\n",
              "   };\n",
              "   window.__initialData = {\n",
              "     pending: true,\n",
              "     waiting: []\n",
              "   };\n",
              "   function asyncFetchSharedData(extra) {\n",
              "     var sharedDataReq = new XMLHttpRequest();\n",
              "     sharedDataReq.onreadystatechange = function() {\n",
              "           if (sharedDataReq.readyState === 4) {\n",
              "             if(sharedDataReq.status === 200){\n",
              "               var sharedData = JSON.parse(sharedDataReq.responseText);\n",
              "               window.__initialDataLoaded(sharedData, extra);\n",
              "             }\n",
              "           }\n",
              "         }\n",
              "     sharedDataReq.open('GET', '/data/shared_data/', true);\n",
              "     sharedDataReq.send(null);\n",
              "   }\n",
              "   function notifyLoaded(item, data) {\n",
              "     item.pending = false;\n",
              "     item.data = data;\n",
              "     for (var i = 0;i < item.waiting.length; ++i) {\n",
              "       item.waiting[i].resolve(item.data);\n",
              "     }\n",
              "     item.waiting = [];\n",
              "   }\n",
              "   function notifyError(item, msg) {\n",
              "     item.pending = false;\n",
              "     item.error = new Error(msg);\n",
              "     for (var i = 0;i < item.waiting.length; ++i) {\n",
              "       item.waiting[i].reject(item.error);\n",
              "     }\n",
              "     item.waiting = [];\n",
              "   }\n",
              "   window.__initialDataLoaded = function(initialData, extraData) {\n",
              "     if (extraData) {\n",
              "       for (var key in extraData) {\n",
              "         initialData[key] = extraData[key];\n",
              "       }\n",
              "     }\n",
              "     notifyLoaded(window.__initialData, initialData);\n",
              "   };\n",
              "   window.__initialDataError = function(msg) {\n",
              "     notifyError(window.__initialData, msg);\n",
              "   };\n",
              "   window.__additionalData = {};\n",
              "   window.__pendingAdditionalData = function(paths) {\n",
              "     for (var i = 0;i < paths.length; ++i) {\n",
              "       window.__additionalData[paths[i]] = {\n",
              "         pending: true,\n",
              "         waiting: []\n",
              "       };\n",
              "     }\n",
              "   };\n",
              "   window.__additionalDataLoaded = function(path, data) {\n",
              "     if (path in window.__additionalData) {\n",
              "       notifyLoaded(window.__additionalData[path], data);\n",
              "     } else {\n",
              "       console.error('Unexpected additional data loaded \"' + path + '\"');\n",
              "     }\n",
              "   };\n",
              "   window.__additionalDataError = function(path, msg) {\n",
              "     if (path in window.__additionalData) {\n",
              "       notifyError(window.__additionalData[path], msg);\n",
              "     } else {\n",
              "       console.error('Unexpected additional data encountered an error \"' + path + '\": ' + msg);\n",
              "     }\n",
              "   };\n",
              "   \n",
              " })();\n",
              " </script>, <script type=\"text/javascript\">\n",
              " \n",
              " /*\n",
              "  Copyright 2018 Google Inc. All Rights Reserved.\n",
              "  Licensed under the Apache License, Version 2.0 (the \"License\");\n",
              "  you may not use this file except in compliance with the License.\n",
              "  You may obtain a copy of the License at\n",
              " \n",
              "      http://www.apache.org/licenses/LICENSE-2.0\n",
              " \n",
              "  Unless required by applicable law or agreed to in writing, software\n",
              "  distributed under the License is distributed on an \"AS IS\" BASIS,\n",
              "  WITHOUT WARRANTIES OR CONDITIONS OF ANY KIND, either express or implied.\n",
              "  See the License for the specific language governing permissions and\n",
              "  limitations under the License.\n",
              " */\n",
              " \n",
              " (function(){function g(a,c){b||(b=a,f=c,h.forEach(function(a){removeEventListener(a,l,e)}),m())}function m(){b&&f&&0<d.length&&(d.forEach(function(a){a(b,f)}),d=[])}function n(a,c){function k(){g(a,c);d()}function b(){d()}function d(){removeEventListener(\"pointerup\",k,e);removeEventListener(\"pointercancel\",b,e)}addEventListener(\"pointerup\",k,e);addEventListener(\"pointercancel\",b,e)}function l(a){if(a.cancelable){var c=performance.now(),b=a.timeStamp;b>c&&(c=+new Date);c-=b;\"pointerdown\"==a.type?n(c,\n",
              " a):g(c,a)}}var e={passive:!0,capture:!0},h=[\"click\",\"mousedown\",\"keydown\",\"touchstart\",\"pointerdown\"],b,f,d=[];h.forEach(function(a){addEventListener(a,l,e)});window.perfMetrics=window.perfMetrics||{};window.perfMetrics.onFirstInputDelay=function(a){d.push(a);m()}})();\n",
              " </script>, <script crossorigin=\"anonymous\" src=\"/static/scripts/jquery.js/a4e77326039e.js\" type=\"text/javascript\"></script>, <script crossorigin=\"anonymous\" src=\"/static/scripts/bluebar.js/2ccc68edcffd.js\" type=\"text/javascript\"></script>, <script type=\"text/javascript\">\n",
              " (function(){\n",
              "   function normalizeError(err) {\n",
              "     var errorInfo = err.error || {};\n",
              "     var getConfigProp = function(propName, defaultValueIfNotTruthy) {\n",
              "       var propValue = window._sharedData && window._sharedData[propName];\n",
              "       return propValue ? propValue : defaultValueIfNotTruthy;\n",
              "     };\n",
              "     return {\n",
              "       line: err.line || errorInfo.message || 0,\n",
              "       column: err.column || 0,\n",
              "       name: 'InitError',\n",
              "       message: err.message || errorInfo.message || '',\n",
              "       script: errorInfo.script || '',\n",
              "       stack: errorInfo.stackTrace || errorInfo.stack || '',\n",
              "       timestamp: Date.now(),\n",
              "       ref: window.location.href,\n",
              "       deployment_stage: getConfigProp('deployment_stage', ''),\n",
              "       is_canary: getConfigProp('is_canary', false),\n",
              "       rollout_hash: getConfigProp('rollout_hash', ''),\n",
              "       is_prerelease: window.__PRERELEASE__ || false,\n",
              "       bundle_variant: getConfigProp('bundle_variant', null),\n",
              "       request_url: err.url || window.location.href,\n",
              "       response_status_code: errorInfo.statusCode || 0\n",
              "     }\n",
              "   }\n",
              "   window.addEventListener('load', function(){\n",
              "     if (window.__bufferedErrors && window.__bufferedErrors.length) {\n",
              "       if (window.caches && window.caches.keys && window.caches.delete) {\n",
              "         window.caches.keys().then(function(keys) {\n",
              "           keys.forEach(function(key) {\n",
              "             window.caches.delete(key)\n",
              "           })\n",
              "         })\n",
              "       }\n",
              "       window.__bufferedErrors.map(function(error) {\n",
              "         return normalizeError(error)\n",
              "       }).forEach(function(normalizedError) {\n",
              "         var request = new XMLHttpRequest();\n",
              "         request.open('POST', '/client_error/', true);\n",
              "         request.setRequestHeader('Content-Type', 'application/json; charset=utf-8');\n",
              "         request.send(JSON.stringify(normalizedError));\n",
              "       })\n",
              "     }\n",
              "   })\n",
              " }());\n",
              " </script>]"
            ]
          },
          "metadata": {
            "tags": []
          },
          "execution_count": 37
        }
      ]
    },
    {
      "cell_type": "code",
      "metadata": {
        "id": "PA_gr3E8yb_b",
        "colab_type": "code",
        "outputId": "be52fb48-bae4-45b7-b850-6250a2f910c8",
        "colab": {
          "base_uri": "https://localhost:8080/",
          "height": 55
        }
      },
      "source": [
        "# view-source:https://www.instagram.com/p/Bxu-IWYATVY/"
      ],
      "execution_count": 0,
      "outputs": [
        {
          "output_type": "execute_result",
          "data": {
            "text/plain": [
              "\"\\n        (function() {\\n  var docElement = document.documentElement;\\n  var classRE = new RegExp('(^|\\\\\\\\s)no-js(\\\\\\\\s|$)');\\n  var className = docElement.className;\\n  docElement.className = className.replace(classRE, '$1js$2');\\n})();\\n\""
            ]
          },
          "metadata": {
            "tags": []
          },
          "execution_count": 24
        }
      ]
    },
    {
      "cell_type": "code",
      "metadata": {
        "id": "puBq4QizU3ky",
        "colab_type": "code",
        "colab": {}
      },
      "source": [
        "# train 12:30:53\tinsta 22:20:09\n",
        "# train 14:02:32 insta 18:02:32\n",
        "\n",
        "# taken_at_timestamp\n",
        "\n",
        "# title\n",
        "\n",
        "# <meta content=\"574.4k Likes, 3,322 Comments - NBA (@nba) on Instagram: “Congrats to the 2018-19 NBA All-Rookie First Team, led by unanimous selections @lukadoncic &amp;amp;…”\" name=\"description\" />\n",
        "\n",
        "\n",
        "# 1558461752"
      ],
      "execution_count": 0,
      "outputs": []
    },
    {
      "cell_type": "code",
      "metadata": {
        "id": "J5TDpHQUFi3k",
        "colab_type": "code",
        "outputId": "15da0da6-4487-4e39-d66e-2ec6390eb153",
        "colab": {
          "base_uri": "https://localhost:8080/",
          "height": 938
        }
      },
      "source": [
        "train[train['date']  == pd.datetime(2019, 5, 21)].sort_values('time', ascending=False).head(10)"
      ],
      "execution_count": 0,
      "outputs": [
        {
          "output_type": "execute_result",
          "data": {
            "text/html": [
              "<div>\n",
              "<style scoped>\n",
              "    .dataframe tbody tr th:only-of-type {\n",
              "        vertical-align: middle;\n",
              "    }\n",
              "\n",
              "    .dataframe tbody tr th {\n",
              "        vertical-align: top;\n",
              "    }\n",
              "\n",
              "    .dataframe thead th {\n",
              "        text-align: right;\n",
              "    }\n",
              "</style>\n",
              "<table border=\"1\" class=\"dataframe\">\n",
              "  <thead>\n",
              "    <tr style=\"text-align: right;\">\n",
              "      <th></th>\n",
              "      <th>Engagements</th>\n",
              "      <th>Followers at Posting</th>\n",
              "      <th>Created</th>\n",
              "      <th>Type</th>\n",
              "      <th>Description</th>\n",
              "      <th>hashes</th>\n",
              "      <th>at_signs</th>\n",
              "      <th>clean_des</th>\n",
              "      <th>date</th>\n",
              "      <th>time</th>\n",
              "      <th>tz</th>\n",
              "      <th>date_tsfmYear</th>\n",
              "      <th>date_tsfmMonth</th>\n",
              "      <th>date_tsfmWeek</th>\n",
              "      <th>date_tsfmDay</th>\n",
              "      <th>date_tsfmDayofweek</th>\n",
              "      <th>date_tsfmDayofyear</th>\n",
              "      <th>date_tsfmIs_month_end</th>\n",
              "      <th>date_tsfmIs_month_start</th>\n",
              "      <th>date_tsfmIs_quarter_end</th>\n",
              "      <th>date_tsfmIs_quarter_start</th>\n",
              "      <th>date_tsfmIs_year_end</th>\n",
              "      <th>date_tsfmIs_year_start</th>\n",
              "      <th>date_tsfmElapsed</th>\n",
              "      <th>time_split</th>\n",
              "      <th>hour</th>\n",
              "      <th>minute</th>\n",
              "      <th>Type_Album</th>\n",
              "      <th>Type_Photo</th>\n",
              "      <th>Type_Video</th>\n",
              "    </tr>\n",
              "  </thead>\n",
              "  <tbody>\n",
              "    <tr>\n",
              "      <th>0</th>\n",
              "      <td>502093</td>\n",
              "      <td>36984682</td>\n",
              "      <td>2019-05-21 23:30:51 EDT</td>\n",
              "      <td>Video</td>\n",
              "      <td>The @raptors bench trio of @sergeibaka @norman...</td>\n",
              "      <td></td>\n",
              "      <td>raptors|sergeibaka|normanpowell4|fredvanvleet</td>\n",
              "      <td>The raptors bench trio of sergeibaka normanpow...</td>\n",
              "      <td>2019-05-21</td>\n",
              "      <td>23:30:51</td>\n",
              "      <td>EDT</td>\n",
              "      <td>2019</td>\n",
              "      <td>5</td>\n",
              "      <td>21</td>\n",
              "      <td>21</td>\n",
              "      <td>1</td>\n",
              "      <td>141</td>\n",
              "      <td>False</td>\n",
              "      <td>False</td>\n",
              "      <td>False</td>\n",
              "      <td>False</td>\n",
              "      <td>False</td>\n",
              "      <td>False</td>\n",
              "      <td>1558396800</td>\n",
              "      <td>2330</td>\n",
              "      <td>23</td>\n",
              "      <td>30</td>\n",
              "      <td>0</td>\n",
              "      <td>0</td>\n",
              "      <td>1</td>\n",
              "    </tr>\n",
              "    <tr>\n",
              "      <th>1</th>\n",
              "      <td>603380</td>\n",
              "      <td>36984682</td>\n",
              "      <td>2019-05-21 22:53:33 EDT</td>\n",
              "      <td>Video</td>\n",
              "      <td>@kyle_lowry7 pulls from deep for the @raptors ...</td>\n",
              "      <td></td>\n",
              "      <td>kyle_lowry7|raptors</td>\n",
              "      <td>kylelowry7 pulls from deep for the raptors in ...</td>\n",
              "      <td>2019-05-21</td>\n",
              "      <td>22:53:33</td>\n",
              "      <td>EDT</td>\n",
              "      <td>2019</td>\n",
              "      <td>5</td>\n",
              "      <td>21</td>\n",
              "      <td>21</td>\n",
              "      <td>1</td>\n",
              "      <td>141</td>\n",
              "      <td>False</td>\n",
              "      <td>False</td>\n",
              "      <td>False</td>\n",
              "      <td>False</td>\n",
              "      <td>False</td>\n",
              "      <td>False</td>\n",
              "      <td>1558396800</td>\n",
              "      <td>2253</td>\n",
              "      <td>22</td>\n",
              "      <td>50</td>\n",
              "      <td>0</td>\n",
              "      <td>0</td>\n",
              "      <td>1</td>\n",
              "    </tr>\n",
              "    <tr>\n",
              "      <th>2</th>\n",
              "      <td>603380</td>\n",
              "      <td>36984682</td>\n",
              "      <td>2019-05-21 22:19:58 EDT</td>\n",
              "      <td>Video</td>\n",
              "      <td>@k_mid22 with some english on the @bucks dime!</td>\n",
              "      <td></td>\n",
              "      <td>k_mid22|bucks</td>\n",
              "      <td>kmid22 with some english on the bucks dime</td>\n",
              "      <td>2019-05-21</td>\n",
              "      <td>22:19:58</td>\n",
              "      <td>EDT</td>\n",
              "      <td>2019</td>\n",
              "      <td>5</td>\n",
              "      <td>21</td>\n",
              "      <td>21</td>\n",
              "      <td>1</td>\n",
              "      <td>141</td>\n",
              "      <td>False</td>\n",
              "      <td>False</td>\n",
              "      <td>False</td>\n",
              "      <td>False</td>\n",
              "      <td>False</td>\n",
              "      <td>False</td>\n",
              "      <td>1558396800</td>\n",
              "      <td>2219</td>\n",
              "      <td>22</td>\n",
              "      <td>20</td>\n",
              "      <td>0</td>\n",
              "      <td>0</td>\n",
              "      <td>1</td>\n",
              "    </tr>\n",
              "    <tr>\n",
              "      <th>3</th>\n",
              "      <td>725100</td>\n",
              "      <td>36984682</td>\n",
              "      <td>2019-05-21 22:02:41 EDT</td>\n",
              "      <td>Video</td>\n",
              "      <td>Kawhi punches it home with the left on TNT!</td>\n",
              "      <td></td>\n",
              "      <td></td>\n",
              "      <td>Kawhi punches it home with the left on TNT</td>\n",
              "      <td>2019-05-21</td>\n",
              "      <td>22:02:41</td>\n",
              "      <td>EDT</td>\n",
              "      <td>2019</td>\n",
              "      <td>5</td>\n",
              "      <td>21</td>\n",
              "      <td>21</td>\n",
              "      <td>1</td>\n",
              "      <td>141</td>\n",
              "      <td>False</td>\n",
              "      <td>False</td>\n",
              "      <td>False</td>\n",
              "      <td>False</td>\n",
              "      <td>False</td>\n",
              "      <td>False</td>\n",
              "      <td>1558396800</td>\n",
              "      <td>2202</td>\n",
              "      <td>22</td>\n",
              "      <td>0</td>\n",
              "      <td>0</td>\n",
              "      <td>0</td>\n",
              "      <td>1</td>\n",
              "    </tr>\n",
              "    <tr>\n",
              "      <th>4</th>\n",
              "      <td>661446</td>\n",
              "      <td>36984682</td>\n",
              "      <td>2019-05-21 20:47:49 EDT</td>\n",
              "      <td>Video</td>\n",
              "      <td>@giannis_an34 goes baseline early to rock the ...</td>\n",
              "      <td></td>\n",
              "      <td>giannis_an34</td>\n",
              "      <td>giannisan34 goes baseline early to rock the ri...</td>\n",
              "      <td>2019-05-21</td>\n",
              "      <td>20:47:49</td>\n",
              "      <td>EDT</td>\n",
              "      <td>2019</td>\n",
              "      <td>5</td>\n",
              "      <td>21</td>\n",
              "      <td>21</td>\n",
              "      <td>1</td>\n",
              "      <td>141</td>\n",
              "      <td>False</td>\n",
              "      <td>False</td>\n",
              "      <td>False</td>\n",
              "      <td>False</td>\n",
              "      <td>False</td>\n",
              "      <td>False</td>\n",
              "      <td>1558396800</td>\n",
              "      <td>2047</td>\n",
              "      <td>20</td>\n",
              "      <td>50</td>\n",
              "      <td>0</td>\n",
              "      <td>0</td>\n",
              "      <td>1</td>\n",
              "    </tr>\n",
              "    <tr>\n",
              "      <th>5</th>\n",
              "      <td>322444</td>\n",
              "      <td>36955156</td>\n",
              "      <td>2019-05-21 14:02:32 EDT</td>\n",
              "      <td>Photo</td>\n",
              "      <td>Congrats to the 2018-19 NBA All-Rookie First T...</td>\n",
              "      <td></td>\n",
              "      <td>lukadoncic|traeyoung</td>\n",
              "      <td>Congrats to the 2018 19 NBA All Rookie First T...</td>\n",
              "      <td>2019-05-21</td>\n",
              "      <td>14:02:32</td>\n",
              "      <td>EDT</td>\n",
              "      <td>2019</td>\n",
              "      <td>5</td>\n",
              "      <td>21</td>\n",
              "      <td>21</td>\n",
              "      <td>1</td>\n",
              "      <td>141</td>\n",
              "      <td>False</td>\n",
              "      <td>False</td>\n",
              "      <td>False</td>\n",
              "      <td>False</td>\n",
              "      <td>False</td>\n",
              "      <td>False</td>\n",
              "      <td>1558396800</td>\n",
              "      <td>1402</td>\n",
              "      <td>14</td>\n",
              "      <td>0</td>\n",
              "      <td>0</td>\n",
              "      <td>1</td>\n",
              "      <td>0</td>\n",
              "    </tr>\n",
              "    <tr>\n",
              "      <th>6</th>\n",
              "      <td>722540</td>\n",
              "      <td>36955156</td>\n",
              "      <td>2019-05-21 12:30:53 EDT</td>\n",
              "      <td>Video</td>\n",
              "      <td>The @warriors locked in for four games to adva...</td>\n",
              "      <td>NBAFinals|GatoradeZero</td>\n",
              "      <td>warriors</td>\n",
              "      <td>The warriors locked in for four games to advan...</td>\n",
              "      <td>2019-05-21</td>\n",
              "      <td>12:30:53</td>\n",
              "      <td>EDT</td>\n",
              "      <td>2019</td>\n",
              "      <td>5</td>\n",
              "      <td>21</td>\n",
              "      <td>21</td>\n",
              "      <td>1</td>\n",
              "      <td>141</td>\n",
              "      <td>False</td>\n",
              "      <td>False</td>\n",
              "      <td>False</td>\n",
              "      <td>False</td>\n",
              "      <td>False</td>\n",
              "      <td>False</td>\n",
              "      <td>1558396800</td>\n",
              "      <td>1230</td>\n",
              "      <td>12</td>\n",
              "      <td>30</td>\n",
              "      <td>0</td>\n",
              "      <td>0</td>\n",
              "      <td>1</td>\n",
              "    </tr>\n",
              "    <tr>\n",
              "      <th>7</th>\n",
              "      <td>339265</td>\n",
              "      <td>36955156</td>\n",
              "      <td>2019-05-21 08:59:02 EDT</td>\n",
              "      <td>Photo</td>\n",
              "      <td>Will the @bucks take a commanding 3-1 lead... ...</td>\n",
              "      <td></td>\n",
              "      <td>bucks|raptors</td>\n",
              "      <td>Will the bucks take a commanding 3 1 lead or w...</td>\n",
              "      <td>2019-05-21</td>\n",
              "      <td>08:59:02</td>\n",
              "      <td>EDT</td>\n",
              "      <td>2019</td>\n",
              "      <td>5</td>\n",
              "      <td>21</td>\n",
              "      <td>21</td>\n",
              "      <td>1</td>\n",
              "      <td>141</td>\n",
              "      <td>False</td>\n",
              "      <td>False</td>\n",
              "      <td>False</td>\n",
              "      <td>False</td>\n",
              "      <td>False</td>\n",
              "      <td>False</td>\n",
              "      <td>1558396800</td>\n",
              "      <td>859</td>\n",
              "      <td>8</td>\n",
              "      <td>60</td>\n",
              "      <td>0</td>\n",
              "      <td>1</td>\n",
              "      <td>0</td>\n",
              "    </tr>\n",
              "    <tr>\n",
              "      <th>8</th>\n",
              "      <td>443330</td>\n",
              "      <td>36955156</td>\n",
              "      <td>2019-05-21 00:48:16 EDT</td>\n",
              "      <td>Photo</td>\n",
              "      <td>TAP to SHOP the @warriors Western Conference C...</td>\n",
              "      <td></td>\n",
              "      <td>warriors|nbastore</td>\n",
              "      <td>TAP to SHOP the warriors Western Conference Ch...</td>\n",
              "      <td>2019-05-21</td>\n",
              "      <td>00:48:16</td>\n",
              "      <td>EDT</td>\n",
              "      <td>2019</td>\n",
              "      <td>5</td>\n",
              "      <td>21</td>\n",
              "      <td>21</td>\n",
              "      <td>1</td>\n",
              "      <td>141</td>\n",
              "      <td>False</td>\n",
              "      <td>False</td>\n",
              "      <td>False</td>\n",
              "      <td>False</td>\n",
              "      <td>False</td>\n",
              "      <td>False</td>\n",
              "      <td>1558396800</td>\n",
              "      <td>48</td>\n",
              "      <td>0</td>\n",
              "      <td>50</td>\n",
              "      <td>0</td>\n",
              "      <td>1</td>\n",
              "      <td>0</td>\n",
              "    </tr>\n",
              "    <tr>\n",
              "      <th>9</th>\n",
              "      <td>652193</td>\n",
              "      <td>36955156</td>\n",
              "      <td>2019-05-21 00:38:18 EDT</td>\n",
              "      <td>Video</td>\n",
              "      <td>Hey @stephencurry30... that was the first time...</td>\n",
              "      <td>NBAPlayoffs</td>\n",
              "      <td>stephencurry30|nbahistory</td>\n",
              "      <td>Hey stephencurry30 that was the first time tea...</td>\n",
              "      <td>2019-05-21</td>\n",
              "      <td>00:38:18</td>\n",
              "      <td>EDT</td>\n",
              "      <td>2019</td>\n",
              "      <td>5</td>\n",
              "      <td>21</td>\n",
              "      <td>21</td>\n",
              "      <td>1</td>\n",
              "      <td>141</td>\n",
              "      <td>False</td>\n",
              "      <td>False</td>\n",
              "      <td>False</td>\n",
              "      <td>False</td>\n",
              "      <td>False</td>\n",
              "      <td>False</td>\n",
              "      <td>1558396800</td>\n",
              "      <td>38</td>\n",
              "      <td>0</td>\n",
              "      <td>40</td>\n",
              "      <td>0</td>\n",
              "      <td>0</td>\n",
              "      <td>1</td>\n",
              "    </tr>\n",
              "  </tbody>\n",
              "</table>\n",
              "</div>"
            ],
            "text/plain": [
              "   Engagements  Followers at Posting  ... Type_Photo Type_Video\n",
              "0       502093              36984682  ...          0          1\n",
              "1       603380              36984682  ...          0          1\n",
              "2       603380              36984682  ...          0          1\n",
              "3       725100              36984682  ...          0          1\n",
              "4       661446              36984682  ...          0          1\n",
              "5       322444              36955156  ...          1          0\n",
              "6       722540              36955156  ...          0          1\n",
              "7       339265              36955156  ...          1          0\n",
              "8       443330              36955156  ...          1          0\n",
              "9       652193              36955156  ...          0          1\n",
              "\n",
              "[10 rows x 30 columns]"
            ]
          },
          "metadata": {
            "tags": []
          },
          "execution_count": 371
        }
      ]
    },
    {
      "cell_type": "code",
      "metadata": {
        "id": "YkFKHoRQDUEL",
        "colab_type": "code",
        "outputId": "85a6bc8b-489b-4839-8085-f29db9e63eda",
        "colab": {
          "base_uri": "https://localhost:8080/",
          "height": 365
        }
      },
      "source": [
        "insta_NBA['date'] = insta_NBA['date'].str.split('T')[0]\n",
        "\n",
        "insta_NBA['time'] = insta_NBA['date'].str.split('T')[1]\n"
      ],
      "execution_count": 0,
      "outputs": [
        {
          "output_type": "error",
          "ename": "ValueError",
          "evalue": "ignored",
          "traceback": [
            "\u001b[0;31m---------------------------------------------------------------------------\u001b[0m",
            "\u001b[0;31mValueError\u001b[0m                                Traceback (most recent call last)",
            "\u001b[0;32m<ipython-input-323-09ffbff7ed50>\u001b[0m in \u001b[0;36m<module>\u001b[0;34m()\u001b[0m\n\u001b[0;32m----> 1\u001b[0;31m \u001b[0minsta_NBA\u001b[0m\u001b[0;34m[\u001b[0m\u001b[0;34m'date'\u001b[0m\u001b[0;34m]\u001b[0m \u001b[0;34m=\u001b[0m \u001b[0minsta_NBA\u001b[0m\u001b[0;34m[\u001b[0m\u001b[0;34m'date'\u001b[0m\u001b[0;34m]\u001b[0m\u001b[0;34m.\u001b[0m\u001b[0mstr\u001b[0m\u001b[0;34m.\u001b[0m\u001b[0msplit\u001b[0m\u001b[0;34m(\u001b[0m\u001b[0;34m'T'\u001b[0m\u001b[0;34m)\u001b[0m\u001b[0;34m[\u001b[0m\u001b[0;36m0\u001b[0m\u001b[0;34m]\u001b[0m\u001b[0;34m\u001b[0m\u001b[0;34m\u001b[0m\u001b[0m\n\u001b[0m\u001b[1;32m      2\u001b[0m \u001b[0;34m\u001b[0m\u001b[0m\n\u001b[1;32m      3\u001b[0m \u001b[0minsta_NBA\u001b[0m\u001b[0;34m[\u001b[0m\u001b[0;34m'time'\u001b[0m\u001b[0;34m]\u001b[0m \u001b[0;34m=\u001b[0m \u001b[0minsta_NBA\u001b[0m\u001b[0;34m[\u001b[0m\u001b[0;34m'date'\u001b[0m\u001b[0;34m]\u001b[0m\u001b[0;34m.\u001b[0m\u001b[0mstr\u001b[0m\u001b[0;34m.\u001b[0m\u001b[0msplit\u001b[0m\u001b[0;34m(\u001b[0m\u001b[0;34m'T'\u001b[0m\u001b[0;34m)\u001b[0m\u001b[0;34m[\u001b[0m\u001b[0;36m1\u001b[0m\u001b[0;34m]\u001b[0m\u001b[0;34m\u001b[0m\u001b[0;34m\u001b[0m\u001b[0m\n",
            "\u001b[0;32m/usr/local/lib/python3.6/dist-packages/pandas/core/frame.py\u001b[0m in \u001b[0;36m__setitem__\u001b[0;34m(self, key, value)\u001b[0m\n\u001b[1;32m   3368\u001b[0m         \u001b[0;32melse\u001b[0m\u001b[0;34m:\u001b[0m\u001b[0;34m\u001b[0m\u001b[0;34m\u001b[0m\u001b[0m\n\u001b[1;32m   3369\u001b[0m             \u001b[0;31m# set column\u001b[0m\u001b[0;34m\u001b[0m\u001b[0;34m\u001b[0m\u001b[0;34m\u001b[0m\u001b[0m\n\u001b[0;32m-> 3370\u001b[0;31m             \u001b[0mself\u001b[0m\u001b[0;34m.\u001b[0m\u001b[0m_set_item\u001b[0m\u001b[0;34m(\u001b[0m\u001b[0mkey\u001b[0m\u001b[0;34m,\u001b[0m \u001b[0mvalue\u001b[0m\u001b[0;34m)\u001b[0m\u001b[0;34m\u001b[0m\u001b[0;34m\u001b[0m\u001b[0m\n\u001b[0m\u001b[1;32m   3371\u001b[0m \u001b[0;34m\u001b[0m\u001b[0m\n\u001b[1;32m   3372\u001b[0m     \u001b[0;32mdef\u001b[0m \u001b[0m_setitem_slice\u001b[0m\u001b[0;34m(\u001b[0m\u001b[0mself\u001b[0m\u001b[0;34m,\u001b[0m \u001b[0mkey\u001b[0m\u001b[0;34m,\u001b[0m \u001b[0mvalue\u001b[0m\u001b[0;34m)\u001b[0m\u001b[0;34m:\u001b[0m\u001b[0;34m\u001b[0m\u001b[0;34m\u001b[0m\u001b[0m\n",
            "\u001b[0;32m/usr/local/lib/python3.6/dist-packages/pandas/core/frame.py\u001b[0m in \u001b[0;36m_set_item\u001b[0;34m(self, key, value)\u001b[0m\n\u001b[1;32m   3443\u001b[0m \u001b[0;34m\u001b[0m\u001b[0m\n\u001b[1;32m   3444\u001b[0m         \u001b[0mself\u001b[0m\u001b[0;34m.\u001b[0m\u001b[0m_ensure_valid_index\u001b[0m\u001b[0;34m(\u001b[0m\u001b[0mvalue\u001b[0m\u001b[0;34m)\u001b[0m\u001b[0;34m\u001b[0m\u001b[0;34m\u001b[0m\u001b[0m\n\u001b[0;32m-> 3445\u001b[0;31m         \u001b[0mvalue\u001b[0m \u001b[0;34m=\u001b[0m \u001b[0mself\u001b[0m\u001b[0;34m.\u001b[0m\u001b[0m_sanitize_column\u001b[0m\u001b[0;34m(\u001b[0m\u001b[0mkey\u001b[0m\u001b[0;34m,\u001b[0m \u001b[0mvalue\u001b[0m\u001b[0;34m)\u001b[0m\u001b[0;34m\u001b[0m\u001b[0;34m\u001b[0m\u001b[0m\n\u001b[0m\u001b[1;32m   3446\u001b[0m         \u001b[0mNDFrame\u001b[0m\u001b[0;34m.\u001b[0m\u001b[0m_set_item\u001b[0m\u001b[0;34m(\u001b[0m\u001b[0mself\u001b[0m\u001b[0;34m,\u001b[0m \u001b[0mkey\u001b[0m\u001b[0;34m,\u001b[0m \u001b[0mvalue\u001b[0m\u001b[0;34m)\u001b[0m\u001b[0;34m\u001b[0m\u001b[0;34m\u001b[0m\u001b[0m\n\u001b[1;32m   3447\u001b[0m \u001b[0;34m\u001b[0m\u001b[0m\n",
            "\u001b[0;32m/usr/local/lib/python3.6/dist-packages/pandas/core/frame.py\u001b[0m in \u001b[0;36m_sanitize_column\u001b[0;34m(self, key, value, broadcast)\u001b[0m\n\u001b[1;32m   3628\u001b[0m \u001b[0;34m\u001b[0m\u001b[0m\n\u001b[1;32m   3629\u001b[0m             \u001b[0;31m# turn me into an ndarray\u001b[0m\u001b[0;34m\u001b[0m\u001b[0;34m\u001b[0m\u001b[0;34m\u001b[0m\u001b[0m\n\u001b[0;32m-> 3630\u001b[0;31m             \u001b[0mvalue\u001b[0m \u001b[0;34m=\u001b[0m \u001b[0msanitize_index\u001b[0m\u001b[0;34m(\u001b[0m\u001b[0mvalue\u001b[0m\u001b[0;34m,\u001b[0m \u001b[0mself\u001b[0m\u001b[0;34m.\u001b[0m\u001b[0mindex\u001b[0m\u001b[0;34m,\u001b[0m \u001b[0mcopy\u001b[0m\u001b[0;34m=\u001b[0m\u001b[0;32mFalse\u001b[0m\u001b[0;34m)\u001b[0m\u001b[0;34m\u001b[0m\u001b[0;34m\u001b[0m\u001b[0m\n\u001b[0m\u001b[1;32m   3631\u001b[0m             \u001b[0;32mif\u001b[0m \u001b[0;32mnot\u001b[0m \u001b[0misinstance\u001b[0m\u001b[0;34m(\u001b[0m\u001b[0mvalue\u001b[0m\u001b[0;34m,\u001b[0m \u001b[0;34m(\u001b[0m\u001b[0mnp\u001b[0m\u001b[0;34m.\u001b[0m\u001b[0mndarray\u001b[0m\u001b[0;34m,\u001b[0m \u001b[0mIndex\u001b[0m\u001b[0;34m)\u001b[0m\u001b[0;34m)\u001b[0m\u001b[0;34m:\u001b[0m\u001b[0;34m\u001b[0m\u001b[0;34m\u001b[0m\u001b[0m\n\u001b[1;32m   3632\u001b[0m                 \u001b[0;32mif\u001b[0m \u001b[0misinstance\u001b[0m\u001b[0;34m(\u001b[0m\u001b[0mvalue\u001b[0m\u001b[0;34m,\u001b[0m \u001b[0mlist\u001b[0m\u001b[0;34m)\u001b[0m \u001b[0;32mand\u001b[0m \u001b[0mlen\u001b[0m\u001b[0;34m(\u001b[0m\u001b[0mvalue\u001b[0m\u001b[0;34m)\u001b[0m \u001b[0;34m>\u001b[0m \u001b[0;36m0\u001b[0m\u001b[0;34m:\u001b[0m\u001b[0;34m\u001b[0m\u001b[0;34m\u001b[0m\u001b[0m\n",
            "\u001b[0;32m/usr/local/lib/python3.6/dist-packages/pandas/core/internals/construction.py\u001b[0m in \u001b[0;36msanitize_index\u001b[0;34m(data, index, copy)\u001b[0m\n\u001b[1;32m    517\u001b[0m \u001b[0;34m\u001b[0m\u001b[0m\n\u001b[1;32m    518\u001b[0m     \u001b[0;32mif\u001b[0m \u001b[0mlen\u001b[0m\u001b[0;34m(\u001b[0m\u001b[0mdata\u001b[0m\u001b[0;34m)\u001b[0m \u001b[0;34m!=\u001b[0m \u001b[0mlen\u001b[0m\u001b[0;34m(\u001b[0m\u001b[0mindex\u001b[0m\u001b[0;34m)\u001b[0m\u001b[0;34m:\u001b[0m\u001b[0;34m\u001b[0m\u001b[0;34m\u001b[0m\u001b[0m\n\u001b[0;32m--> 519\u001b[0;31m         \u001b[0;32mraise\u001b[0m \u001b[0mValueError\u001b[0m\u001b[0;34m(\u001b[0m\u001b[0;34m'Length of values does not match length of index'\u001b[0m\u001b[0;34m)\u001b[0m\u001b[0;34m\u001b[0m\u001b[0;34m\u001b[0m\u001b[0m\n\u001b[0m\u001b[1;32m    520\u001b[0m \u001b[0;34m\u001b[0m\u001b[0m\n\u001b[1;32m    521\u001b[0m     \u001b[0;32mif\u001b[0m \u001b[0misinstance\u001b[0m\u001b[0;34m(\u001b[0m\u001b[0mdata\u001b[0m\u001b[0;34m,\u001b[0m \u001b[0mABCIndexClass\u001b[0m\u001b[0;34m)\u001b[0m \u001b[0;32mand\u001b[0m \u001b[0;32mnot\u001b[0m \u001b[0mcopy\u001b[0m\u001b[0;34m:\u001b[0m\u001b[0;34m\u001b[0m\u001b[0;34m\u001b[0m\u001b[0m\n",
            "\u001b[0;31mValueError\u001b[0m: Length of values does not match length of index"
          ]
        }
      ]
    },
    {
      "cell_type": "code",
      "metadata": {
        "id": "bYhB_hnvDjSG",
        "colab_type": "code",
        "colab": {}
      },
      "source": [
        "# insta_NBA['date'].str.split('T')"
      ],
      "execution_count": 0,
      "outputs": []
    },
    {
      "cell_type": "code",
      "metadata": {
        "id": "fkIqOrToCuuI",
        "colab_type": "code",
        "outputId": "b54593e6-6904-4fe9-bb03-47b8071f6820",
        "colab": {
          "base_uri": "https://localhost:8080/",
          "height": 35
        }
      },
      "source": [
        "# insta_NBA.sort_values('date')\n",
        "\n",
        "ex = insta_NBA.iloc[0]\n",
        "\n",
        "date, time = ex['date'].split('T')\n",
        "\n",
        "time = time.split('.')[0]\n",
        "\n",
        "# ''.join(time)\n",
        "\n",
        "time"
      ],
      "execution_count": 0,
      "outputs": [
        {
          "output_type": "execute_result",
          "data": {
            "text/plain": [
              "'00:02:29'"
            ]
          },
          "metadata": {
            "tags": []
          },
          "execution_count": 313
        }
      ]
    },
    {
      "cell_type": "code",
      "metadata": {
        "id": "pCrXsqw7BWJV",
        "colab_type": "code",
        "outputId": "8101f6e1-1f13-4ea4-c2b6-d7e10cec3e86",
        "colab": {
          "base_uri": "https://localhost:8080/",
          "height": 35
        }
      },
      "source": [
        "store[0].comments"
      ],
      "execution_count": 0,
      "outputs": [
        {
          "output_type": "execute_result",
          "data": {
            "text/plain": [
              "15"
            ]
          },
          "metadata": {
            "tags": []
          },
          "execution_count": 292
        }
      ]
    },
    {
      "cell_type": "code",
      "metadata": {
        "id": "cV4Mca9hczye",
        "colab_type": "code",
        "colab": {}
      },
      "source": [
        "# !pip install spacy"
      ],
      "execution_count": 0,
      "outputs": []
    },
    {
      "cell_type": "code",
      "metadata": {
        "id": "K8H1u9wCc_E2",
        "colab_type": "code",
        "colab": {}
      },
      "source": [
        "# !pip install spacy\n",
        "\n",
        "# from spacy.lang.en import English\n",
        "# from spacy.matcher import Matcher\n",
        "\n",
        "# nlp = English()\n",
        "# matcher = Matcher(nlp.vocab)\n",
        "\n",
        "# matcher = Matcher(nlp.vocab)\n",
        "# matcher.add('HASHTAG', None, [{'ORTH': '#'}, {'IS_ASCII': True}])\n",
        "\n",
        "# docs = nlp.pipe(descriptions)\n",
        "\n",
        "# ls_at = []\n",
        "# try:\n",
        "#     for doc in docs:\n",
        "#         matches = matcher(doc)\n",
        "#         hashtags = []\n",
        "#         for match_id, start, end in matches:\n",
        "#             hashtags.append(doc[start:end])\n",
        "#         ls_at.append(hashtags)\n",
        "# except:\n",
        "#     pass "
      ],
      "execution_count": 0,
      "outputs": []
    },
    {
      "cell_type": "code",
      "metadata": {
        "id": "uCsI7bn6c96F",
        "colab_type": "code",
        "colab": {}
      },
      "source": [
        "def get_at_sign(s):\n",
        "    try:\n",
        "      ls =  re.findall(r\"@(\\w+)\", s)\n",
        "#       return ls\n",
        "      return '|'.join(ls)\n",
        "    except Exception as e:\n",
        "      return ''\n",
        "  \n",
        "def get_hash(s):\n",
        "    try:\n",
        "      ls = re.findall(r\"#(\\w+)\", s)\n",
        "#       return ls\n",
        "      return '|'.join(ls)\n",
        "    except Exception as e:\n",
        "      return ''"
      ],
      "execution_count": 0,
      "outputs": []
    },
    {
      "cell_type": "code",
      "metadata": {
        "id": "aAoKzi--i1k2",
        "colab_type": "code",
        "outputId": "50166e6e-f457-4ef1-8ca8-fc528b442e8a",
        "colab": {
          "base_uri": "https://localhost:8080/",
          "height": 52
        }
      },
      "source": [
        "%%time\n",
        "train['hashes'] = train['Description'].apply(get_hash)\n",
        "train['at_signs'] = train['Description'].apply(get_at_sign)"
      ],
      "execution_count": 0,
      "outputs": [
        {
          "output_type": "stream",
          "text": [
            "CPU times: user 26.9 ms, sys: 0 ns, total: 26.9 ms\n",
            "Wall time: 30.1 ms\n"
          ],
          "name": "stdout"
        }
      ]
    },
    {
      "cell_type": "code",
      "metadata": {
        "id": "nJuMwkWF0rH-",
        "colab_type": "code",
        "outputId": "3a96c0b9-130c-499d-fb0f-9374106e9337",
        "colab": {
          "base_uri": "https://localhost:8080/",
          "height": 492
        }
      },
      "source": [
        "train.head()"
      ],
      "execution_count": 0,
      "outputs": [
        {
          "output_type": "execute_result",
          "data": {
            "text/html": [
              "<div>\n",
              "<style scoped>\n",
              "    .dataframe tbody tr th:only-of-type {\n",
              "        vertical-align: middle;\n",
              "    }\n",
              "\n",
              "    .dataframe tbody tr th {\n",
              "        vertical-align: top;\n",
              "    }\n",
              "\n",
              "    .dataframe thead th {\n",
              "        text-align: right;\n",
              "    }\n",
              "</style>\n",
              "<table border=\"1\" class=\"dataframe\">\n",
              "  <thead>\n",
              "    <tr style=\"text-align: right;\">\n",
              "      <th></th>\n",
              "      <th>Engagements</th>\n",
              "      <th>Followers at Posting</th>\n",
              "      <th>Created</th>\n",
              "      <th>Type</th>\n",
              "      <th>Description</th>\n",
              "      <th>hashes</th>\n",
              "      <th>at_signs</th>\n",
              "    </tr>\n",
              "  </thead>\n",
              "  <tbody>\n",
              "    <tr>\n",
              "      <th>0</th>\n",
              "      <td>502093</td>\n",
              "      <td>36984682</td>\n",
              "      <td>2019-05-21 23:30:51 EDT</td>\n",
              "      <td>Video</td>\n",
              "      <td>The @raptors bench trio of @sergeibaka @norman...</td>\n",
              "      <td></td>\n",
              "      <td>raptors|sergeibaka|normanpowell4|fredvanvleet</td>\n",
              "    </tr>\n",
              "    <tr>\n",
              "      <th>1</th>\n",
              "      <td>603380</td>\n",
              "      <td>36984682</td>\n",
              "      <td>2019-05-21 22:53:33 EDT</td>\n",
              "      <td>Video</td>\n",
              "      <td>@kyle_lowry7 pulls from deep for the @raptors ...</td>\n",
              "      <td></td>\n",
              "      <td>kyle_lowry7|raptors</td>\n",
              "    </tr>\n",
              "    <tr>\n",
              "      <th>2</th>\n",
              "      <td>603380</td>\n",
              "      <td>36984682</td>\n",
              "      <td>2019-05-21 22:19:58 EDT</td>\n",
              "      <td>Video</td>\n",
              "      <td>@k_mid22 with some english on the @bucks dime!</td>\n",
              "      <td></td>\n",
              "      <td>k_mid22|bucks</td>\n",
              "    </tr>\n",
              "    <tr>\n",
              "      <th>3</th>\n",
              "      <td>725100</td>\n",
              "      <td>36984682</td>\n",
              "      <td>2019-05-21 22:02:41 EDT</td>\n",
              "      <td>Video</td>\n",
              "      <td>Kawhi punches it home with the left on TNT!</td>\n",
              "      <td></td>\n",
              "      <td></td>\n",
              "    </tr>\n",
              "    <tr>\n",
              "      <th>4</th>\n",
              "      <td>661446</td>\n",
              "      <td>36984682</td>\n",
              "      <td>2019-05-21 20:47:49 EDT</td>\n",
              "      <td>Video</td>\n",
              "      <td>@giannis_an34 goes baseline early to rock the ...</td>\n",
              "      <td></td>\n",
              "      <td>giannis_an34</td>\n",
              "    </tr>\n",
              "  </tbody>\n",
              "</table>\n",
              "</div>"
            ],
            "text/plain": [
              "   Engagements  ...                                       at_signs\n",
              "0       502093  ...  raptors|sergeibaka|normanpowell4|fredvanvleet\n",
              "1       603380  ...                            kyle_lowry7|raptors\n",
              "2       603380  ...                                  k_mid22|bucks\n",
              "3       725100  ...                                               \n",
              "4       661446  ...                                   giannis_an34\n",
              "\n",
              "[5 rows x 7 columns]"
            ]
          },
          "metadata": {
            "tags": []
          },
          "execution_count": 247
        }
      ]
    },
    {
      "cell_type": "code",
      "metadata": {
        "id": "fJc3bWT3rU2w",
        "colab_type": "code",
        "colab": {}
      },
      "source": [
        "# at_signs_ls = train['at_signs'].tolist()\n",
        "# at_signs_set = set()\n",
        "\n",
        "# for doc in tqdm(at_signs_ls):\n",
        "#     for token in doc:\n",
        "#         at_signs_set.add(token)\n",
        "        \n",
        "# hashes_ls = train['hashes'].tolist()\n",
        "# hashes_set = set()\n",
        "\n",
        "# for doc in tqdm(hashes_ls):\n",
        "#     for token in doc:\n",
        "#         hashes_set.add(token)\n",
        "\n",
        "# len(at_signs_set), len(hashes_set)"
      ],
      "execution_count": 0,
      "outputs": []
    },
    {
      "cell_type": "code",
      "metadata": {
        "id": "J1Kono8bsDj2",
        "colab_type": "code",
        "colab": {}
      },
      "source": [
        "hashes_mat = train['hashes'].str.get_dummies()\n",
        "at_signs_mat = train['at_signs'].str.get_dummies()"
      ],
      "execution_count": 0,
      "outputs": []
    },
    {
      "cell_type": "code",
      "metadata": {
        "id": "ZCEg4pPfO1Cm",
        "colab_type": "code",
        "colab": {}
      },
      "source": [
        "top_10 = np.argsort(np.sum(hashes_mat.values, axis=0))[::-1][:10]\n",
        "# np.sum(at_signs_mat, axis=0)"
      ],
      "execution_count": 0,
      "outputs": []
    },
    {
      "cell_type": "code",
      "metadata": {
        "id": "q3oG9nnJQgF-",
        "colab_type": "code",
        "outputId": "e5e1b1ce-3447-49eb-aeae-95ef1ff12518",
        "colab": {
          "base_uri": "https://localhost:8080/",
          "height": 190
        }
      },
      "source": [
        "# hashes_mat.head()\n",
        "\n",
        "[hashes_mat.columns[c] for c in top_10]\n",
        "\n",
        "# hashes_mat.iloc[:,213]"
      ],
      "execution_count": 0,
      "outputs": [
        {
          "output_type": "execute_result",
          "data": {
            "text/plain": [
              "['NBAPlayoffs',\n",
              " 'ThisIsWhyWePlay',\n",
              " 'NBAonABC',\n",
              " 'KiaTipOff18',\n",
              " 'NBAPreseason',\n",
              " 'NBAFinals',\n",
              " 'NBABreakdown',\n",
              " 'NBAAllStar',\n",
              " 'PhantomCam',\n",
              " 'TripleDoubleAlert']"
            ]
          },
          "metadata": {
            "tags": []
          },
          "execution_count": 264
        }
      ]
    },
    {
      "cell_type": "code",
      "metadata": {
        "id": "Fpgk5s2v1LsH",
        "colab_type": "code",
        "colab": {}
      },
      "source": [
        "def clean_text(x):\n",
        "\n",
        "    x = str(x)\n",
        "    for punct in \"/-'\":\n",
        "        x = x.replace(punct, ' ')\n",
        "    for punct in '&':\n",
        "        x = x.replace(punct, f' {punct} ')\n",
        "    for punct in '?!.,\"#$%\\'()*+-/:;<=>@[\\\\]^_`{|}~' + '“”’':\n",
        "        x = x.replace(punct, '')\n",
        "    return x"
      ],
      "execution_count": 0,
      "outputs": []
    },
    {
      "cell_type": "code",
      "metadata": {
        "id": "5ew4FOTu1XkQ",
        "colab_type": "code",
        "colab": {}
      },
      "source": [
        "train[\"question_text\"] = train[\"question_text\"].progress_apply(lambda x: clean_text(x))"
      ],
      "execution_count": 0,
      "outputs": []
    },
    {
      "cell_type": "code",
      "metadata": {
        "id": "9ZbugVvm1ev4",
        "colab_type": "code",
        "colab": {}
      },
      "source": [
        "tqdm.pandas()"
      ],
      "execution_count": 0,
      "outputs": []
    },
    {
      "cell_type": "code",
      "metadata": {
        "id": "w0LrZzo4Vc7D",
        "colab_type": "code",
        "outputId": "45b7f315-3255-4bcf-cf82-9a8f1b56a809",
        "colab": {
          "base_uri": "https://localhost:8080/",
          "height": 69
        }
      },
      "source": [
        "train['clean_des'] = train['Description'].progress_apply(lambda x: clean_text(x))"
      ],
      "execution_count": 0,
      "outputs": [
        {
          "output_type": "stream",
          "text": [
            "\n",
            "  0%|          | 0/7766 [00:00<?, ?it/s]\u001b[A\n",
            "100%|██████████| 7766/7766 [00:00<00:00, 89667.23it/s]\u001b[A"
          ],
          "name": "stderr"
        }
      ]
    },
    {
      "cell_type": "code",
      "metadata": {
        "id": "fsOHPQ_7y7Hu",
        "colab_type": "code",
        "outputId": "2ef93ae3-badd-4045-d61c-ddd2b23d6ed3",
        "colab": {
          "base_uri": "https://localhost:8080/",
          "height": 121
        }
      },
      "source": [
        "train['clean_des'].head()"
      ],
      "execution_count": 0,
      "outputs": [
        {
          "output_type": "execute_result",
          "data": {
            "text/plain": [
              "0    The raptors bench trio of sergeibaka normanpow...\n",
              "1    kylelowry7 pulls from deep for the raptors in ...\n",
              "2           kmid22 with some english on the bucks dime\n",
              "3           Kawhi punches it home with the left on TNT\n",
              "4    giannisan34 goes baseline early to rock the ri...\n",
              "Name: clean_des, dtype: object"
            ]
          },
          "metadata": {
            "tags": []
          },
          "execution_count": 273
        }
      ]
    },
    {
      "cell_type": "code",
      "metadata": {
        "id": "Yv_U5SvR1goZ",
        "colab_type": "code",
        "colab": {}
      },
      "source": [
        ""
      ],
      "execution_count": 0,
      "outputs": []
    }
  ]
}