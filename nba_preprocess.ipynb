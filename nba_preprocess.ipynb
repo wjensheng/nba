{
  "nbformat": 4,
  "nbformat_minor": 0,
  "metadata": {
    "colab": {
      "name": "nba_preprocess.ipynb",
      "version": "0.3.2",
      "provenance": [],
      "collapsed_sections": []
    },
    "kernelspec": {
      "name": "python3",
      "display_name": "Python 3"
    },
    "accelerator": "GPU"
  },
  "cells": [
    {
      "cell_type": "code",
      "metadata": {
        "id": "3PJh8GCBygUD",
        "colab_type": "code",
        "outputId": "99426317-3592-4eea-8ee3-6ecbbf7d3be4",
        "colab": {
          "base_uri": "https://localhost:8080/",
          "height": 55
        }
      },
      "source": [
        "# Load the Drive helper and mount\n",
        "from google.colab import drive\n",
        "\n",
        "# This will prompt for authorization.\n",
        "drive.mount('/content/drive')"
      ],
      "execution_count": 1,
      "outputs": [
        {
          "output_type": "stream",
          "text": [
            "Drive already mounted at /content/drive; to attempt to forcibly remount, call drive.mount(\"/content/drive\", force_remount=True).\n"
          ],
          "name": "stdout"
        }
      ]
    },
    {
      "cell_type": "markdown",
      "metadata": {
        "id": "d1j1nf40Jqin",
        "colab_type": "text"
      },
      "source": [
        "## Imports"
      ]
    },
    {
      "cell_type": "code",
      "metadata": {
        "id": "LYvPY7HsyiC9",
        "colab_type": "code",
        "colab": {}
      },
      "source": [
        "import pandas as pd\n",
        "import numpy as np\n",
        "import seaborn as sns\n",
        "import matplotlib.pyplot as plt\n",
        "import os\n",
        "import gc\n",
        "import re\n",
        "\n",
        "from tqdm import tqdm\n",
        "tqdm.pandas()\n",
        "\n",
        "from sklearn.model_selection import KFold, StratifiedKFold\n",
        "from sklearn.metrics import roc_auc_score\n",
        "from sklearn.preprocessing import scale, minmax_scale\n",
        "from scipy.stats import norm\n",
        "\n",
        "import lightgbm as lgb\n",
        "\n",
        "import warnings\n",
        "warnings.simplefilter(action='ignore')\n",
        "warnings.filterwarnings('ignore')\n",
        "\n",
        "# change to path\n",
        "PATH='/content/drive/My Drive/Colab Notebooks/nba/'\n",
        "os.chdir(PATH)"
      ],
      "execution_count": 0,
      "outputs": []
    },
    {
      "cell_type": "markdown",
      "metadata": {
        "id": "R0IPldBKJsUe",
        "colab_type": "text"
      },
      "source": [
        "## Read in"
      ]
    },
    {
      "cell_type": "code",
      "metadata": {
        "id": "FitXRBMFRMpH",
        "colab_type": "code",
        "outputId": "8b925efa-f5e7-4602-805e-e48fcdae0038",
        "colab": {
          "base_uri": "https://localhost:8080/",
          "height": 302
        }
      },
      "source": [
        "train = pd.read_csv(f'{PATH}/dataset/training_set.csv', encoding = 'ISO-8859-1')\n",
        "test = pd.read_csv(f'{PATH}/dataset/holdout_set.csv', encoding = 'ISO-8859-1')\n",
        "\n",
        "train.head()"
      ],
      "execution_count": 3,
      "outputs": [
        {
          "output_type": "execute_result",
          "data": {
            "text/html": [
              "<div>\n",
              "<style scoped>\n",
              "    .dataframe tbody tr th:only-of-type {\n",
              "        vertical-align: middle;\n",
              "    }\n",
              "\n",
              "    .dataframe tbody tr th {\n",
              "        vertical-align: top;\n",
              "    }\n",
              "\n",
              "    .dataframe thead th {\n",
              "        text-align: right;\n",
              "    }\n",
              "</style>\n",
              "<table border=\"1\" class=\"dataframe\">\n",
              "  <thead>\n",
              "    <tr style=\"text-align: right;\">\n",
              "      <th></th>\n",
              "      <th>Engagements</th>\n",
              "      <th>Followers at Posting</th>\n",
              "      <th>Created</th>\n",
              "      <th>Type</th>\n",
              "      <th>Description</th>\n",
              "    </tr>\n",
              "  </thead>\n",
              "  <tbody>\n",
              "    <tr>\n",
              "      <th>0</th>\n",
              "      <td>502093</td>\n",
              "      <td>36984682</td>\n",
              "      <td>2019-05-21 23:30:51 EDT</td>\n",
              "      <td>Video</td>\n",
              "      <td>The @raptors bench trio of @sergeibaka @norman...</td>\n",
              "    </tr>\n",
              "    <tr>\n",
              "      <th>1</th>\n",
              "      <td>603380</td>\n",
              "      <td>36984682</td>\n",
              "      <td>2019-05-21 22:53:33 EDT</td>\n",
              "      <td>Video</td>\n",
              "      <td>@kyle_lowry7 pulls from deep for the @raptors ...</td>\n",
              "    </tr>\n",
              "    <tr>\n",
              "      <th>2</th>\n",
              "      <td>603380</td>\n",
              "      <td>36984682</td>\n",
              "      <td>2019-05-21 22:19:58 EDT</td>\n",
              "      <td>Video</td>\n",
              "      <td>@k_mid22 with some english on the @bucks dime!</td>\n",
              "    </tr>\n",
              "    <tr>\n",
              "      <th>3</th>\n",
              "      <td>725100</td>\n",
              "      <td>36984682</td>\n",
              "      <td>2019-05-21 22:02:41 EDT</td>\n",
              "      <td>Video</td>\n",
              "      <td>Kawhi punches it home with the left on TNT!</td>\n",
              "    </tr>\n",
              "    <tr>\n",
              "      <th>4</th>\n",
              "      <td>661446</td>\n",
              "      <td>36984682</td>\n",
              "      <td>2019-05-21 20:47:49 EDT</td>\n",
              "      <td>Video</td>\n",
              "      <td>@giannis_an34 goes baseline early to rock the ...</td>\n",
              "    </tr>\n",
              "  </tbody>\n",
              "</table>\n",
              "</div>"
            ],
            "text/plain": [
              "   Engagements  ...                                        Description\n",
              "0       502093  ...  The @raptors bench trio of @sergeibaka @norman...\n",
              "1       603380  ...  @kyle_lowry7 pulls from deep for the @raptors ...\n",
              "2       603380  ...     @k_mid22 with some english on the @bucks dime!\n",
              "3       725100  ...        Kawhi punches it home with the left on TNT!\n",
              "4       661446  ...  @giannis_an34 goes baseline early to rock the ...\n",
              "\n",
              "[5 rows x 5 columns]"
            ]
          },
          "metadata": {
            "tags": []
          },
          "execution_count": 3
        }
      ]
    },
    {
      "cell_type": "code",
      "metadata": {
        "id": "Eilv-pivbbKX",
        "colab_type": "code",
        "outputId": "66dabb2b-5ef0-4307-d3a0-beccb5e7b5e7",
        "colab": {
          "base_uri": "https://localhost:8080/",
          "height": 35
        }
      },
      "source": [
        "len(train), len(test)"
      ],
      "execution_count": 4,
      "outputs": [
        {
          "output_type": "execute_result",
          "data": {
            "text/plain": [
              "(7766, 1000)"
            ]
          },
          "metadata": {
            "tags": []
          },
          "execution_count": 4
        }
      ]
    },
    {
      "cell_type": "markdown",
      "metadata": {
        "id": "M9fOChkNJ7lK",
        "colab_type": "text"
      },
      "source": [
        "## Preprocessing"
      ]
    },
    {
      "cell_type": "code",
      "metadata": {
        "id": "huN_d1BDAudW",
        "colab_type": "code",
        "colab": {}
      },
      "source": [
        "def str_to_date(s, split):\n",
        "    return s.split(' ')[split]\n",
        "  \n",
        "def add_datepart(df, fldname, drop=True, time=False):\n",
        "    \"Helper function that adds columns relevant to a date.\"\n",
        "    fld = df[fldname]\n",
        "    fld_dtype = fld.dtype\n",
        "    if isinstance(fld_dtype, pd.core.dtypes.dtypes.DatetimeTZDtype):\n",
        "        fld_dtype = np.datetime64\n",
        "\n",
        "    if not np.issubdtype(fld_dtype, np.datetime64):\n",
        "        df[fldname] = fld = pd.to_datetime(fld, infer_datetime_format=True)\n",
        "    targ_pre = re.sub('[Dd]ate$', '', fldname)\n",
        "    attr = ['Year', 'Month', 'Week', 'Day', 'Dayofweek', 'Dayofyear',\n",
        "            'Is_month_end', 'Is_month_start', 'Is_quarter_end', 'Is_quarter_start', 'Is_year_end', 'Is_year_start']\n",
        "    if time: attr = attr + ['Hour', 'Minute', 'Second']\n",
        "    for n in attr: df[targ_pre + n] = getattr(fld.dt, n.lower())\n",
        "    df[targ_pre + 'Elapsed'] = fld.astype(np.int64) // 10 ** 9\n",
        "    if drop: df.drop(fldname, axis=1, inplace=True)\n",
        "      \n",
        "def get_time_split(time):\n",
        "    time_minute = time.split(':')[:2]\n",
        "    return int(''.join(time_minute))\n",
        "  \n",
        "def get_hour(time):\n",
        "    return int(time.split(':')[0])\n",
        "  \n",
        "def get_minute(time):\n",
        "    return round(int(time.split(':')[1]), -1)"
      ],
      "execution_count": 0,
      "outputs": []
    },
    {
      "cell_type": "code",
      "metadata": {
        "id": "hMD-FgBE9WNt",
        "colab_type": "code",
        "colab": {}
      },
      "source": [
        "def preprocess(df):\n",
        "    df['date'] = df.apply(lambda x: str_to_date(x['Created'], 0), axis=1)\n",
        "    df['time'] = df.apply(lambda x: str_to_date(x['Created'], 1), axis=1)\n",
        "    df['tz'] = df.apply(lambda x: str_to_date(x['Created'], 2), axis=1)\n",
        "    \n",
        "    # get more features on date\n",
        "    df['date'] = pd.to_datetime(df['date'])\n",
        "    \n",
        "    # date\n",
        "    df['date_tsfm'] = pd.to_datetime(df['date'])\n",
        "    \n",
        "    add_datepart(df, 'date_tsfm')\n",
        "\n",
        "    time_df = pd.get_dummies(df['Type'], \n",
        "                         prefix='Type')\n",
        "\n",
        "    # get only time and hour\n",
        "    df['time_split'] = df['time'].apply(get_time_split)\n",
        "    df['hour'] = df['time'].apply(get_hour)\n",
        "    df['minute'] = df['time'].apply(get_minute)   \n",
        "    \n",
        "    df = pd.concat([df, time_df],\n",
        "                    axis=1)\n",
        "    \n",
        "    return df"
      ],
      "execution_count": 0,
      "outputs": []
    },
    {
      "cell_type": "code",
      "metadata": {
        "id": "OA49gkz0xq6z",
        "colab_type": "code",
        "colab": {}
      },
      "source": [
        "train = preprocess(train)\n",
        "test = preprocess(test)"
      ],
      "execution_count": 0,
      "outputs": []
    },
    {
      "cell_type": "code",
      "metadata": {
        "id": "l7yleXfu-uPL",
        "colab_type": "code",
        "outputId": "977b3961-e425-4284-fbff-6339b03cf66a",
        "colab": {
          "base_uri": "https://localhost:8080/",
          "height": 35
        }
      },
      "source": [
        "train.shape, test.shape"
      ],
      "execution_count": 8,
      "outputs": [
        {
          "output_type": "execute_result",
          "data": {
            "text/plain": [
              "((7766, 27), (1000, 27))"
            ]
          },
          "metadata": {
            "tags": []
          },
          "execution_count": 8
        }
      ]
    },
    {
      "cell_type": "code",
      "metadata": {
        "id": "pC3fsy4wOQkd",
        "colab_type": "code",
        "outputId": "cc66bfe9-be12-4be1-bfb0-e4f9308ae012",
        "colab": {
          "base_uri": "https://localhost:8080/",
          "height": 512
        }
      },
      "source": [
        "train.head()"
      ],
      "execution_count": 9,
      "outputs": [
        {
          "output_type": "execute_result",
          "data": {
            "text/html": [
              "<div>\n",
              "<style scoped>\n",
              "    .dataframe tbody tr th:only-of-type {\n",
              "        vertical-align: middle;\n",
              "    }\n",
              "\n",
              "    .dataframe tbody tr th {\n",
              "        vertical-align: top;\n",
              "    }\n",
              "\n",
              "    .dataframe thead th {\n",
              "        text-align: right;\n",
              "    }\n",
              "</style>\n",
              "<table border=\"1\" class=\"dataframe\">\n",
              "  <thead>\n",
              "    <tr style=\"text-align: right;\">\n",
              "      <th></th>\n",
              "      <th>Engagements</th>\n",
              "      <th>Followers at Posting</th>\n",
              "      <th>Created</th>\n",
              "      <th>Type</th>\n",
              "      <th>Description</th>\n",
              "      <th>date</th>\n",
              "      <th>time</th>\n",
              "      <th>tz</th>\n",
              "      <th>date_tsfmYear</th>\n",
              "      <th>date_tsfmMonth</th>\n",
              "      <th>date_tsfmWeek</th>\n",
              "      <th>date_tsfmDay</th>\n",
              "      <th>date_tsfmDayofweek</th>\n",
              "      <th>date_tsfmDayofyear</th>\n",
              "      <th>date_tsfmIs_month_end</th>\n",
              "      <th>date_tsfmIs_month_start</th>\n",
              "      <th>date_tsfmIs_quarter_end</th>\n",
              "      <th>date_tsfmIs_quarter_start</th>\n",
              "      <th>date_tsfmIs_year_end</th>\n",
              "      <th>date_tsfmIs_year_start</th>\n",
              "      <th>date_tsfmElapsed</th>\n",
              "      <th>time_split</th>\n",
              "      <th>hour</th>\n",
              "      <th>minute</th>\n",
              "      <th>Type_Album</th>\n",
              "      <th>Type_Photo</th>\n",
              "      <th>Type_Video</th>\n",
              "    </tr>\n",
              "  </thead>\n",
              "  <tbody>\n",
              "    <tr>\n",
              "      <th>0</th>\n",
              "      <td>502093</td>\n",
              "      <td>36984682</td>\n",
              "      <td>2019-05-21 23:30:51 EDT</td>\n",
              "      <td>Video</td>\n",
              "      <td>The @raptors bench trio of @sergeibaka @norman...</td>\n",
              "      <td>2019-05-21</td>\n",
              "      <td>23:30:51</td>\n",
              "      <td>EDT</td>\n",
              "      <td>2019</td>\n",
              "      <td>5</td>\n",
              "      <td>21</td>\n",
              "      <td>21</td>\n",
              "      <td>1</td>\n",
              "      <td>141</td>\n",
              "      <td>False</td>\n",
              "      <td>False</td>\n",
              "      <td>False</td>\n",
              "      <td>False</td>\n",
              "      <td>False</td>\n",
              "      <td>False</td>\n",
              "      <td>1558396800</td>\n",
              "      <td>2330</td>\n",
              "      <td>23</td>\n",
              "      <td>30</td>\n",
              "      <td>0</td>\n",
              "      <td>0</td>\n",
              "      <td>1</td>\n",
              "    </tr>\n",
              "    <tr>\n",
              "      <th>1</th>\n",
              "      <td>603380</td>\n",
              "      <td>36984682</td>\n",
              "      <td>2019-05-21 22:53:33 EDT</td>\n",
              "      <td>Video</td>\n",
              "      <td>@kyle_lowry7 pulls from deep for the @raptors ...</td>\n",
              "      <td>2019-05-21</td>\n",
              "      <td>22:53:33</td>\n",
              "      <td>EDT</td>\n",
              "      <td>2019</td>\n",
              "      <td>5</td>\n",
              "      <td>21</td>\n",
              "      <td>21</td>\n",
              "      <td>1</td>\n",
              "      <td>141</td>\n",
              "      <td>False</td>\n",
              "      <td>False</td>\n",
              "      <td>False</td>\n",
              "      <td>False</td>\n",
              "      <td>False</td>\n",
              "      <td>False</td>\n",
              "      <td>1558396800</td>\n",
              "      <td>2253</td>\n",
              "      <td>22</td>\n",
              "      <td>50</td>\n",
              "      <td>0</td>\n",
              "      <td>0</td>\n",
              "      <td>1</td>\n",
              "    </tr>\n",
              "    <tr>\n",
              "      <th>2</th>\n",
              "      <td>603380</td>\n",
              "      <td>36984682</td>\n",
              "      <td>2019-05-21 22:19:58 EDT</td>\n",
              "      <td>Video</td>\n",
              "      <td>@k_mid22 with some english on the @bucks dime!</td>\n",
              "      <td>2019-05-21</td>\n",
              "      <td>22:19:58</td>\n",
              "      <td>EDT</td>\n",
              "      <td>2019</td>\n",
              "      <td>5</td>\n",
              "      <td>21</td>\n",
              "      <td>21</td>\n",
              "      <td>1</td>\n",
              "      <td>141</td>\n",
              "      <td>False</td>\n",
              "      <td>False</td>\n",
              "      <td>False</td>\n",
              "      <td>False</td>\n",
              "      <td>False</td>\n",
              "      <td>False</td>\n",
              "      <td>1558396800</td>\n",
              "      <td>2219</td>\n",
              "      <td>22</td>\n",
              "      <td>20</td>\n",
              "      <td>0</td>\n",
              "      <td>0</td>\n",
              "      <td>1</td>\n",
              "    </tr>\n",
              "    <tr>\n",
              "      <th>3</th>\n",
              "      <td>725100</td>\n",
              "      <td>36984682</td>\n",
              "      <td>2019-05-21 22:02:41 EDT</td>\n",
              "      <td>Video</td>\n",
              "      <td>Kawhi punches it home with the left on TNT!</td>\n",
              "      <td>2019-05-21</td>\n",
              "      <td>22:02:41</td>\n",
              "      <td>EDT</td>\n",
              "      <td>2019</td>\n",
              "      <td>5</td>\n",
              "      <td>21</td>\n",
              "      <td>21</td>\n",
              "      <td>1</td>\n",
              "      <td>141</td>\n",
              "      <td>False</td>\n",
              "      <td>False</td>\n",
              "      <td>False</td>\n",
              "      <td>False</td>\n",
              "      <td>False</td>\n",
              "      <td>False</td>\n",
              "      <td>1558396800</td>\n",
              "      <td>2202</td>\n",
              "      <td>22</td>\n",
              "      <td>0</td>\n",
              "      <td>0</td>\n",
              "      <td>0</td>\n",
              "      <td>1</td>\n",
              "    </tr>\n",
              "    <tr>\n",
              "      <th>4</th>\n",
              "      <td>661446</td>\n",
              "      <td>36984682</td>\n",
              "      <td>2019-05-21 20:47:49 EDT</td>\n",
              "      <td>Video</td>\n",
              "      <td>@giannis_an34 goes baseline early to rock the ...</td>\n",
              "      <td>2019-05-21</td>\n",
              "      <td>20:47:49</td>\n",
              "      <td>EDT</td>\n",
              "      <td>2019</td>\n",
              "      <td>5</td>\n",
              "      <td>21</td>\n",
              "      <td>21</td>\n",
              "      <td>1</td>\n",
              "      <td>141</td>\n",
              "      <td>False</td>\n",
              "      <td>False</td>\n",
              "      <td>False</td>\n",
              "      <td>False</td>\n",
              "      <td>False</td>\n",
              "      <td>False</td>\n",
              "      <td>1558396800</td>\n",
              "      <td>2047</td>\n",
              "      <td>20</td>\n",
              "      <td>50</td>\n",
              "      <td>0</td>\n",
              "      <td>0</td>\n",
              "      <td>1</td>\n",
              "    </tr>\n",
              "  </tbody>\n",
              "</table>\n",
              "</div>"
            ],
            "text/plain": [
              "   Engagements  Followers at Posting  ... Type_Photo Type_Video\n",
              "0       502093              36984682  ...          0          1\n",
              "1       603380              36984682  ...          0          1\n",
              "2       603380              36984682  ...          0          1\n",
              "3       725100              36984682  ...          0          1\n",
              "4       661446              36984682  ...          0          1\n",
              "\n",
              "[5 rows x 27 columns]"
            ]
          },
          "metadata": {
            "tags": []
          },
          "execution_count": 9
        }
      ]
    },
    {
      "cell_type": "markdown",
      "metadata": {
        "id": "_v4dShYaYSKg",
        "colab_type": "text"
      },
      "source": [
        "## Text features"
      ]
    },
    {
      "cell_type": "code",
      "metadata": {
        "id": "YZ6rSz35YeIb",
        "colab_type": "code",
        "colab": {
          "base_uri": "https://localhost:8080/",
          "height": 55
        },
        "outputId": "134ca6ab-bf1b-40ee-bad1-720bc46edede"
      },
      "source": [
        "ex = train.iloc[6]['Description']\n",
        "ex"
      ],
      "execution_count": 11,
      "outputs": [
        {
          "output_type": "execute_result",
          "data": {
            "text/plain": [
              "'The @warriors locked in for four games to advance to the #NBAFinals presented by YouTube TV! #GatoradeZero'"
            ]
          },
          "metadata": {
            "tags": []
          },
          "execution_count": 11
        }
      ]
    },
    {
      "cell_type": "code",
      "metadata": {
        "id": "ZyFvwtb2YTUh",
        "colab_type": "code",
        "colab": {
          "base_uri": "https://localhost:8080/",
          "height": 35
        },
        "outputId": "7b29b626-1fed-4dbd-ecf3-38307d005eec"
      },
      "source": [
        "def count_hashes(s):\n",
        "    try:\n",
        "      return s.count('#')\n",
        "    except:\n",
        "      return 0\n",
        "  \n",
        "def count_at_signs(s):\n",
        "    try:\n",
        "      return s.count('@')\n",
        "    except:\n",
        "      return 0\n",
        "  \n",
        "def count_punct(s):\n",
        "    count = 0\n",
        "    punct = '?!.,\"$%\\'()*+-/:;<=>[\\\\]^_`{|}~' + '“”’'    \n",
        "    for p in punct:\n",
        "        if isinstance(s, str) and p in s:\n",
        "          count += 1    \n",
        "    return count\n",
        "  \n",
        "def count_tokens(s):\n",
        "    try:\n",
        "      return len(s.split())\n",
        "    except:\n",
        "      return 0\n",
        "    \n",
        "count_hashes(ex), count_at_signs(ex), count_punct(ex), count_len(ex)  "
      ],
      "execution_count": 31,
      "outputs": [
        {
          "output_type": "execute_result",
          "data": {
            "text/plain": [
              "(2, 1, 1, 17)"
            ]
          },
          "metadata": {
            "tags": []
          },
          "execution_count": 31
        }
      ]
    },
    {
      "cell_type": "code",
      "metadata": {
        "id": "4ySsmDDbaRQs",
        "colab_type": "code",
        "colab": {}
      },
      "source": [
        "def text_features(df):\n",
        "    df['num_hashes'] = df['Description'].apply(count_hashes)\n",
        "    df['num_at_signs'] = df['Description'].apply(count_at_signs)\n",
        "    df['num_punct'] = df['Description'].apply(count_punct)\n",
        "    df['num_words'] = df['Description'].apply(count_tokens)\n",
        "    \n",
        "text_features(train)    "
      ],
      "execution_count": 0,
      "outputs": []
    },
    {
      "cell_type": "code",
      "metadata": {
        "id": "Cgj36BHhbNe5",
        "colab_type": "code",
        "colab": {
          "base_uri": "https://localhost:8080/",
          "height": 512
        },
        "outputId": "a64c0bca-94aa-4c59-f8b4-681205de8f01"
      },
      "source": [
        "train.head()"
      ],
      "execution_count": 35,
      "outputs": [
        {
          "output_type": "execute_result",
          "data": {
            "text/html": [
              "<div>\n",
              "<style scoped>\n",
              "    .dataframe tbody tr th:only-of-type {\n",
              "        vertical-align: middle;\n",
              "    }\n",
              "\n",
              "    .dataframe tbody tr th {\n",
              "        vertical-align: top;\n",
              "    }\n",
              "\n",
              "    .dataframe thead th {\n",
              "        text-align: right;\n",
              "    }\n",
              "</style>\n",
              "<table border=\"1\" class=\"dataframe\">\n",
              "  <thead>\n",
              "    <tr style=\"text-align: right;\">\n",
              "      <th></th>\n",
              "      <th>Engagements</th>\n",
              "      <th>Followers at Posting</th>\n",
              "      <th>Created</th>\n",
              "      <th>Type</th>\n",
              "      <th>Description</th>\n",
              "      <th>date</th>\n",
              "      <th>time</th>\n",
              "      <th>tz</th>\n",
              "      <th>date_tsfmYear</th>\n",
              "      <th>date_tsfmMonth</th>\n",
              "      <th>date_tsfmWeek</th>\n",
              "      <th>date_tsfmDay</th>\n",
              "      <th>date_tsfmDayofweek</th>\n",
              "      <th>date_tsfmDayofyear</th>\n",
              "      <th>date_tsfmIs_month_end</th>\n",
              "      <th>date_tsfmIs_month_start</th>\n",
              "      <th>date_tsfmIs_quarter_end</th>\n",
              "      <th>date_tsfmIs_quarter_start</th>\n",
              "      <th>date_tsfmIs_year_end</th>\n",
              "      <th>date_tsfmIs_year_start</th>\n",
              "      <th>date_tsfmElapsed</th>\n",
              "      <th>time_split</th>\n",
              "      <th>hour</th>\n",
              "      <th>minute</th>\n",
              "      <th>Type_Album</th>\n",
              "      <th>Type_Photo</th>\n",
              "      <th>Type_Video</th>\n",
              "      <th>num_hashes</th>\n",
              "      <th>num_at_signs</th>\n",
              "      <th>num_punct</th>\n",
              "      <th>num_words</th>\n",
              "    </tr>\n",
              "  </thead>\n",
              "  <tbody>\n",
              "    <tr>\n",
              "      <th>0</th>\n",
              "      <td>502093</td>\n",
              "      <td>36984682</td>\n",
              "      <td>2019-05-21 23:30:51 EDT</td>\n",
              "      <td>Video</td>\n",
              "      <td>The @raptors bench trio of @sergeibaka @norman...</td>\n",
              "      <td>2019-05-21</td>\n",
              "      <td>23:30:51</td>\n",
              "      <td>EDT</td>\n",
              "      <td>2019</td>\n",
              "      <td>5</td>\n",
              "      <td>21</td>\n",
              "      <td>21</td>\n",
              "      <td>1</td>\n",
              "      <td>141</td>\n",
              "      <td>False</td>\n",
              "      <td>False</td>\n",
              "      <td>False</td>\n",
              "      <td>False</td>\n",
              "      <td>False</td>\n",
              "      <td>False</td>\n",
              "      <td>1558396800</td>\n",
              "      <td>2330</td>\n",
              "      <td>23</td>\n",
              "      <td>30</td>\n",
              "      <td>0</td>\n",
              "      <td>0</td>\n",
              "      <td>1</td>\n",
              "      <td>0</td>\n",
              "      <td>4</td>\n",
              "      <td>1</td>\n",
              "      <td>15</td>\n",
              "    </tr>\n",
              "    <tr>\n",
              "      <th>1</th>\n",
              "      <td>603380</td>\n",
              "      <td>36984682</td>\n",
              "      <td>2019-05-21 22:53:33 EDT</td>\n",
              "      <td>Video</td>\n",
              "      <td>@kyle_lowry7 pulls from deep for the @raptors ...</td>\n",
              "      <td>2019-05-21</td>\n",
              "      <td>22:53:33</td>\n",
              "      <td>EDT</td>\n",
              "      <td>2019</td>\n",
              "      <td>5</td>\n",
              "      <td>21</td>\n",
              "      <td>21</td>\n",
              "      <td>1</td>\n",
              "      <td>141</td>\n",
              "      <td>False</td>\n",
              "      <td>False</td>\n",
              "      <td>False</td>\n",
              "      <td>False</td>\n",
              "      <td>False</td>\n",
              "      <td>False</td>\n",
              "      <td>1558396800</td>\n",
              "      <td>2253</td>\n",
              "      <td>22</td>\n",
              "      <td>50</td>\n",
              "      <td>0</td>\n",
              "      <td>0</td>\n",
              "      <td>1</td>\n",
              "      <td>0</td>\n",
              "      <td>2</td>\n",
              "      <td>2</td>\n",
              "      <td>12</td>\n",
              "    </tr>\n",
              "    <tr>\n",
              "      <th>2</th>\n",
              "      <td>603380</td>\n",
              "      <td>36984682</td>\n",
              "      <td>2019-05-21 22:19:58 EDT</td>\n",
              "      <td>Video</td>\n",
              "      <td>@k_mid22 with some english on the @bucks dime!</td>\n",
              "      <td>2019-05-21</td>\n",
              "      <td>22:19:58</td>\n",
              "      <td>EDT</td>\n",
              "      <td>2019</td>\n",
              "      <td>5</td>\n",
              "      <td>21</td>\n",
              "      <td>21</td>\n",
              "      <td>1</td>\n",
              "      <td>141</td>\n",
              "      <td>False</td>\n",
              "      <td>False</td>\n",
              "      <td>False</td>\n",
              "      <td>False</td>\n",
              "      <td>False</td>\n",
              "      <td>False</td>\n",
              "      <td>1558396800</td>\n",
              "      <td>2219</td>\n",
              "      <td>22</td>\n",
              "      <td>20</td>\n",
              "      <td>0</td>\n",
              "      <td>0</td>\n",
              "      <td>1</td>\n",
              "      <td>0</td>\n",
              "      <td>2</td>\n",
              "      <td>2</td>\n",
              "      <td>8</td>\n",
              "    </tr>\n",
              "    <tr>\n",
              "      <th>3</th>\n",
              "      <td>725100</td>\n",
              "      <td>36984682</td>\n",
              "      <td>2019-05-21 22:02:41 EDT</td>\n",
              "      <td>Video</td>\n",
              "      <td>Kawhi punches it home with the left on TNT!</td>\n",
              "      <td>2019-05-21</td>\n",
              "      <td>22:02:41</td>\n",
              "      <td>EDT</td>\n",
              "      <td>2019</td>\n",
              "      <td>5</td>\n",
              "      <td>21</td>\n",
              "      <td>21</td>\n",
              "      <td>1</td>\n",
              "      <td>141</td>\n",
              "      <td>False</td>\n",
              "      <td>False</td>\n",
              "      <td>False</td>\n",
              "      <td>False</td>\n",
              "      <td>False</td>\n",
              "      <td>False</td>\n",
              "      <td>1558396800</td>\n",
              "      <td>2202</td>\n",
              "      <td>22</td>\n",
              "      <td>0</td>\n",
              "      <td>0</td>\n",
              "      <td>0</td>\n",
              "      <td>1</td>\n",
              "      <td>0</td>\n",
              "      <td>0</td>\n",
              "      <td>1</td>\n",
              "      <td>9</td>\n",
              "    </tr>\n",
              "    <tr>\n",
              "      <th>4</th>\n",
              "      <td>661446</td>\n",
              "      <td>36984682</td>\n",
              "      <td>2019-05-21 20:47:49 EDT</td>\n",
              "      <td>Video</td>\n",
              "      <td>@giannis_an34 goes baseline early to rock the ...</td>\n",
              "      <td>2019-05-21</td>\n",
              "      <td>20:47:49</td>\n",
              "      <td>EDT</td>\n",
              "      <td>2019</td>\n",
              "      <td>5</td>\n",
              "      <td>21</td>\n",
              "      <td>21</td>\n",
              "      <td>1</td>\n",
              "      <td>141</td>\n",
              "      <td>False</td>\n",
              "      <td>False</td>\n",
              "      <td>False</td>\n",
              "      <td>False</td>\n",
              "      <td>False</td>\n",
              "      <td>False</td>\n",
              "      <td>1558396800</td>\n",
              "      <td>2047</td>\n",
              "      <td>20</td>\n",
              "      <td>50</td>\n",
              "      <td>0</td>\n",
              "      <td>0</td>\n",
              "      <td>1</td>\n",
              "      <td>0</td>\n",
              "      <td>1</td>\n",
              "      <td>2</td>\n",
              "      <td>10</td>\n",
              "    </tr>\n",
              "  </tbody>\n",
              "</table>\n",
              "</div>"
            ],
            "text/plain": [
              "   Engagements  Followers at Posting  ... num_punct num_words\n",
              "0       502093              36984682  ...         1        15\n",
              "1       603380              36984682  ...         2        12\n",
              "2       603380              36984682  ...         2         8\n",
              "3       725100              36984682  ...         1         9\n",
              "4       661446              36984682  ...         2        10\n",
              "\n",
              "[5 rows x 31 columns]"
            ]
          },
          "metadata": {
            "tags": []
          },
          "execution_count": 35
        }
      ]
    },
    {
      "cell_type": "markdown",
      "metadata": {
        "id": "6STNqeD0Kdp0",
        "colab_type": "text"
      },
      "source": [
        "## Ideas\n",
        "\n",
        "*   Tokenize text to get NBA team's Instagram. Perform `OneHotEncoding` on names.\n",
        "*   Tokenize text to get players's Instagram. Perform `OneHotEncoding` on names. Mask names with `[TEAM]_player`.\n",
        "*   Time, i.e., before or after game, playoffs or regular.\n",
        "*   Understand how is `Engagement` generated.\n"
      ]
    },
    {
      "cell_type": "code",
      "metadata": {
        "id": "8xGm69ikCoN9",
        "colab_type": "code",
        "colab": {}
      },
      "source": [
        "get_set = False"
      ],
      "execution_count": 0,
      "outputs": []
    },
    {
      "cell_type": "code",
      "metadata": {
        "id": "uCsI7bn6c96F",
        "colab_type": "code",
        "colab": {}
      },
      "source": [
        "def get_at_sign(s):\n",
        "    try:\n",
        "      ls =  re.findall(r\"@(\\w+)\", s)\n",
        "      if get_set: return ls\n",
        "      else: return '|'.join(ls)\n",
        "    except Exception as e:\n",
        "      return ''\n",
        "  \n",
        "def get_hash(s):\n",
        "    try:\n",
        "      ls = re.findall(r\"#(\\w+)\", s)\n",
        "      if get_set: return ls\n",
        "      else: return '|'.join(ls)\n",
        "    except Exception as e:\n",
        "      return ''"
      ],
      "execution_count": 0,
      "outputs": []
    },
    {
      "cell_type": "code",
      "metadata": {
        "id": "aAoKzi--i1k2",
        "colab_type": "code",
        "outputId": "6ff697eb-85f5-49f0-f65a-43a5181b4201",
        "colab": {
          "base_uri": "https://localhost:8080/",
          "height": 52
        }
      },
      "source": [
        "%%time\n",
        "train['hashes'] = train['Description'].apply(get_hash)\n",
        "train['at_signs'] = train['Description'].apply(get_at_sign)"
      ],
      "execution_count": 38,
      "outputs": [
        {
          "output_type": "stream",
          "text": [
            "CPU times: user 26.9 ms, sys: 2.11 ms, total: 29 ms\n",
            "Wall time: 31.4 ms\n"
          ],
          "name": "stdout"
        }
      ]
    },
    {
      "cell_type": "code",
      "metadata": {
        "id": "nJuMwkWF0rH-",
        "colab_type": "code",
        "outputId": "b64426a0-4e31-4847-c1be-0710775232ca",
        "colab": {
          "base_uri": "https://localhost:8080/",
          "height": 512
        }
      },
      "source": [
        "train.head()"
      ],
      "execution_count": 39,
      "outputs": [
        {
          "output_type": "execute_result",
          "data": {
            "text/html": [
              "<div>\n",
              "<style scoped>\n",
              "    .dataframe tbody tr th:only-of-type {\n",
              "        vertical-align: middle;\n",
              "    }\n",
              "\n",
              "    .dataframe tbody tr th {\n",
              "        vertical-align: top;\n",
              "    }\n",
              "\n",
              "    .dataframe thead th {\n",
              "        text-align: right;\n",
              "    }\n",
              "</style>\n",
              "<table border=\"1\" class=\"dataframe\">\n",
              "  <thead>\n",
              "    <tr style=\"text-align: right;\">\n",
              "      <th></th>\n",
              "      <th>Engagements</th>\n",
              "      <th>Followers at Posting</th>\n",
              "      <th>Created</th>\n",
              "      <th>Type</th>\n",
              "      <th>Description</th>\n",
              "      <th>date</th>\n",
              "      <th>time</th>\n",
              "      <th>tz</th>\n",
              "      <th>date_tsfmYear</th>\n",
              "      <th>date_tsfmMonth</th>\n",
              "      <th>date_tsfmWeek</th>\n",
              "      <th>date_tsfmDay</th>\n",
              "      <th>date_tsfmDayofweek</th>\n",
              "      <th>date_tsfmDayofyear</th>\n",
              "      <th>date_tsfmIs_month_end</th>\n",
              "      <th>date_tsfmIs_month_start</th>\n",
              "      <th>date_tsfmIs_quarter_end</th>\n",
              "      <th>date_tsfmIs_quarter_start</th>\n",
              "      <th>date_tsfmIs_year_end</th>\n",
              "      <th>date_tsfmIs_year_start</th>\n",
              "      <th>date_tsfmElapsed</th>\n",
              "      <th>time_split</th>\n",
              "      <th>hour</th>\n",
              "      <th>minute</th>\n",
              "      <th>Type_Album</th>\n",
              "      <th>Type_Photo</th>\n",
              "      <th>Type_Video</th>\n",
              "      <th>num_hashes</th>\n",
              "      <th>num_at_signs</th>\n",
              "      <th>num_punct</th>\n",
              "      <th>num_words</th>\n",
              "      <th>hashes</th>\n",
              "      <th>at_signs</th>\n",
              "    </tr>\n",
              "  </thead>\n",
              "  <tbody>\n",
              "    <tr>\n",
              "      <th>0</th>\n",
              "      <td>502093</td>\n",
              "      <td>36984682</td>\n",
              "      <td>2019-05-21 23:30:51 EDT</td>\n",
              "      <td>Video</td>\n",
              "      <td>The @raptors bench trio of @sergeibaka @norman...</td>\n",
              "      <td>2019-05-21</td>\n",
              "      <td>23:30:51</td>\n",
              "      <td>EDT</td>\n",
              "      <td>2019</td>\n",
              "      <td>5</td>\n",
              "      <td>21</td>\n",
              "      <td>21</td>\n",
              "      <td>1</td>\n",
              "      <td>141</td>\n",
              "      <td>False</td>\n",
              "      <td>False</td>\n",
              "      <td>False</td>\n",
              "      <td>False</td>\n",
              "      <td>False</td>\n",
              "      <td>False</td>\n",
              "      <td>1558396800</td>\n",
              "      <td>2330</td>\n",
              "      <td>23</td>\n",
              "      <td>30</td>\n",
              "      <td>0</td>\n",
              "      <td>0</td>\n",
              "      <td>1</td>\n",
              "      <td>0</td>\n",
              "      <td>4</td>\n",
              "      <td>1</td>\n",
              "      <td>15</td>\n",
              "      <td></td>\n",
              "      <td>raptors|sergeibaka|normanpowell4|fredvanvleet</td>\n",
              "    </tr>\n",
              "    <tr>\n",
              "      <th>1</th>\n",
              "      <td>603380</td>\n",
              "      <td>36984682</td>\n",
              "      <td>2019-05-21 22:53:33 EDT</td>\n",
              "      <td>Video</td>\n",
              "      <td>@kyle_lowry7 pulls from deep for the @raptors ...</td>\n",
              "      <td>2019-05-21</td>\n",
              "      <td>22:53:33</td>\n",
              "      <td>EDT</td>\n",
              "      <td>2019</td>\n",
              "      <td>5</td>\n",
              "      <td>21</td>\n",
              "      <td>21</td>\n",
              "      <td>1</td>\n",
              "      <td>141</td>\n",
              "      <td>False</td>\n",
              "      <td>False</td>\n",
              "      <td>False</td>\n",
              "      <td>False</td>\n",
              "      <td>False</td>\n",
              "      <td>False</td>\n",
              "      <td>1558396800</td>\n",
              "      <td>2253</td>\n",
              "      <td>22</td>\n",
              "      <td>50</td>\n",
              "      <td>0</td>\n",
              "      <td>0</td>\n",
              "      <td>1</td>\n",
              "      <td>0</td>\n",
              "      <td>2</td>\n",
              "      <td>2</td>\n",
              "      <td>12</td>\n",
              "      <td></td>\n",
              "      <td>kyle_lowry7|raptors</td>\n",
              "    </tr>\n",
              "    <tr>\n",
              "      <th>2</th>\n",
              "      <td>603380</td>\n",
              "      <td>36984682</td>\n",
              "      <td>2019-05-21 22:19:58 EDT</td>\n",
              "      <td>Video</td>\n",
              "      <td>@k_mid22 with some english on the @bucks dime!</td>\n",
              "      <td>2019-05-21</td>\n",
              "      <td>22:19:58</td>\n",
              "      <td>EDT</td>\n",
              "      <td>2019</td>\n",
              "      <td>5</td>\n",
              "      <td>21</td>\n",
              "      <td>21</td>\n",
              "      <td>1</td>\n",
              "      <td>141</td>\n",
              "      <td>False</td>\n",
              "      <td>False</td>\n",
              "      <td>False</td>\n",
              "      <td>False</td>\n",
              "      <td>False</td>\n",
              "      <td>False</td>\n",
              "      <td>1558396800</td>\n",
              "      <td>2219</td>\n",
              "      <td>22</td>\n",
              "      <td>20</td>\n",
              "      <td>0</td>\n",
              "      <td>0</td>\n",
              "      <td>1</td>\n",
              "      <td>0</td>\n",
              "      <td>2</td>\n",
              "      <td>2</td>\n",
              "      <td>8</td>\n",
              "      <td></td>\n",
              "      <td>k_mid22|bucks</td>\n",
              "    </tr>\n",
              "    <tr>\n",
              "      <th>3</th>\n",
              "      <td>725100</td>\n",
              "      <td>36984682</td>\n",
              "      <td>2019-05-21 22:02:41 EDT</td>\n",
              "      <td>Video</td>\n",
              "      <td>Kawhi punches it home with the left on TNT!</td>\n",
              "      <td>2019-05-21</td>\n",
              "      <td>22:02:41</td>\n",
              "      <td>EDT</td>\n",
              "      <td>2019</td>\n",
              "      <td>5</td>\n",
              "      <td>21</td>\n",
              "      <td>21</td>\n",
              "      <td>1</td>\n",
              "      <td>141</td>\n",
              "      <td>False</td>\n",
              "      <td>False</td>\n",
              "      <td>False</td>\n",
              "      <td>False</td>\n",
              "      <td>False</td>\n",
              "      <td>False</td>\n",
              "      <td>1558396800</td>\n",
              "      <td>2202</td>\n",
              "      <td>22</td>\n",
              "      <td>0</td>\n",
              "      <td>0</td>\n",
              "      <td>0</td>\n",
              "      <td>1</td>\n",
              "      <td>0</td>\n",
              "      <td>0</td>\n",
              "      <td>1</td>\n",
              "      <td>9</td>\n",
              "      <td></td>\n",
              "      <td></td>\n",
              "    </tr>\n",
              "    <tr>\n",
              "      <th>4</th>\n",
              "      <td>661446</td>\n",
              "      <td>36984682</td>\n",
              "      <td>2019-05-21 20:47:49 EDT</td>\n",
              "      <td>Video</td>\n",
              "      <td>@giannis_an34 goes baseline early to rock the ...</td>\n",
              "      <td>2019-05-21</td>\n",
              "      <td>20:47:49</td>\n",
              "      <td>EDT</td>\n",
              "      <td>2019</td>\n",
              "      <td>5</td>\n",
              "      <td>21</td>\n",
              "      <td>21</td>\n",
              "      <td>1</td>\n",
              "      <td>141</td>\n",
              "      <td>False</td>\n",
              "      <td>False</td>\n",
              "      <td>False</td>\n",
              "      <td>False</td>\n",
              "      <td>False</td>\n",
              "      <td>False</td>\n",
              "      <td>1558396800</td>\n",
              "      <td>2047</td>\n",
              "      <td>20</td>\n",
              "      <td>50</td>\n",
              "      <td>0</td>\n",
              "      <td>0</td>\n",
              "      <td>1</td>\n",
              "      <td>0</td>\n",
              "      <td>1</td>\n",
              "      <td>2</td>\n",
              "      <td>10</td>\n",
              "      <td></td>\n",
              "      <td>giannis_an34</td>\n",
              "    </tr>\n",
              "  </tbody>\n",
              "</table>\n",
              "</div>"
            ],
            "text/plain": [
              "   Engagements  ...                                       at_signs\n",
              "0       502093  ...  raptors|sergeibaka|normanpowell4|fredvanvleet\n",
              "1       603380  ...                            kyle_lowry7|raptors\n",
              "2       603380  ...                                  k_mid22|bucks\n",
              "3       725100  ...                                               \n",
              "4       661446  ...                                   giannis_an34\n",
              "\n",
              "[5 rows x 33 columns]"
            ]
          },
          "metadata": {
            "tags": []
          },
          "execution_count": 39
        }
      ]
    },
    {
      "cell_type": "code",
      "metadata": {
        "id": "fJc3bWT3rU2w",
        "colab_type": "code",
        "colab": {}
      },
      "source": [
        "# at_signs_ls = train['at_signs'].tolist()\n",
        "# at_signs_set = set()\n",
        "\n",
        "# for doc in tqdm(at_signs_ls):\n",
        "#     for token in doc:\n",
        "#         at_signs_set.add(token)\n",
        "        \n",
        "# hashes_ls = train['hashes'].tolist()\n",
        "# hashes_set = set()\n",
        "\n",
        "# for doc in tqdm(hashes_ls):\n",
        "#     for token in doc:\n",
        "#         hashes_set.add(token)\n",
        "\n",
        "# len(at_signs_set), len(hashes_set)"
      ],
      "execution_count": 0,
      "outputs": []
    },
    {
      "cell_type": "code",
      "metadata": {
        "id": "RJcfrFQaQhli",
        "colab_type": "code",
        "colab": {}
      },
      "source": [
        "# print('len of unique hashes before removing:', hashes_mat.shape[1])\n",
        "# print('len of unique hashes after removing:', \\\n",
        "#       len(np.where(np.sum(hashes_mat.values, axis=0) > 3)[0]))\n",
        "# print('len of unique at_signs before removing:', at_signs_mat.shape[1])\n",
        "# print('len of unique at_signs after removing:', \\\n",
        "#       len(np.where(np.sum(at_signs_mat.values, axis=0) > 10)[0]))"
      ],
      "execution_count": 0,
      "outputs": []
    },
    {
      "cell_type": "markdown",
      "metadata": {
        "id": "qNzMos9qDAqa",
        "colab_type": "text"
      },
      "source": [
        "For all the `hashes` and `at_signs`, remove those that appear 3 times or fewer for `hashes` and 10 times or fewer for `at_signs`. This approach reduces the number of `hashes` from 384 to 133 and the number of `at_signs` from 848 to 159."
      ]
    },
    {
      "cell_type": "code",
      "metadata": {
        "id": "-2o-gz1DDu-t",
        "colab_type": "code",
        "colab": {}
      },
      "source": [
        "# hashes_ls = list(hashes_set)\n",
        "# idx_keep = list(np.where(np.sum(hashes_mat.values, axis=0) > 3)[0])\n",
        "# hashes_keep = [hashes_ls[i] for i in idx_keep]\n",
        "\n",
        "# at_signs_ls = list(at_signs_set)\n",
        "# idx_keep = list(np.where(np.sum(at_signs_mat.values, axis=0) > 10)[0])\n",
        "# at_signs_keep = [at_signs_ls[i] for i in idx_keep]"
      ],
      "execution_count": 0,
      "outputs": []
    },
    {
      "cell_type": "code",
      "metadata": {
        "id": "uWQNU3V6HpOt",
        "colab_type": "code",
        "colab": {}
      },
      "source": [
        "# len(at_signs_keep)\n",
        "\n",
        "# vals = [''] * len(at_signs_keep)\n",
        "\n",
        "# # vals\n",
        "\n",
        "# at_signs_dic = dict(zip(at_signs_keep, vals)) "
      ],
      "execution_count": 0,
      "outputs": []
    },
    {
      "cell_type": "code",
      "metadata": {
        "id": "SFXI916lKaUi",
        "colab_type": "code",
        "colab": {}
      },
      "source": [
        "# codes = {\n",
        "#     PHI\t76ers\n",
        "#     MIL\tBucks\n",
        "#     CHI\tBulls\n",
        "#     CLE\tCavaliers\n",
        "#     BOS\tCeltics\n",
        "#     LAC\tClippers\n",
        "#     MEM\tGrizzlies\n",
        "#     ATL\tHawks\n",
        "#     MIA\tHeat\n",
        "#     CHA\tHornets\n",
        "#     UTA\tJazz\n",
        "#     SAC\tKings\n",
        "#     NYK\tKnicks\n",
        "#     LAL\tLakers\n",
        "#     ORL\tMagic\n",
        "#     DAL\tMavericks\n",
        "#     BKN\tNets\n",
        "#     DEN\tNuggets\n",
        "#     IND\tPacers\n",
        "#     NOP\tPelicans\n",
        "#     DET\tPistons\n",
        "#     TOR\tRaptors\n",
        "#     HOU\tRockets\n",
        "#     SAS\tSpurs\n",
        "#     PHX\tSuns\n",
        "#     OKC\tThunder\n",
        "#     MIN\tTimberwolves\n",
        "#     POR\tTrailblazers\n",
        "#     GSW\tWarriors\n",
        "#     WAS\tWizards\n",
        "# }"
      ],
      "execution_count": 0,
      "outputs": []
    },
    {
      "cell_type": "code",
      "metadata": {
        "id": "ASSlMuAzKA9X",
        "colab_type": "code",
        "colab": {}
      },
      "source": [
        "# at_signs_dic = {\n",
        "#      '22wiggins': 'MIN',\n",
        "#      '24baze': 'ATL',\n",
        "#      '50mejri': 'DAL',\n",
        "#      'BlakeGriffin23': 'DET',\n",
        "#      'Cavs': 'CLE',\n",
        "#      'ESPN': 'ESPN',\n",
        "#      'GRDrive': 'DET',\n",
        "# #      'Google': '',\n",
        "# #      'MGMResortsIntl': '',\n",
        "#      'ManuGinobili': 'SAS',\n",
        "#      'MinnesotaLynx': 'MIN',\n",
        "#      'NBA2KLeague': 'NBA2KLeague',\n",
        "# #      'Ninja': '',\n",
        "#      'OKCBlue': 'OKC',\n",
        "#      'Raptors': 'TOR',\n",
        "#      'Raptors905': 'TOR',\n",
        "#      'SLCStars': 'UTA',\n",
        "#      'StephenCurry30': 'GSW',\n",
        "#      'SteveNash': 'PHX',\n",
        "#      'WNBA': 'NBA',\n",
        "#      'Warriors': 'GSW',\n",
        "#      'YgTrece': '',\n",
        "#      '_alvo_': '',\n",
        "#      '_tonyparker09': '',\n",
        "#      'aarontaos': '',\n",
        "#      'adr13nsanmiguel': '',\n",
        "#      'alhorford': '',\n",
        "#      'allie14quigs': '',\n",
        "#      'andredrummondd': '',\n",
        "#      'anthonyanderson': '',\n",
        "#      'aplayersprogram': '',\n",
        "#      'attcenter': '',\n",
        "#      'austinjmills': '',\n",
        "#      'badbunnypr': '',\n",
        "#      'beatsbydre': '',\n",
        "#      'bronzewhale': '',\n",
        "#      'btyphoto': '',\n",
        "#      'bucks': '',\n",
        "#      'caldwellpope': '',\n",
        "#      'cavs': '',\n",
        "#      'cbrickley603': '',\n",
        "#      'celtics': '',\n",
        "#      'cgray209': '',\n",
        "#      'chicagosky': '',\n",
        "#      'chiefhasarrived': '',\n",
        "#      'collinyoungbull': '',\n",
        "#      'coryjoseph': '',\n",
        "#      'cp3basketballacademy': '',\n",
        "#      'dallasmavs': '',\n",
        "#      'darrenrovell': '',\n",
        "#      'davidluiz_4': '',\n",
        "#      'deanthony_melton': '',\n",
        "#      'dequanmjones': '',\n",
        "#      'dillonbrooks24': '',\n",
        "#      'djkhaled': '',\n",
        "#      'dk2house': '',\n",
        "#      'dmillerky': '',\n",
        "#      'docrivers': '',\n",
        "#      'doedoe_10': '',\n",
        "#      'dominiquewilkins21': '',\n",
        "#      'dreamville': '',\n",
        "#      'dulenader2': '',\n",
        "#      'enikonhart': '',\n",
        "#      'evanfournier10': '',\n",
        "#      'frank_ntilikina': '',\n",
        "#      'fredvanvleet': '',\n",
        "#      'gabunion': '',\n",
        "#      'giannis_an34': '',\n",
        "#      'gorguidieng': '',\n",
        "#      'greenranger14': '',\n",
        "#      'houstonrockets': '',\n",
        "#      'iam_jamesjohnson': '',\n",
        "#      'iamjamiefoxx': '',\n",
        "#      'impjrose': '',\n",
        "#      'ipjh55': '',\n",
        "#      'isaiahthomas': '',\n",
        "#      'jasonwilliams55': '',\n",
        "#      'jbell': '',\n",
        "#      'jcamerato': '',\n",
        "#      'jcollins20_': '',\n",
        "#      'jimmybutler': '',\n",
        "#      'jjredick': '',\n",
        "#      'kareemabduljabbar_33': '',\n",
        "#      'katielou33': '',\n",
        "#      'kennethfaried35': '',\n",
        "#      'kenny': '',\n",
        "#      'kennysmith': '',\n",
        "#      'kknox_23': '',\n",
        "#      'kkorv26': '',\n",
        "#      'kobebryant': '',\n",
        "#      'la_sparks': '',\n",
        "#      'landryshamet': '',\n",
        "#      'liluzivert': '',\n",
        "#      'lonniewalkeriv': '',\n",
        "#      'lsubasketball': '',\n",
        "#      'mac11': '',\n",
        "#      'mache275': '',\n",
        "#      'magicjohnson': '',\n",
        "#      'malcolmbrogdon': '',\n",
        "#      'matrix31': '',\n",
        "#      'matthewdelly': '',\n",
        "#      'maximilian': '',\n",
        "#      'melvinjrr': '',\n",
        "#      'mentornmp': '',\n",
        "#      'meyersleonard11': '',\n",
        "#      'michaelbjordan': '',\n",
        "#      'michaeldapaah_': '',\n",
        "#      'mike_2reckless': '',\n",
        "#      'milosteodosic4': '',\n",
        "#      'moe_harkless': '',\n",
        "#      'moosemonroe15': '',\n",
        "#      'moritz_weasley': '',\n",
        "#      'mpj': '',\n",
        "#      'nbaacademy': '',\n",
        "#      'nbacoaches': '',\n",
        "#      'neweracap': '',\n",
        "#      'neymarjr': '',\n",
        "#      'nmaahc': '',\n",
        "#      'northcoastbluechips': '',\n",
        "#      'nuggets': '',\n",
        "#      'officialzhouqi': '',\n",
        "#      'okarowhite': '',\n",
        "#      'ottodayporter22': '',\n",
        "#      'panicatthedisco': '',\n",
        "#      'paugasol': '',\n",
        "#      'paulmillsap4': '',\n",
        "#      'phoenixmercury': '',\n",
        "#      'pierretpelican': '',\n",
        "#      'pskills43': '',\n",
        "#      'qcook323': '',\n",
        "#      'quavohuncho': '',\n",
        "#      'quese': '',\n",
        "#      'reemix05': '',\n",
        "#      'rmfycharlotte': '',\n",
        "#      'ruffles': '',\n",
        "#      'sap': '',\n",
        "#      'sergeibaka': '',\n",
        "#      'shabazznap13r': '',\n",
        "#      'shanelarkin_0': '',\n",
        "#      'stuffmagic': '',\n",
        "#      'sylvia_fowles': '',\n",
        "#      'taureanprince': '',\n",
        "#      'taylorbennett': '',\n",
        "#      'teddysphotos': '',\n",
        "#      'tharealjsimms': '',\n",
        "#      'the_4th_holiday': '',\n",
        "#      'therea1djones': '',\n",
        "#      'tic_pix': '',\n",
        "#      'tjmcconnell': '',\n",
        "#      'tmac213': '',\n",
        "#      'traeyoung': '',\n",
        "#      'trezz24': '',\n",
        "#      'tysonchandler': '',\n",
        "#      'uabasketball': '',\n",
        "#      'usabasketball': '',\n",
        "#      'y0bull': '',\n",
        "#      'youngheirgordon': '',\n",
        "#      'youtube': '',\n",
        "#      'yutawatanabe12': ''\n",
        "# }"
      ],
      "execution_count": 0,
      "outputs": []
    },
    {
      "cell_type": "code",
      "metadata": {
        "id": "J1Kono8bsDj2",
        "colab_type": "code",
        "colab": {}
      },
      "source": [
        "hashes_mat = train['hashes'].str.get_dummies()\n",
        "at_signs_mat = train['at_signs'].str.get_dummies()"
      ],
      "execution_count": 0,
      "outputs": []
    },
    {
      "cell_type": "code",
      "metadata": {
        "id": "jQC4KCIUQl_4",
        "colab_type": "code",
        "colab": {}
      },
      "source": [
        "# hashes_mat.shape[1], at_signs_mat.shape[1]"
      ],
      "execution_count": 0,
      "outputs": []
    },
    {
      "cell_type": "code",
      "metadata": {
        "id": "ZCEg4pPfO1Cm",
        "colab_type": "code",
        "colab": {}
      },
      "source": [
        "# top_10 = np.argsort(np.sum(hashes_mat.values, axis=0))[::-1][:10]\n",
        "# np.sum(at_signs_mat, axis=0)"
      ],
      "execution_count": 0,
      "outputs": []
    },
    {
      "cell_type": "code",
      "metadata": {
        "id": "q3oG9nnJQgF-",
        "colab_type": "code",
        "colab": {}
      },
      "source": [
        "# hashes_mat.head()\n",
        "\n",
        "# [hashes_mat.columns[c] for c in top_10]\n",
        "\n",
        "# hashes_mat.iloc[:,213]"
      ],
      "execution_count": 0,
      "outputs": []
    },
    {
      "cell_type": "code",
      "metadata": {
        "id": "Fpgk5s2v1LsH",
        "colab_type": "code",
        "colab": {}
      },
      "source": [
        "def clean_text(x):\n",
        "\n",
        "    x = str(x)\n",
        "    for punct in \"/-'\":\n",
        "        x = x.replace(punct, ' ')\n",
        "    for punct in '&':\n",
        "        x = x.replace(punct, f' {punct} ')\n",
        "    for punct in '?!.,\"#$%\\'()*+-/:;<=>@[\\\\]^_`{|}~' + '“”’':\n",
        "        x = x.replace(punct, '')\n",
        "    return x"
      ],
      "execution_count": 0,
      "outputs": []
    },
    {
      "cell_type": "code",
      "metadata": {
        "id": "w0LrZzo4Vc7D",
        "colab_type": "code",
        "colab": {}
      },
      "source": [
        "train['clean_des'] = train['Description'].apply(lambda x: clean_text(x))"
      ],
      "execution_count": 0,
      "outputs": []
    },
    {
      "cell_type": "code",
      "metadata": {
        "id": "fsOHPQ_7y7Hu",
        "colab_type": "code",
        "outputId": "05c12b8e-0ff2-4f30-fe4e-b6efeeaab67b",
        "colab": {
          "base_uri": "https://localhost:8080/",
          "height": 121
        }
      },
      "source": [
        "train['clean_des'].head()"
      ],
      "execution_count": 56,
      "outputs": [
        {
          "output_type": "execute_result",
          "data": {
            "text/plain": [
              "0    The raptors bench trio of sergeibaka normanpow...\n",
              "1    kylelowry7 pulls from deep for the raptors in ...\n",
              "2           kmid22 with some english on the bucks dime\n",
              "3           Kawhi punches it home with the left on TNT\n",
              "4    giannisan34 goes baseline early to rock the ri...\n",
              "Name: clean_des, dtype: object"
            ]
          },
          "metadata": {
            "tags": []
          },
          "execution_count": 56
        }
      ]
    },
    {
      "cell_type": "code",
      "metadata": {
        "id": "Yv_U5SvR1goZ",
        "colab_type": "code",
        "colab": {}
      },
      "source": [
        "# # def ifnone(a,b):\n",
        "# #     \"`a` if `a` is not None, otherwise `b`.\"\n",
        "# #     return b if a is None else a\n",
        "  \n",
        "# def emb_sz_rule(n_cat:int)->int: return min(600, round(1.6 * n_cat**0.56))\n",
        "\n",
        "# def def_emb_sz(classes, n, sz_dict=None):\n",
        "#     \"Pick an embedding size for `n` depending on `classes` if not given in `sz_dict`.\"\n",
        "#     sz_dict = ifnone(sz_dict, {})\n",
        "#     n_cat = len(classes[n])\n",
        "#     sz = sz_dict.get(n, int(emb_sz_rule(n_cat)))  # rule of thumb\n",
        "#     return n_cat,sz\n",
        "  \n",
        "# def get_emb_szs(sz_dict=None):\n",
        "#     \"Return the default embedding sizes suitable for this data or takes the ones in `sz_dict`.\"\n",
        "#     return [def_emb_sz(classes, n, sz_dict) for n in cat_names]  \n",
        "\n",
        "# emb_sz_rule(384), emb_sz_rule(848)"
      ],
      "execution_count": 0,
      "outputs": []
    },
    {
      "cell_type": "code",
      "metadata": {
        "id": "PlG8248QQY86",
        "colab_type": "code",
        "colab": {}
      },
      "source": [
        "# def_emb_sz(384, 7766)\n",
        "\n",
        "# classes = ['car', 'plane', 'jet']\n",
        "\n",
        "# labels = [0, 1, 1, 0, 0]\n",
        "\n",
        "# X = ['car', 'plans', 'jet', 'plane', 'jet']\n",
        "\n",
        "# def_emb_sz(X, 3)\n",
        "\n",
        "# get_emb_szs()"
      ],
      "execution_count": 0,
      "outputs": []
    },
    {
      "cell_type": "code",
      "metadata": {
        "id": "VInBb29VQq8-",
        "colab_type": "code",
        "colab": {}
      },
      "source": [
        "# X = np.random.rand(hashes_mat.shape[1], emb_sz_rule(hashes_mat.shape[1]))"
      ],
      "execution_count": 0,
      "outputs": []
    },
    {
      "cell_type": "code",
      "metadata": {
        "id": "5OgcTLV-f2Bk",
        "colab_type": "code",
        "colab": {}
      },
      "source": [
        "# X.shape"
      ],
      "execution_count": 0,
      "outputs": []
    },
    {
      "cell_type": "code",
      "metadata": {
        "id": "pJ6tJNjpSVJo",
        "colab_type": "code",
        "colab": {}
      },
      "source": [
        "# train_data_X[0]"
      ],
      "execution_count": 0,
      "outputs": []
    },
    {
      "cell_type": "code",
      "metadata": {
        "id": "wheKjP-8Sr-y",
        "colab_type": "code",
        "colab": {}
      },
      "source": [
        ""
      ],
      "execution_count": 0,
      "outputs": []
    }
  ]
}